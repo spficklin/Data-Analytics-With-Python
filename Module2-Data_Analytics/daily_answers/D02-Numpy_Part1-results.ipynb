{
 "cells": [
  {
   "cell_type": "markdown",
   "metadata": {},
   "source": [
    "# Lesson 1 Class Exercises: NumPy Part 1"
   ]
  },
  {
   "cell_type": "code",
   "execution_count": null,
   "metadata": {},
   "outputs": [],
   "source": [
    "import numpy as np"
   ]
  },
  {
   "cell_type": "markdown",
   "metadata": {},
   "source": [
    "## Exercise #1\n",
    "\n",
    "Write Python code to generate five random numbers from the normal distribution. \n",
    "\n",
    "Look at the online documentation for [NumPy random number generators](https://docs.scipy.org/doc/numpy-1.15.0/reference/routines.random.html)"
   ]
  },
  {
   "cell_type": "code",
   "execution_count": null,
   "metadata": {},
   "outputs": [],
   "source": [
    "x = np.random.normal(size=5) \n",
    "print(x)"
   ]
  },
  {
   "cell_type": "markdown",
   "metadata": {},
   "source": [
    "## Exercise #2\n",
    "Write Python code to generate six random integers between 10 and 30\n",
    "\n",
    "Look at the online documentation for [NumPy random number generators](https://docs.scipy.org/doc/numpy-1.15.0/reference/routines.random.html)"
   ]
  },
  {
   "cell_type": "code",
   "execution_count": null,
   "metadata": {},
   "outputs": [],
   "source": [
    "x = np.random.normal(size=5) \n",
    "print(x)"
   ]
  },
  {
   "cell_type": "markdown",
   "metadata": {},
   "source": [
    "## Exercise #3\n",
    "Write Python code to \n",
    "+ create a 5x5 array with random values\n",
    "+ print the array,  \n",
    "+ find and print the minimum and maximum values.\n"
   ]
  },
  {
   "cell_type": "code",
   "execution_count": null,
   "metadata": {},
   "outputs": [],
   "source": [
    "x = np.random.random((5,5)) \n",
    "print(\"Original Array:\") \n",
    "print(x) \n",
    "print(\"Minimum and Maximum Values:\") \n",
    "print(x.min(), x.max())"
   ]
  },
  {
   "cell_type": "markdown",
   "metadata": {},
   "source": [
    "## Exercise #4\n",
    "Write code using NumPy that would create a grid that could be used for the game of life.  Follow these criteria\n",
    "+ the grid must have 30 rows and 80 columns\n",
    "+ it must be initalized to zeros.\n",
    "+ print the grid dimensions to prove its size.\n",
    "+ print the grid to show it is initalized to zeros."
   ]
  },
  {
   "cell_type": "code",
   "execution_count": null,
   "metadata": {},
   "outputs": [],
   "source": [
    "grid = np.zeros((30,80))\n",
    "print(grid.shape)\n",
    "print(grid)"
   ]
  },
  {
   "cell_type": "markdown",
   "metadata": {},
   "source": [
    "## Exercise #5\n",
    "Read the documentation about [genfromtxt()](https://docs.scipy.org/doc/numpy/reference/generated/numpy.genfromtxt.html) function of NumPy.  What does it do?  Do you understand what the arguments do?\n",
    "\n",
    "A file has been provided to you named data2.txt.  Be sure to place it in the same folder with this notebook.  It contains the following text:\n",
    "\n",
    "```\n",
    "Value1,Value2,Value3 \n",
    "0.4839,0.4536,0.3561 \n",
    "0.1292,0.6875,NA \n",
    "0.1781,0.3049,0.8928 \n",
    "NA,0.5801,0.2038 \n",
    "0.5993,0.4357,0.7410\n",
    "```\n",
    "Notice it has missing values.  Write some code that \n",
    "+ uses the `genfromtxt` function to read in this file into a numpy array.\n",
    "+ prints the resulting array."
   ]
  },
  {
   "cell_type": "code",
   "execution_count": null,
   "metadata": {},
   "outputs": [],
   "source": [
    "arr = np.genfromtxt('../data/data2.txt', delimiter=',', usemask=True, skip_header=1, missing_values = \"NA,0\")\n",
    "print(arr)"
   ]
  },
  {
   "cell_type": "markdown",
   "metadata": {},
   "source": [
    "## Exercise #6\n",
    "Write some code that\n",
    "+ Creates an array of 100 rows and 10 columns filled with random values between 0 and 1\n",
    "+ Print the first 10 rows of the matrix (e.g. `array[0:10]`)\n",
    "+ Caculate the following statistics about each row and column\n",
    "  + mean, variance, standard deviation and quartiles of each row.\n",
    "  + print these values."
   ]
  },
  {
   "cell_type": "code",
   "execution_count": null,
   "metadata": {},
   "outputs": [],
   "source": [
    "x = np.random.random((100,10))\n",
    "\n",
    "print(x[0:10])\n",
    "\n",
    "mean = np.mean(x,0)\n",
    "print(\"Mean: \", end = \"\")\n",
    "print(mean)\n",
    "print()\n",
    "\n",
    "var = np.var(x,0)\n",
    "print(\"Variance: \", end = \"\")\n",
    "print(var)\n",
    "print()\n",
    "\n",
    "std = np.std(x,0)\n",
    "print(\"Std. Dev.: \", end = \"\")\n",
    "print(std)\n",
    "print()\n",
    "\n",
    "qtl = np.quantile(x,(0.25, 0.5, 0.75, 1))\n",
    "print(\"Quantiles: \", end = \"\")\n",
    "print(qtl)\n",
    "print()"
   ]
  },
  {
   "cell_type": "markdown",
   "metadata": {},
   "source": [
    "## Exercise #7\n",
    "Write code that \n",
    "+ Create an array of 100 rows and 10 columns of integer values with the minimum number 0 and the maximum 10,000\n",
    "+ Print the first 10 rows of the matrix (e.g. `array[0:10]`)\n",
    "+ Calculate values for a histogram with 10 bins. \n",
    "    + save in one variable the values of each bin\n",
    "    + save in another variable the value at the left edge of the bin."
   ]
  },
  {
   "cell_type": "code",
   "execution_count": null,
   "metadata": {},
   "outputs": [],
   "source": [
    "a1 = np.random.randint(0, 10000, (100,10))\n",
    "print(\"Top 10 Rows:\")\n",
    "print(a1[0:10,])\n",
    "print()\n",
    "\n",
    "hist, bin_edges = np.histogram(a1)\n",
    "print(\"Histogram Values:\")\n",
    "print(hist)\n",
    "print(\"Bin Names\")\n",
    "print(bin_edges)"
   ]
  },
  {
   "cell_type": "markdown",
   "metadata": {},
   "source": [
    "## Exercise #8\n",
    "Write code that \n",
    "\n",
    "- Generates a matrix with 100 rows and 100 columns initialized with random integers between 0 and 100.\n",
    "- Perform a Pearson's correlation of each row with every other row"
   ]
  },
  {
   "cell_type": "code",
   "execution_count": null,
   "metadata": {},
   "outputs": [],
   "source": [
    "a1 = np.random.randint(0, 10000, (100, 100))\n",
    "np.corrcoef(a1)"
   ]
  }
 ],
 "metadata": {
  "kernelspec": {
   "display_name": "Python 3 (ipykernel)",
   "language": "python",
   "name": "python3"
  },
  "language_info": {
   "codemirror_mode": {
    "name": "ipython",
    "version": 3
   },
   "file_extension": ".py",
   "mimetype": "text/x-python",
   "name": "python",
   "nbconvert_exporter": "python",
   "pygments_lexer": "ipython3",
   "version": "3.9.13"
  }
 },
 "nbformat": 4,
 "nbformat_minor": 4
}
