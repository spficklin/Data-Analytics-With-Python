{
 "cells": [
  {
   "cell_type": "markdown",
   "metadata": {},
   "source": [
    "# Lesson 2 Class Exercises: NumPy Part 2"
   ]
  },
  {
   "cell_type": "markdown",
   "metadata": {},
   "source": [
    "For these exercises we will use a rather famous set of data from [iris flowers](https://en.wikipedia.org/wiki/Iris_flower_data_set).  The dataset will be provided to you.   Here's a peak at what it looks like:\n",
    "\n",
    "```\n",
    "sepal_length,sepal_width,petal_length,petal_width,species\n",
    "5.1,3.5,1.4,0.2,setosa\n",
    "4.9,3.0,1.4,0.2,setosa\n",
    "4.7,3.2,1.3,0.2,setosa\n",
    "4.6,3.1,1.5,0.2,setosa\n",
    "5.0,3.6,1.4,0.2,setosa\n",
    "```\n",
    "Notice that the first 4 columns are numerical representing sepal length, sepal width, petal length and petal width. The last column is a string.  \n",
    "\n",
    "But first, let's import Numpy."
   ]
  },
  {
   "cell_type": "code",
   "execution_count": null,
   "metadata": {},
   "outputs": [],
   "source": [
    "import numpy as np"
   ]
  },
  {
   "cell_type": "markdown",
   "metadata": {},
   "source": [
    "## Exercise 1: Data Import\n",
    "Import the Iris dataset and list the dimensions of the numpy matrix after importing to ensure it's the correct size. \n",
    "\n",
    "Hints \n",
    "+ Use the `genfromtxt` function of NumPy\n",
    "+ Remember Numpy arrays must be all of the same data type. \n",
    "+ If you give the wrong arguments you may be reading in the file as a 1D array of tuples rather than a 2D array of values.\n",
    "+ This file has a header row."
   ]
  },
  {
   "cell_type": "code",
   "execution_count": null,
   "metadata": {},
   "outputs": [],
   "source": [
    "iris = np.genfromtxt('../data/iris.csv', delimiter=',', dtype='float', skip_header=1, usecols=[0,1,2,3])\n",
    "iris.shape"
   ]
  },
  {
   "cell_type": "markdown",
   "metadata": {},
   "source": [
    "## Exercise 2: Indexing & Slicing\n",
    "### Task 1"
   ]
  },
  {
   "cell_type": "markdown",
   "metadata": {},
   "source": [
    "Print the top 5 lines of the iris matrix."
   ]
  },
  {
   "cell_type": "code",
   "execution_count": null,
   "metadata": {},
   "outputs": [],
   "source": [
    "print(iris[0:5])"
   ]
  },
  {
   "cell_type": "markdown",
   "metadata": {},
   "source": [
    "Retrieve the first element of the first row"
   ]
  },
  {
   "cell_type": "code",
   "execution_count": null,
   "metadata": {},
   "outputs": [],
   "source": [
    "iris[0,0]"
   ]
  },
  {
   "cell_type": "markdown",
   "metadata": {},
   "source": [
    "Retrieve the first column of the first five rows of the matrix"
   ]
  },
  {
   "cell_type": "code",
   "execution_count": null,
   "metadata": {},
   "outputs": [],
   "source": [
    "iris[0:5, 0:1]"
   ]
  },
  {
   "cell_type": "markdown",
   "metadata": {},
   "source": [
    "Retrieve the last 2 cells of the last row and the last 2 cells of the second-to-last row of the iris matrix (i.e. the 4 cells in the bottom-right corner of the matrix)"
   ]
  },
  {
   "cell_type": "code",
   "execution_count": null,
   "metadata": {},
   "outputs": [],
   "source": [
    "iris[-2:,-2:]"
   ]
  },
  {
   "cell_type": "markdown",
   "metadata": {},
   "source": [
    "Identify all values in the matrix that are greater than 4 and those that are not"
   ]
  },
  {
   "cell_type": "code",
   "execution_count": null,
   "metadata": {},
   "outputs": [],
   "source": [
    "iris > 4"
   ]
  },
  {
   "cell_type": "markdown",
   "metadata": {},
   "source": [
    "Retrieve all values in the matrix that are greater than 4"
   ]
  },
  {
   "cell_type": "code",
   "execution_count": null,
   "metadata": {},
   "outputs": [],
   "source": [
    "iris[iris > 4]"
   ]
  },
  {
   "cell_type": "markdown",
   "metadata": {},
   "source": [
    "### Task 3\n",
    "Retrieve all rows that have at least one value greater than 4"
   ]
  },
  {
   "cell_type": "code",
   "execution_count": null,
   "metadata": {},
   "outputs": [],
   "source": [
    "iris[np.sum(iris > 4, axis=1) > 1,]"
   ]
  },
  {
   "cell_type": "markdown",
   "metadata": {},
   "source": [
    "### Task 4"
   ]
  },
  {
   "cell_type": "markdown",
   "metadata": {},
   "source": [
    "Write code to create a new 5 _x_ 5, 2D array that looks like the following:\n",
    "```python\n",
    "    [[ 1. 2. 3. 4. 5.]\n",
    "     [ 1. 2. 3. 4. 5.]\n",
    "     [ 1. 2. 3. 4. 5.]\n",
    "     [ 1. 2. 3. 4. 5.]\n",
    "     [ 1. 2. 3. 4. 5.]]\n",
    "```   \n",
    "Try to create this matrix using these functions:\n",
    "- `np.arange()`\n",
    "- `np.zero()`\n",
    "- `np.reshape()`"
   ]
  },
  {
   "cell_type": "code",
   "execution_count": null,
   "metadata": {},
   "outputs": [],
   "source": [
    "x = np.arange(1,6)\n",
    "y = np.zeros(5).reshape(5,1)\n",
    "arr = x + y\n",
    "print(arr)"
   ]
  },
  {
   "cell_type": "markdown",
   "metadata": {},
   "source": [
    "Replace all elements in the array that have a value of 4 with the value 0:\n",
    "```python\n",
    "    [[ 1. 2. 3. 0. 5.]\n",
    "     [ 1. 2. 3. 0. 5.]\n",
    "     [ 1. 2. 3. 0. 5.]\n",
    "     [ 1. 2. 3. 0. 5.]\n",
    "     [ 1. 2. 3. 0. 5.]]\n",
    "```   "
   ]
  },
  {
   "cell_type": "code",
   "execution_count": null,
   "metadata": {},
   "outputs": [],
   "source": [
    "arr[arr == 4] = 0\n",
    "print(arr)"
   ]
  },
  {
   "cell_type": "markdown",
   "metadata": {},
   "source": [
    "Extract the inner matrix (no border rows and columns).  Hint: you can use negative indexing."
   ]
  },
  {
   "cell_type": "code",
   "execution_count": null,
   "metadata": {},
   "outputs": [],
   "source": [
    "arr[1:-1,1:-1] "
   ]
  },
  {
   "cell_type": "markdown",
   "metadata": {},
   "source": [
    "Write code to create a new 5 _x_ 5, 2D array with 1 on the border and 0 inside.  Without using for loops.  Output example:\n",
    "```python\n",
    "    [[ 1. 1. 1. 1. 1.]\n",
    "     [ 1. 0. 0. 0. 1.]\n",
    "     [ 1. 0. 0. 0. 1.]\n",
    "     [ 1. 0. 0. 0. 1.]\n",
    "     [ 1. 1. 1. 1. 1.]]\n",
    "```    \n",
    "Hint:\n",
    "- Use the `np.ones()` function\n",
    "- Use indexing"
   ]
  },
  {
   "cell_type": "code",
   "execution_count": null,
   "metadata": {},
   "outputs": [],
   "source": [
    "x = np.ones((5,5)) \n",
    "print(\"Original array:\") \n",
    "print(x) \n",
    "print(\"1 on the border and 0 inside in the array\") \n",
    "x[1:-1,1:-1] = 0 \n",
    "print(x)"
   ]
  },
  {
   "cell_type": "markdown",
   "metadata": {},
   "source": [
    "## Exercise 3 \n",
    "Putting Things Together (NumPy Parts 1 & 2). "
   ]
  },
  {
   "cell_type": "markdown",
   "metadata": {},
   "source": [
    "### Task 1\n",
    "Calculate and print the mean, median and standard deviation of the sepal length"
   ]
  },
  {
   "cell_type": "code",
   "execution_count": null,
   "metadata": {},
   "outputs": [],
   "source": [
    "print(np.mean(iris[:,0]))\n",
    "print(np.median(iris[:,0]))\n",
    "print(np.std(iris[:,0]))"
   ]
  },
  {
   "cell_type": "markdown",
   "metadata": {},
   "source": [
    "### Task 2\n",
    "Normalize the sepal length column so that all valus are between 0 and 1 such that the minimum value is 0 and the maximum is 1. Print the results."
   ]
  },
  {
   "cell_type": "code",
   "execution_count": null,
   "metadata": {},
   "outputs": [],
   "source": [
    "sl_max = iris[:,0].max()\n",
    "sl_min = iris[:,0].min()\n",
    "sl_norm = (iris[:,0] - sl_min)/(sl_max - sl_min)\n",
    "print(sl_norm)"
   ]
  },
  {
   "cell_type": "markdown",
   "metadata": {},
   "source": [
    "### Task 3\n",
    "Find the Pearson's correlation coefficient between sepal length and petal length."
   ]
  },
  {
   "cell_type": "code",
   "execution_count": null,
   "metadata": {},
   "outputs": [],
   "source": [
    "np.corrcoef(iris[:,0], iris[:,1])"
   ]
  },
  {
   "cell_type": "markdown",
   "metadata": {},
   "source": [
    "### Task 4\n",
    "Get a list of unique values from the sepal length column"
   ]
  },
  {
   "cell_type": "code",
   "execution_count": null,
   "metadata": {},
   "outputs": [],
   "source": [
    "np.unique(iris[:,0])"
   ]
  },
  {
   "cell_type": "markdown",
   "metadata": {},
   "source": [
    "### Task 5"
   ]
  },
  {
   "cell_type": "markdown",
   "metadata": {},
   "source": [
    "Retrieve 5 random rows from the iris matrix"
   ]
  },
  {
   "cell_type": "code",
   "execution_count": null,
   "metadata": {},
   "outputs": [],
   "source": [
    "low = 0\n",
    "high = iris.shape[0]\n",
    "iris[np.random.randint(low, high, 5),]"
   ]
  },
  {
   "cell_type": "markdown",
   "metadata": {},
   "source": [
    "### Task 6"
   ]
  },
  {
   "cell_type": "markdown",
   "metadata": {},
   "source": [
    "Retrieve 5 random values from the iris matrix and store them in a new NumPy array\n"
   ]
  },
  {
   "cell_type": "code",
   "execution_count": null,
   "metadata": {},
   "outputs": [],
   "source": [
    "low = 0\n",
    "high = iris.shape[0]\n",
    "indexes = np.random.randint(low, high, 5)\n",
    "selection = np.zeros(5)\n",
    "i = 0\n",
    "for j in indexes:\n",
    "    selection[i] = np.random.choice(iris[i,], 1, replace=False)\n",
    "    i += 1\n",
    "selection"
   ]
  },
  {
   "cell_type": "markdown",
   "metadata": {},
   "source": [
    "## Exercise 4: Transpose"
   ]
  },
  {
   "cell_type": "markdown",
   "metadata": {},
   "source": [
    "Transpose the iris array, save it into a new variable, and prints it's shape to confirm"
   ]
  },
  {
   "cell_type": "code",
   "execution_count": null,
   "metadata": {},
   "outputs": [],
   "source": [
    "irisT = np.transpose(iris)\n",
    "irisT.shape"
   ]
  },
  {
   "cell_type": "markdown",
   "metadata": {},
   "source": [
    "## Exercise 5:  Resize"
   ]
  },
  {
   "cell_type": "markdown",
   "metadata": {},
   "source": [
    "Use the `resize` function to expand the iris dataset to add 5 new rows, save it in a new variable. Print it's dimensions to confirm"
   ]
  },
  {
   "cell_type": "code",
   "execution_count": null,
   "metadata": {},
   "outputs": [],
   "source": [
    "iris2 = np.resize(iris, (155, 4))\n",
    "iris2.shape"
   ]
  },
  {
   "cell_type": "markdown",
   "metadata": {},
   "source": [
    "Print the last five rows of the matrix"
   ]
  },
  {
   "cell_type": "code",
   "execution_count": null,
   "metadata": {},
   "outputs": [],
   "source": [
    "iris2[-5:,]"
   ]
  },
  {
   "cell_type": "markdown",
   "metadata": {},
   "source": [
    "## Exercise 6: Putting Things Together"
   ]
  },
  {
   "cell_type": "markdown",
   "metadata": {},
   "source": [
    "Fill the last 5 rows of the newly resized array with random numbers between 10 and 20, and print the last 5 rows of the matrix to confirm"
   ]
  },
  {
   "cell_type": "code",
   "execution_count": null,
   "metadata": {},
   "outputs": [],
   "source": [
    "for i in range(150, 155, 1):\n",
    "    iris2[i, ] = (np.random.rand(4) * 10) + 10\n",
    "iris2[-5:,]"
   ]
  },
  {
   "cell_type": "markdown",
   "metadata": {},
   "source": [
    "## Exercise 7: Append"
   ]
  },
  {
   "cell_type": "markdown",
   "metadata": {},
   "source": [
    "Use the `append` function to add five new rows of random numbers between 30 and 40. Save the new matrix in a new variable. Print the last 5 rows to confirm"
   ]
  },
  {
   "cell_type": "code",
   "execution_count": null,
   "metadata": {},
   "outputs": [],
   "source": [
    "iris3 = np.append(iris, np.random.rand(5, 4) * 10 + 30, axis=0)\n",
    "iris3[-5:,]"
   ]
  },
  {
   "cell_type": "markdown",
   "metadata": {},
   "source": [
    "## Exercise 8: Insert"
   ]
  },
  {
   "cell_type": "markdown",
   "metadata": {},
   "source": [
    "Insert a row of random numbers between 40 and 50 in the second row position of the iris matrix store the value in a new variable.  Print the first 5 rows to confirm"
   ]
  },
  {
   "cell_type": "code",
   "execution_count": null,
   "metadata": {},
   "outputs": [],
   "source": [
    "iris5 = np.insert(iris, 2, np.random.rand(4) * 10 + 40,  axis=0)\n",
    "iris5[0:5,]"
   ]
  },
  {
   "cell_type": "markdown",
   "metadata": {},
   "source": [
    "## Exercise 9: Delete"
   ]
  },
  {
   "cell_type": "markdown",
   "metadata": {},
   "source": [
    "Delete the row just added and print the first 5 rows to confirm"
   ]
  },
  {
   "cell_type": "code",
   "execution_count": null,
   "metadata": {},
   "outputs": [],
   "source": [
    "iris5 = np.delete(iris5,2, axis=0)\n",
    "iris5[0:5,]"
   ]
  },
  {
   "cell_type": "markdown",
   "metadata": {},
   "source": [
    "## Exersize 10: Putting things Together"
   ]
  },
  {
   "cell_type": "markdown",
   "metadata": {},
   "source": [
    "Remove all rows where all the values in the row are greater than 2 and save in a new array. Print the shape to confirm (should loose 23 rows). Hint: this is a trick question (you wont use the `delete` function to do this)."
   ]
  },
  {
   "cell_type": "code",
   "execution_count": null,
   "metadata": {},
   "outputs": [],
   "source": [
    "iris5 = iris[np.invert((np.sum(iris > 2, axis=1) == 4)),]\n",
    "iris5.shape"
   ]
  },
  {
   "cell_type": "code",
   "execution_count": null,
   "metadata": {},
   "outputs": [],
   "source": []
  }
 ],
 "metadata": {
  "kernelspec": {
   "display_name": "Python 3 (ipykernel)",
   "language": "python",
   "name": "python3"
  },
  "language_info": {
   "codemirror_mode": {
    "name": "ipython",
    "version": 3
   },
   "file_extension": ".py",
   "mimetype": "text/x-python",
   "name": "python",
   "nbconvert_exporter": "python",
   "pygments_lexer": "ipython3",
   "version": "3.9.13"
  }
 },
 "nbformat": 4,
 "nbformat_minor": 4
}
