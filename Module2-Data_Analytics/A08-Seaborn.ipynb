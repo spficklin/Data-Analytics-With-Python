{
 "cells": [
  {
   "cell_type": "markdown",
   "metadata": {},
   "source": [
    "# Assignment 8: Seaborn"
   ]
  },
  {
   "cell_type": "markdown",
   "metadata": {},
   "source": [
    "## Learning Objectives\n",
    "This lesson meets the following learning objectives:\n",
    "\n",
    "- The ability to visualize data using Seaborn."
   ]
  },
  {
   "cell_type": "markdown",
   "metadata": {},
   "source": [
    "## Instructions\n",
    "Read through all of the text in this page. This assignment provides step-by-step training divided into numbered sections. The sections often contain embeded exectable code for demonstration.  Section headers with icons have special meanings:  \n",
    "\n",
    "- <i class=\"fas fa-puzzle-piece\"></i> The puzzle icon indicates that the section provides a practice exercise that must be completed.  Follow the instructions for the exercise and do what it asks.  Exercises must be turned in for credit.\n",
    "- <i class=\"fa fa-cogs\"></i> The cogs icon indicates that the section provides a task to perform.  Follow the instructions to complete the task.  Tasks are not turned in for credit but must be completed to continue progress.\n",
    "\n",
    "Review the list of items in the **Expected Outcomes** section to check that you feel comfortable with the material you just learned. If you do not, then take some time to re-review that material again. If after re-review you are not comfortable, do not feel confident or do not understand the material, please ask questions on Slack to help.\n",
    "\n",
    "Follow the instructions in the **What to turn in** section to turn in the exercises of the assginment for course credit.\n"
   ]
  },
  {
   "cell_type": "markdown",
   "metadata": {},
   "source": [
    "## Background\n",
    "\n",
    "[Seaborn](https://seaborn.pydata.org/) is a statistical data vizualization library based on `matplotlib` that provides a higher-level interface. This library is extremely useful for producing 'standard' or otherwise common plots. It is a collection of plotting functions written using `matplotlib`.\n",
    "\n",
    "This notebook will be based on the [official seaborn tutorial](https://seaborn.pydata.org/tutorial.html)"
   ]
  },
  {
   "cell_type": "markdown",
   "metadata": {},
   "source": [
    "## <i class=\"fa fa-cogs\"></i> Notebook Setup\n",
    "Before we get started we need to import the `seaborn`, `pandas`, `numpy` and `matplotlib` packages."
   ]
  },
  {
   "cell_type": "code",
   "execution_count": null,
   "metadata": {},
   "outputs": [],
   "source": [
    "import numpy as np\n",
    "import pandas as pd\n",
    "import matplotlib.pyplot as plt\n",
    "import seaborn as sns\n",
    "\n",
    "%matplotlib inline"
   ]
  },
  {
   "cell_type": "markdown",
   "metadata": {},
   "source": [
    "## 1. Seaborn Introduction\n",
    "\n",
    "The API to `seaborn` contains functions for mulitple types of plots including: relational, scatter, line, a variety for categorical data, distributions, regressions, and heatmaps. In addition it provides some functions for creating color palettes. You can see a complete list on functions on the [API Reference page](https://seaborn.pydata.org/api.html).\n",
    "\n",
    "Seaborn provides an [example gallary](https://seaborn.pydata.org/examples/index.html) of plots.  As an example, we've been working with the iris dataset in the previous tutorials.  Below is an example of a plot created by Seaborn displaying all pair-wise scatterplots of the iris dataset:\n",
    "\n",
    "![seaborn iris plot](./media/A08-seaborn-pairplot-4.png)"
   ]
  },
  {
   "cell_type": "markdown",
   "metadata": {},
   "source": [
    "Seaborn comes with a few demo datasets that can be used to practice working with the package. These can be disovered by calling the `get_dataset_names` function. *Note:* You may receive a warning message about parsing HTML. It is safe to ignore this message so long as you recieve the list of datasets."
   ]
  },
  {
   "cell_type": "code",
   "execution_count": null,
   "metadata": {},
   "outputs": [],
   "source": [
    "sns.get_dataset_names()"
   ]
  },
  {
   "cell_type": "markdown",
   "metadata": {},
   "source": [
    "Observe that the iris dataset we've been using recently is included!  You can load any dataset you want to practice with using the `load_dataset` function. For example, to view the iris dataset:"
   ]
  },
  {
   "cell_type": "code",
   "execution_count": null,
   "metadata": {},
   "outputs": [],
   "source": [
    "iris_df = sns.load_dataset('iris')\n",
    "iris_df.head(5)"
   ]
  },
  {
   "cell_type": "markdown",
   "metadata": {},
   "source": [
    "And another dataset containing restaurant tip data:"
   ]
  },
  {
   "cell_type": "code",
   "execution_count": null,
   "metadata": {},
   "outputs": [],
   "source": [
    "tips = sns.load_dataset('tips')\n",
    "tips.head(5)"
   ]
  },
  {
   "cell_type": "markdown",
   "metadata": {},
   "source": [
    "Seaborn helps us achieve beautiful plots using both Pandas and Matplotlib but with much fewer lines of code.  The first function listed in both the Seaborn tutorial and the API documenation is `relplot`. Our dive into Seaborn will begin there.  To demonstrate this function, we can recreate the pair-wise scatterplot ahoqn above with the following single line of code:"
   ]
  },
  {
   "cell_type": "code",
   "execution_count": null,
   "metadata": {},
   "outputs": [],
   "source": [
    "sns.pairplot(iris_df, hue=\"species\", markers=[\"o\", \"s\", \"D\"])"
   ]
  },
  {
   "cell_type": "markdown",
   "metadata": {},
   "source": [
    "### 1.1. <i class=\"fas fa-puzzle-piece\"></i> Practice\n",
    "\n",
    "In the cell below notebook, perform the following.\n",
    "\n",
    "+ View available datasets by calling `sns.get_dataset_names`.\n",
    "+ Choose one of those datasets and explore it.\n",
    "  + What is the shape?\n",
    "  + What are the columns?\n",
    "  + What are the data types?\n",
    "  + Are there missing values?\n",
    "  + Are there duplicated rows?\n",
    "  + For categorical columns find the unique set of categories.\n",
    "  + Is the data tidy? "
   ]
  },
  {
   "cell_type": "code",
   "execution_count": null,
   "metadata": {},
   "outputs": [],
   "source": []
  },
  {
   "cell_type": "markdown",
   "metadata": {},
   "source": [
    "### 1.2. <i class=\"fas fa-cogs\"></i> Explore\n",
    "\n",
    "Take some time to peruse the Seaborn [example gallery](https://seaborn.pydata.org/examples/index.html).  In the cell below, indicate which plot types are most interesting to you. Which do you expect will be most useful with current research projects you may be working on?"
   ]
  },
  {
   "cell_type": "raw",
   "metadata": {},
   "source": []
  },
  {
   "cell_type": "markdown",
   "metadata": {},
   "source": [
    "## 2. Visualizing Relationships\n",
    "\n",
    "***Note:*** The following instructions are derived from Seaborn's \n",
    "[Visualization statistical relationships](https://seaborn.pydata.org/tutorial/relational.html) page.\n",
    "\n",
    "Seaborn provides three functions for plotting relationships between data: `relplot`, `scatterplot` and `lineplot`.  In practice, we can use the `replot` function to create both scatterplots and line plots. By default it provides a scatterplot.\n",
    "\n",
    "To use `relplot` we must provide the following arguments:\n",
    "\n",
    "+ data:  the nmae of the dataframe that contains data from which the relationships should be plotted.\n",
    "+ x:  the name of the column in the dataframe that contains the x-axis values.\n",
    "+ y:  the name of the column in the dataframe that contains the y-axis values.\n",
    "\n",
    "\n",
    "As an example, let's plot the tips data provided by Seaborn using the `relplot` function. We imported the data in section 2, therefore, as a reminder, let's examine the data:"
   ]
  },
  {
   "cell_type": "code",
   "execution_count": null,
   "metadata": {},
   "outputs": [],
   "source": [
    "tips.head()"
   ]
  },
  {
   "cell_type": "markdown",
   "metadata": {},
   "source": [
    "Now, let's plot the default scatterplot of the tip and total bill values:"
   ]
  },
  {
   "cell_type": "code",
   "execution_count": null,
   "metadata": {},
   "outputs": [],
   "source": [
    "sns.relplot(x=\"total_bill\", y=\"tip\", data=tips);"
   ]
  },
  {
   "cell_type": "markdown",
   "metadata": {},
   "source": [
    "### 2.1 The `hue` semantic\n",
    "\n",
    "Scatterplots only show relationships between two variables, but it is often useful to display other dimensions and these can be shown using colors.  We can highlight a 3rd dimension using hte `hue` argument of `relplot`. The tutorial notes:\n",
    "\n",
    "> While the points are plotted in two dimensions, another dimension can be added to the plot by coloring the points according to a third variable. In seaborn, this is referred to as using a “hue semantic”, because the color of the point gains meaning:\n",
    "\n",
    "To examine if there is a relationship between men and women who tip, we can add the `hue` argument and set that to be the label for the `sex` column of tips dataframe:"
   ]
  },
  {
   "cell_type": "code",
   "execution_count": null,
   "metadata": {},
   "outputs": [],
   "source": [
    "sns.relplot(x=\"total_bill\", y=\"tip\", hue=\"sex\", data=tips)"
   ]
  },
  {
   "cell_type": "markdown",
   "metadata": {},
   "source": [
    "### 2.2  The `style` semantic\n",
    "\n",
    "Additional dimensions of the data can be shown using the `style` argument of `relplot`.  It works in the same was as the `hue` argument but instead changes the style of the points in the plot.  The tutorial notes:\n",
    "\n",
    "> To emphasize the difference between the classes, and to improve accessibility, you can use a different marker style for each class:\n",
    "\n",
    "Let's change the style of the points dependent if the tipper is a smoker or not:"
   ]
  },
  {
   "cell_type": "code",
   "execution_count": null,
   "metadata": {},
   "outputs": [],
   "source": [
    "sns.relplot(x=\"total_bill\", y=\"tip\", style=\"smoker\", data=tips);"
   ]
  },
  {
   "cell_type": "markdown",
   "metadata": {},
   "source": [
    "We can also combine both the `style` and `hue` semantics into a single plot:"
   ]
  },
  {
   "cell_type": "code",
   "execution_count": null,
   "metadata": {},
   "outputs": [],
   "source": [
    "sns.relplot(x=\"total_bill\", y=\"tip\", hue=\"smoker\", style=\"time\", data=tips);"
   ]
  },
  {
   "cell_type": "markdown",
   "metadata": {},
   "source": [
    "### 2.3 The `size` semantic\n",
    "Just like the `hue` and `style` we can change the size of the points as well using the `size` argument.  Again, we will provide the label for the column that contains the size information.  The tips data from Seaborn conveniently comes with a column named `size`.  For other datasets you will have to prepare a size column for the data frame.  Let's apply the size:"
   ]
  },
  {
   "cell_type": "code",
   "execution_count": null,
   "metadata": {},
   "outputs": [],
   "source": [
    "sns.relplot(x=\"total_bill\", y=\"tip\", size=\"size\", data=tips);"
   ]
  },
  {
   "cell_type": "markdown",
   "metadata": {},
   "source": [
    "### 2.4 Setting the height and width of the plot\n",
    "You can control the height and widght of the plot by providing the `height` and `aspect` arguments to `replot`.  The `height` is provided in inches and the `aspect` argument is a factor multipled by the height to calculate the width:\n",
    "\n",
    "```\n",
    "  width = aspect * height\n",
    "```\n",
    "\n",
    "As an example, we can scale the width of the plot to be twice the height:"
   ]
  },
  {
   "cell_type": "code",
   "execution_count": null,
   "metadata": {},
   "outputs": [],
   "source": [
    "sns.relplot(x=\"total_bill\", y=\"tip\", size=\"size\", data=tips, aspect=2);"
   ]
  },
  {
   "cell_type": "markdown",
   "metadata": {},
   "source": [
    "### 2.5. <i class=\"fas fa-puzzle-piece\"></i> Practice\n",
    "\n",
    "In the cell below notebook, perform the following.\n",
    "\n",
    "Experiment with the `size`, `hue` and `style` semantics by applying them to another example dataset of your choice.\n",
    "\n",
    "*You should produce three or more plots for this task.*"
   ]
  },
  {
   "cell_type": "code",
   "execution_count": null,
   "metadata": {},
   "outputs": [],
   "source": []
  },
  {
   "cell_type": "markdown",
   "metadata": {},
   "source": [
    "## 3. Aesthetics\n",
    "You can control various aspects of the look-and-feel of your plots.  Seaborn provides professional looking aesthetics that you can control including the plot dimensions (size and aspect), built-in attractive styles, and color pallettes. The [Seaborn aesthetics documentation](https://seaborn.pydata.org/tutorial/aesthetics.html) provides full details.  There are two types of aesthetics that Seaborn provides:\n",
    "\n",
    "1. parameters to control the style of the plot\n",
    "2. parameters for scaling of elements in the plot\n",
    "\n",
    "As indicated in the online documentation: \n",
    "> The interface for manipulating [aesthetics] parameters are two pairs of functions. To control the style, use the `axes_style()` and `set_style()` functions. To scale the plot, use the `plotting_context()` and `set_context()` functions. In both cases, the first function returns a dictionary of parameters and the second sets the matplotlib defaults.\n",
    "\n",
    "\n"
   ]
  },
  {
   "cell_type": "markdown",
   "metadata": {},
   "source": [
    "To explore the list of styles that are currently set for the plot we can use call the `sns.axes_style()` function:"
   ]
  },
  {
   "cell_type": "code",
   "execution_count": null,
   "metadata": {},
   "outputs": [],
   "source": [
    "sns.axes_style()"
   ]
  },
  {
   "cell_type": "markdown",
   "metadata": {},
   "source": [
    "To explore the list of parameters that can be used to scale elements of the plat we can call `sns.plotting_context` function"
   ]
  },
  {
   "cell_type": "code",
   "execution_count": null,
   "metadata": {},
   "outputs": [],
   "source": [
    "sns.plotting_context()"
   ]
  },
  {
   "cell_type": "markdown",
   "metadata": {},
   "source": [
    "### 3.1 Built-in Figure Styles\n",
    "\n",
    "Seaborn provides five built-in styles for figures:\n",
    "\n",
    "+ darkgrid\n",
    "+ whitegrid\n",
    "+ dark\n",
    "+ white\n",
    "+ ticks\n",
    "\n",
    "If you would like to change the default aesthetics, you can set a style using the `set_style` function prior to creating the plot. Let's choose the `whitegrid` style."
   ]
  },
  {
   "cell_type": "code",
   "execution_count": null,
   "metadata": {},
   "outputs": [],
   "source": [
    "sns.set_style('whitegrid')          "
   ]
  },
  {
   "cell_type": "markdown",
   "metadata": {},
   "source": [
    "Then we can explore the new dictionary of parameters with `axes_style` function."
   ]
  },
  {
   "cell_type": "code",
   "execution_count": null,
   "metadata": {},
   "outputs": [],
   "source": [
    "sns.axes_style()  "
   ]
  },
  {
   "cell_type": "markdown",
   "metadata": {},
   "source": [
    "Notice that the `axis.grid` argument is set to `True`. Now that we've set the aesthetics, let's create the plot."
   ]
  },
  {
   "cell_type": "code",
   "execution_count": null,
   "metadata": {},
   "outputs": [],
   "source": [
    "sns.relplot(x=\"total_bill\", y=\"tip\", size=\"size\", data=tips);"
   ]
  },
  {
   "cell_type": "markdown",
   "metadata": {},
   "source": [
    "Observe that we now have grid lines."
   ]
  },
  {
   "cell_type": "markdown",
   "metadata": {},
   "source": [
    "### 3.2. <i class=\"fas fa-puzzle-piece\"></i> Practice\n",
    "\n",
    "In the cell below notebook, perform the following.\n",
    "Using a dataset of your choice, practice creating a plot for each of these different styles:\n",
    "\n",
    "+ darkgrid\n",
    "+ whitegrid\n",
    "+ dark\n",
    "+ white\n",
    "+ ticks"
   ]
  },
  {
   "cell_type": "code",
   "execution_count": null,
   "metadata": {},
   "outputs": [],
   "source": []
  },
  {
   "cell_type": "markdown",
   "metadata": {},
   "source": [
    "### 3.3 Modifying Built-in Styles\n",
    "\n",
    "Sometimes the built-in style may need adjustments to suit your liking or the needs of a plot.  You can customize any style using the `set_style` function.  It is often easier to start with a built-in style and modify it for a given purpose. To do this, we provide the style name as the first argument and a Python dictionary with custom settings as the second argument. The dictionary should specify the style changes. For example, suppose we wanted a darker background:"
   ]
  },
  {
   "cell_type": "code",
   "execution_count": null,
   "metadata": {},
   "outputs": [],
   "source": [
    "# Create a dictionary with the default style settings we want.\n",
    "custom_style = {'figure.facecolor': 'white',\n",
    "                'axes.facecolor': 'black'}\n",
    "\n",
    "# Call the set_style function to start with the darkgrid style, but pass in our adjustments.\n",
    "sns.set_style(\"darkgrid\", custom_style)\n",
    "\n",
    "# Create the plot.\n",
    "sns.relplot(x=\"total_bill\", y=\"tip\", hue=\"size\", data=tips);"
   ]
  },
  {
   "cell_type": "markdown",
   "metadata": {},
   "source": [
    "To reset the style to default, simply call `sns.set()`."
   ]
  },
  {
   "cell_type": "code",
   "execution_count": null,
   "metadata": {},
   "outputs": [],
   "source": [
    "# Reset the style settings to default.\n",
    "sns.set()  \n",
    "\n",
    "# Redraw the plot to demonstrate all is back to the default settings.\n",
    "sns.relplot(x=\"total_bill\", y=\"tip\", hue=\"size\", data=tips);"
   ]
  },
  {
   "cell_type": "markdown",
   "metadata": {},
   "source": [
    "### 3.4 Color Palettes\n",
    "\n",
    "Color choices are **very** important for conveying meaning, and choosing good colors is not immediately obvious. Also, when creating figures for publication is is important to consider that some indivduals are color blind and may have difficulty with specific colors.  NASA has [compiled an informative document](https://earthobservatory.nasa.gov/blogs/elegantfigures/2013/08/05/subtleties-of-color-part-1-of-6/), providing recommended color palettes.  These are already implemented in `matplotlib`, `seaborn` and other packages.  For an additional reference on Seaborn color palettes see: [Seaborn color palettes](https://seaborn.pydata.org/tutorial/color_palettes.html).  Additionally, [Online tools](http://colorbrewer2.org/#type=sequential&scheme=BuGn&n=3) can help develop color maps can be found.\n",
    "\n",
    "\n",
    "Let's first examine the default palette provided by Seaborn.  This can be returned with a call to the `color_palette` function."
   ]
  },
  {
   "cell_type": "code",
   "execution_count": null,
   "metadata": {},
   "outputs": [],
   "source": [
    "sns.color_palette()"
   ]
  },
  {
   "cell_type": "markdown",
   "metadata": {},
   "source": [
    "The palette is represented in an array of tuples where each tuple is a color and contains three numbers.  Computers use 3 numbers to represent colors, each corresponding to a specific shade of red, green and blue.  Seaborn provides those numbers between the values of 0 and 1. Below is a list of fully saturated colors and their meaning (e.g. at least one number in the tuple is set to 1):\n",
    "\n",
    "- (0, 0, 0): black\n",
    "- (1, 1, 1): white\n",
    "- (1, 0, 0): red\n",
    "- (0, 1, 0): green\n",
    "- (0, 0, 1): blue\n",
    "- (1, 1, 0): yellow\n",
    "- (0, 1, 1): cyan\n",
    "- (1, 0, 1): purple\n",
    "- etc.,\n",
    "\n",
    "Fortunately, we have a convenience function named `palplot` to view these colors:"
   ]
  },
  {
   "cell_type": "code",
   "execution_count": null,
   "metadata": {},
   "outputs": [],
   "source": [
    "sns.palplot([(0,0,0), (1,1,1), (1,0,0), (0,1,0), (0,0,1), (1,1,0), (0,1,1), (1,0,1)])"
   ]
  },
  {
   "cell_type": "markdown",
   "metadata": {},
   "source": [
    "Let's use the `sns.palplot` to examine the default Seaborn palette:"
   ]
  },
  {
   "cell_type": "code",
   "execution_count": null,
   "metadata": {},
   "outputs": [],
   "source": [
    "sns.palplot(sns.color_palette())"
   ]
  },
  {
   "cell_type": "markdown",
   "metadata": {},
   "source": [
    "Let's examine the tips scatterplot to observe the colors."
   ]
  },
  {
   "cell_type": "code",
   "execution_count": null,
   "metadata": {},
   "outputs": [],
   "source": [
    "sns.relplot(x=\"total_bill\", y=\"tip\", hue=\"sex\", data=tips);"
   ]
  },
  {
   "cell_type": "markdown",
   "metadata": {},
   "source": [
    "Observe that the colors are used in order that they appear in the palette."
   ]
  },
  {
   "cell_type": "markdown",
   "metadata": {},
   "source": [
    "Seaborn has a short list of built-in palettes:\n",
    "```python\n",
    "['deep', 'muted', 'bright', 'pastel', 'dark', 'colorblind']\n",
    "```\n",
    "We can create a palette of colors from any of these categories by calling the `color_palette` function, passing the palette name and the number of colors from that palette that we need.  For the tips data, if we want to use the `bright` palette we must use two colors--one for each sex:\n"
   ]
  },
  {
   "cell_type": "code",
   "execution_count": null,
   "metadata": {},
   "outputs": [],
   "source": [
    "sns.color_palette('bright', 2)"
   ]
  },
  {
   "cell_type": "markdown",
   "metadata": {},
   "source": [
    "***Note:*** recall that Seaborn is a set of wrapper functions for `matplotlib`, so it should not be a suprise that we can use any `matplotlib` color map, which you can find [here](https://matplotlib.org/tutorials/colors/colormaps.html).\n",
    "\n",
    "Let's try again creating a plot with a dark-background plot but with a more vibrant palette of colors.  You set a palette for a plot by providing the color pallette as an arument.  In the case of the `replopt` function we can provide colors using the `palette` argument.  First let's use a palette from Seaborn. Let's color the tips data by the size amounts.  From previous plots we know we have 6 colors:"
   ]
  },
  {
   "cell_type": "code",
   "execution_count": null,
   "metadata": {},
   "outputs": [],
   "source": [
    "# Create a dictionary with the style settings we wantto adjust.\n",
    "custom_style = {'figure.facecolor': 'white',\n",
    "                'axes.facecolor': 'black'}\n",
    "\n",
    "# Call the set_style function to start with the darkgrid style, but pass in our adjustements.\n",
    "sns.set_style(\"darkgrid\", custom_style)\n",
    "\n",
    "# Create the plot.\n",
    "colors=sns.color_palette('bright', 6)\n",
    "sns.relplot(x=\"total_bill\", y=\"tip\", hue=\"size\", data=tips, palette=colors);"
   ]
  },
  {
   "cell_type": "markdown",
   "metadata": {},
   "source": [
    "If we provide palettes with names, such as from matplot lib we don't need to know how many colors are required. Here, we'll use the 'Accent' palette from matplotlib:"
   ]
  },
  {
   "cell_type": "code",
   "execution_count": null,
   "metadata": {},
   "outputs": [],
   "source": [
    "# Create a dictionary with the style settings we wantto adjust.\n",
    "custom_style = {'figure.facecolor': 'white',\n",
    "                'axes.facecolor': 'black'}\n",
    "\n",
    "# Call the set_style function to start with the darkgrid style, but pass in our adjustements.\n",
    "sns.set_style(\"darkgrid\", custom_style)\n",
    "\n",
    "# Create the plot.\n",
    "sns.relplot(x=\"total_bill\", y=\"tip\", hue=\"size\", data=tips, palette='Accent');"
   ]
  },
  {
   "cell_type": "markdown",
   "metadata": {},
   "source": [
    "Before continuing let's reset the plots style"
   ]
  },
  {
   "cell_type": "code",
   "execution_count": null,
   "metadata": {},
   "outputs": [],
   "source": [
    "sns.set()"
   ]
  },
  {
   "cell_type": "markdown",
   "metadata": {},
   "source": [
    "### 3.5 Temporarily setting a style\n",
    "\n",
    "At the end of the previous section we had to remember to reset any style changes that we made using a call to `set`.  However, we can use a  `with` statement to [temporarily set a figure style](https://seaborn.pydata.org/tutorial/aesthetics.html#temporarily-setting-figure-style). This feature allows for any style changes to be lost upon exiting the `with` context manager.  For example:"
   ]
  },
  {
   "cell_type": "code",
   "execution_count": null,
   "metadata": {},
   "outputs": [],
   "source": [
    "# Create style dictionary:\n",
    "my_style_options = {'figure.facecolor': 'white',\n",
    "                    'axes.facecolor': 'black'}\n",
    "\n",
    "# Apply style changes temporarily.\n",
    "with sns.axes_style(\"darkgrid\", rc=my_style_options):\n",
    "    sns.relplot(x=\"total_bill\", y=\"tip\", hue=\"size\", data=tips, \n",
    "                palette='Accent',    # Change the color.\n",
    "                edgecolor=\"none\",  # Remove the white outline.\n",
    "                height=7, aspect=1.2); "
   ]
  },
  {
   "cell_type": "markdown",
   "metadata": {},
   "source": [
    "### 3.6. <i class=\"fas fa-puzzle-piece\"></i> Practice\n",
    "\n",
    "In the cell below notebook, perform the following.\n",
    "\n",
    "Experiment with the style options and palettes introduced above. Create and demonstrate a style of your own using a dataset of your choice."
   ]
  },
  {
   "cell_type": "code",
   "execution_count": null,
   "metadata": {},
   "outputs": [],
   "source": []
  },
  {
   "cell_type": "markdown",
   "metadata": {},
   "source": [
    "## 4. Wrap-up\n",
    "\n",
    "During this tutorial we covered only the `relplot` function.  However, Seaborn offers a variety of  functions for different types of plots.  For Task 2b you explored some examples in the Seaborn Gallery. Now that you know the basics you should be able to apply what you have learned to other types of plots. "
   ]
  },
  {
   "cell_type": "markdown",
   "metadata": {},
   "source": [
    "## 5. <i class=\"fas fa-puzzle-piece\"></i> Practice\n",
    "\n",
    "In the cell below notebook, perform the following.\n",
    "\n",
    "Examine the [Seaborn gallery](https://seaborn.pydata.org/examples/index.html) and find **two to four plots** types that interest you. Re-create a version of those plots using a different data set (make any other style changes you wish).\n"
   ]
  },
  {
   "cell_type": "code",
   "execution_count": null,
   "metadata": {},
   "outputs": [],
   "source": []
  },
  {
   "cell_type": "code",
   "execution_count": null,
   "metadata": {},
   "outputs": [],
   "source": []
  },
  {
   "cell_type": "code",
   "execution_count": null,
   "metadata": {},
   "outputs": [],
   "source": []
  },
  {
   "cell_type": "markdown",
   "metadata": {},
   "source": [
    "## 6. Saving your Figures\n",
    "Seaborn provides a `savefig` function for its plot objects to make saving of images easy.  It works similar to the Maplotlib `savefig` function. For example:"
   ]
  },
  {
   "cell_type": "code",
   "execution_count": null,
   "metadata": {},
   "outputs": [],
   "source": [
    "df = sns.load_dataset('iris')\n",
    "sns_plot = sns.pairplot(df, hue='species', size=2.5)\n",
    "sns_plot.savefig(\"output.png\", format='png', dpi=72)"
   ]
  },
  {
   "cell_type": "markdown",
   "metadata": {},
   "source": [
    "## Expected Outcomes\n",
    "At this point, you should feel comfortable with the following:\n",
    "- Creating plots with Seaborn.\n",
    "- Setting the style and aesthetics of Seaborn plots."
   ]
  },
  {
   "cell_type": "markdown",
   "metadata": {},
   "source": [
    "## What to Turn in?\n",
    "Be sure to **commit** and **push** your changes to this notebook.  All practice exercises should be completed.  Once completed, send a **Slack message** to the instructor indicating you have completed this assignment. The instructor will verify all work is completed. "
   ]
  }
 ],
 "metadata": {
  "kernelspec": {
   "display_name": "Python 3 (ipykernel)",
   "language": "python",
   "name": "python3"
  },
  "language_info": {
   "codemirror_mode": {
    "name": "ipython",
    "version": 3
   },
   "file_extension": ".py",
   "mimetype": "text/x-python",
   "name": "python",
   "nbconvert_exporter": "python",
   "pygments_lexer": "ipython3",
   "version": "3.9.13"
  }
 },
 "nbformat": 4,
 "nbformat_minor": 4
}
