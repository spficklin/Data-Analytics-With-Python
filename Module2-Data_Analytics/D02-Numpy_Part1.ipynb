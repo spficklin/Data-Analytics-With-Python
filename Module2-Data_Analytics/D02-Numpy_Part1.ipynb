{
 "cells": [
  {
   "cell_type": "markdown",
   "metadata": {},
   "source": [
    "# Lesson 1 Class Exercises: NumPy Part 1"
   ]
  },
  {
   "cell_type": "code",
   "execution_count": null,
   "metadata": {},
   "outputs": [],
   "source": [
    "import numpy as np"
   ]
  },
  {
   "cell_type": "markdown",
   "metadata": {},
   "source": [
    "## Exercise #1\n",
    "\n",
    "Write Python code to generate five random numbers from the normal distribution. \n",
    "\n",
    "Look at the online documentation for [NumPy random number generators](https://docs.scipy.org/doc/numpy-1.15.0/reference/routines.random.html)"
   ]
  },
  {
   "cell_type": "code",
   "execution_count": null,
   "metadata": {},
   "outputs": [],
   "source": []
  },
  {
   "cell_type": "markdown",
   "metadata": {},
   "source": [
    "## Exercise #2\n",
    "Write Python code to generate six random integers between 10 and 30\n",
    "\n",
    "Look at the online documentation for [NumPy random number generators](https://docs.scipy.org/doc/numpy-1.15.0/reference/routines.random.html)"
   ]
  },
  {
   "cell_type": "code",
   "execution_count": null,
   "metadata": {},
   "outputs": [],
   "source": []
  },
  {
   "cell_type": "markdown",
   "metadata": {},
   "source": [
    "## Exercise #3\n",
    "Write Python code to \n",
    "+ create a 5x5 array with random values\n",
    "+ print the array,  \n",
    "+ find and print the minimum and maximum values of the array. We haven't learned how to do this. See if you can find the right functions at the [NumPy API reference page](https://numpy.org/doc/stable/reference/generated/numpy.ndarray.html)\n"
   ]
  },
  {
   "cell_type": "code",
   "execution_count": null,
   "metadata": {},
   "outputs": [],
   "source": []
  },
  {
   "cell_type": "markdown",
   "metadata": {},
   "source": [
    "## Exercise #4\n",
    "Write code using NumPy that would create an array that meets these criteria\n",
    "+ the grid must have 30 rows and 80 columns\n",
    "+ it must be initalized to zeros.\n",
    "+ print the grid dimensions to prove its size.\n",
    "+ print the grid to show it is initalized to zeros."
   ]
  },
  {
   "cell_type": "code",
   "execution_count": null,
   "metadata": {},
   "outputs": [],
   "source": []
  },
  {
   "cell_type": "markdown",
   "metadata": {},
   "source": [
    "## Exercise #5\n",
    "Read the documentation about [genfromtxt()](https://docs.scipy.org/doc/numpy/reference/generated/numpy.genfromtxt.html) function of NumPy.  What does it do?  Do you understand what the arguments do?\n",
    "\n",
    "A file has been provided to you named data2.txt.  Be sure to place it in the same folder with this notebook.  It contains the following text:\n",
    "\n",
    "```\n",
    "Value1,Value2,Value3 \n",
    "0.4839,0.4536,0.3561 \n",
    "0.1292,0.6875,NA \n",
    "0.1781,0.3049,0.8928 \n",
    "NA,0.5801,0.2038 \n",
    "0.5993,0.4357,0.7410\n",
    "```\n",
    "Notice it has missing values.  Write some code that \n",
    "+ uses the `genfromtxt` function to read in this file into a numpy array.\n",
    "+ prints the resulting array."
   ]
  },
  {
   "cell_type": "code",
   "execution_count": null,
   "metadata": {},
   "outputs": [],
   "source": []
  },
  {
   "cell_type": "markdown",
   "metadata": {},
   "source": [
    "## Exercise #6\n",
    "Write some code that\n",
    "+ Creates an array of 100 rows and 10 columns filled with random values between 0 and 1\n",
    "+ Print the first 10 rows of the matrix (e.g. `array[0:10]`)\n",
    "+ Caculate the following statistics about each row and column\n",
    "  + mean, variance, standard deviation and quartiles of each row.\n",
    "  + print these values."
   ]
  },
  {
   "cell_type": "code",
   "execution_count": null,
   "metadata": {},
   "outputs": [],
   "source": []
  },
  {
   "cell_type": "markdown",
   "metadata": {},
   "source": [
    "## Exercise #7\n",
    "Write code that \n",
    "+ Create an array of 100 rows and 10 columns of integer values with the minimum number 0 and the maximum 10,000\n",
    "+ Print the first 10 rows of the matrix (e.g. `array[0:10]`)\n",
    "+ Calculate values for a histogram with 10 bins. \n",
    "    + save in one variable the values of each bin\n",
    "    + save in another variable the value at the left edge of the bin."
   ]
  },
  {
   "cell_type": "code",
   "execution_count": null,
   "metadata": {},
   "outputs": [],
   "source": []
  },
  {
   "cell_type": "markdown",
   "metadata": {},
   "source": [
    "## Exercise #8\n",
    "Write code that \n",
    "\n",
    "- Generates a matrix with 100 rows and 100 columns initialized with random integers between 0 and 100.\n",
    "- Perform a Pearson's correlation of each row with every other row"
   ]
  },
  {
   "cell_type": "code",
   "execution_count": null,
   "metadata": {},
   "outputs": [],
   "source": []
  }
 ],
 "metadata": {
  "kernelspec": {
   "display_name": "Python 3 (ipykernel)",
   "language": "python",
   "name": "python3"
  },
  "language_info": {
   "codemirror_mode": {
    "name": "ipython",
    "version": 3
   },
   "file_extension": ".py",
   "mimetype": "text/x-python",
   "name": "python",
   "nbconvert_exporter": "python",
   "pygments_lexer": "ipython3",
   "version": "3.9.13"
  }
 },
 "nbformat": 4,
 "nbformat_minor": 4
}
