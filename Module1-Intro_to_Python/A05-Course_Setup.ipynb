{
 "cells": [
  {
   "cell_type": "markdown",
   "id": "4ab48e12-8378-4c21-8bbd-6283fdf0cca6",
   "metadata": {},
   "source": [
    "# Assignment 5: Course Repository Setup"
   ]
  },
  {
   "cell_type": "markdown",
   "id": "86500795-f2fa-4ed8-becc-f00a6914b99a",
   "metadata": {},
   "source": [
    "## Learning Objectives\n",
    "This lesson meets the following learning objectives:\n",
    "\n",
    "- Learn to navigate tools that support computer programming for data analytics with Python\n",
    "\n",
    "You will meet these objectives by setting up a directory for housing all learning material and integrating it with Git."
   ]
  },
  {
   "cell_type": "markdown",
   "id": "962c88ca-2c57-456a-9942-1a8de21df81f",
   "metadata": {},
   "source": [
    "## Instructions\n",
    "Read through all of the text in this page.  Section headers with icons have special meanings:  \n",
    "\n",
    "- <i class=\"fas fa-puzzle-piece\"></i> The puzzle icon indicates that the section provides a practice exercise that must be completed.  Follow the instructions for the exercise and do what it asks.  Exercises must be turned in for credit.\n",
    "- <i class=\"fa fa-cogs\"></i> The cogs icon indicates that the section provides a task to perform.  Follow the instructions to complete the task.  Tasks are not turned in for credit but must be completed to continue progress.\n",
    "\n",
    "Review the list of items in the **Expected Outcomes** section to check that you feel comfortable with the material you just learned. If you do not, then take some time to re-review that material again. If after re-review you are not comfortable, do not feel confident or do not understand the material, please ask questions on Slack to help.\n",
    "\n",
    "Follow the instructions in the **What to turn in** section to turn in the exercises of the assginment for course credit."
   ]
  },
  {
   "cell_type": "markdown",
   "id": "7a59e6a4-7d34-4dc0-ba39-244f5b7d133b",
   "metadata": {},
   "source": [
    "## <i class=\"fa fa-cogs\"></i> Download this Notebook\n",
    "Before proceeding, perform the following:\n",
    "\n",
    "1. Download this notebook by right-clicking on the <kbd>Raw</kbd> button and select \"Save link as\". Save it in your home directory on your local computer. \n",
    "2. Open the Anaconda Navigator\n",
    "3. Launch JupyterLab\n",
    "4. Find this notebook on your machine via the JupyterLab file browser and open it.\n",
    "5. Continue in the local copy of this notebook there."
   ]
  },
  {
   "cell_type": "markdown",
   "id": "c6230b9e-3c38-42eb-b0b6-d6812d4473aa",
   "metadata": {},
   "source": [
    "## Background"
   ]
  },
  {
   "cell_type": "markdown",
   "id": "3f642d0e-73c6-43d4-90c8-36c09798386e",
   "metadata": {},
   "source": [
    "Now that we have Anaconda with Python installed, we have learned to use the command-line, and we have a basic understanding of Git, we are ready to get started organizing our working space! We need to do the following:\n",
    "\n",
    "1. Setup the project directories in which you will work on your local computer. \n",
    "2. **Fork** the course's GitHub repository so that you have a copy in your personal GitHub account.\n",
    "3. **Clone** the course repository from your personal GitHub account onto your local laptop or desktop.\n",
    "\n",
    "**Why do we want to fork and clone this repository?**\n",
    "\n",
    "Jupyter makes it easy to practice coding, so having access to the notebooks locally means you can pratice learning in the same location where the training material is provided (in the notebook!).  Using Git means that you can commit your work to your forked repository. This has two benefits:\n",
    "1. What you commit can be easily retrieved for grading by the instructor.\n",
    "2. You can work on multiple computers. If you remember to **commit** your work regularly, you can **pull** it to another computer and pick-up where you left off.\n",
    "3. You can share your work and progress with other students to get and receive help."
   ]
  },
  {
   "cell_type": "markdown",
   "id": "b5f81221-9fe3-4310-91db-ac569f12c090",
   "metadata": {},
   "source": [
    "## <i class=\"fa fa-cogs\"></i>  Step 1: Setup the Working Directory\n",
    "You are free to create files for this course where ever you like, but if you would like to follow this course more closely you can create your working directory in the following way.  \n",
    "\n",
    "For this course, we will create a `courses` directory. This is where you can clone the project repository. \n",
    "\n",
    "### On Windows\n",
    "Open the Anaconda Prompt. The shell will place you in your home directory.  This would be a fine place to work on this course, but Windows makes your home directory a bit hard to find.  In windows if you open the file browser you'll have easy access to your `Desktop`, `Documents` and `Downloads` folders.  So, let's use the `Documents` folder so that you can easily find the course material just by using the file browser. In the Powershell, run the following commands to enter the Documents folder, create the courses directory and then change to the courses directory:\n",
    "\n",
    "```bash\n",
    "cd Documents\n",
    "mkdir courses\n",
    "cd courses\n",
    "```\n",
    "\n",
    "If you look in your file browser you'll now see the courses folder!\n",
    "\n",
    "### On UNIX/Linux of OS X\n",
    "Open your terminal.  The shell will place you in your home directory. This will be the location where we will store the course files. In the terminal, run the following commands create the courses directory and then change to the courses directory:\n",
    "\n",
    "```bash\n",
    "mkdir courses\n",
    "cd courses\n",
    "```"
   ]
  },
  {
   "cell_type": "markdown",
   "id": "8720c784-3593-4b4f-9181-654f9b6eaee4",
   "metadata": {},
   "source": [
    "## <i class=\"fa fa-cogs\"></i>  Step 2: Fork the Course Repository\n",
    "Next, you need to create a copy of this course respository within your own GitHub space.  By this point you should have already created a GitHub account and have your own space on GitHub.  The course repository is found here:  https://github.com/spficklin/Data-Analytics-With-Python.  If you navigate to that web page you will see the following:\n",
    "\n",
    "<img src=\"./media/A05-git-fork.png\"></img>\n",
    "\n",
    "Notice the <kbd>Fork</kbd> button at the top?  Click that button.  You will then see a new page that will allow you to specify where you want to create the copy. By default, it should have your username as the \"Owner\".  Leave all options as they are and click the <kbd>Create Fork</kbd> button.  You now have your own copy of the repository!  "
   ]
  },
  {
   "cell_type": "markdown",
   "id": "c994104a-3853-46ac-a3bc-3493f7be280b",
   "metadata": {},
   "source": [
    "## <i class=\"fa fa-cogs\"></i>  Step 3: Clone the Forked Repository\n",
    "\n",
    "Next, you want to create a local copy on your computer of your forked repository.  You can do this on as many computers as you would like (e.g. a laptop and a desktop computer).  To create a copy we will **clone** the forked copy.  Notice on the GitHub page of your forked copy there is a green button that says <kbd>Code</kbd>.  Click that button you should see a dialogue box that looks like the following:\n",
    "\n",
    "<img src=\"./media/A05-git-clone.png\" width=\"300\">\n",
    "\n",
    "In the section that says \"Clone\", make sure the \"SSH\" tab is selected (not the \"HTML\" tab). Copy the URI that looks like an email address: `git@github.com:...` by clicking on the overlapping boxes at the end of the URI. That is the address for your forked repository.  You can now create the copy of the repository on your local computer with the `git clone` command followed by this address you just copied.  For example, it should look something like this:\n",
    "\n",
    "```bash\n",
    "git clone git@github.com:<username>/Data-Analytics-With-Python.git\n",
    "```\n",
    "\n",
    "Where `<username>` should be replaced with your GitHub username.   If successful, you should see something like the following:\n",
    "\n",
    "```bash\n",
    "(base) C:\\Users\\steph\\Documents\\courses>git clone git@github.com:bob/Data-Analytics-With-Python.git\n",
    "Cloning into 'Data-Analytics-With-Python'...\n",
    "remote: Enumerating objects: 226, done.\n",
    "remote: Counting objects: 100% (153/153), done.\n",
    "remote: Compressing objects: 100% (72/72), done.\n",
    "Receiving objects: 100% (226/226), 1.50 MiB | 3.55 MiB/s, done.ed 73\n",
    "\n",
    "Resolving deltas: 100% (117/117), done.\n",
    "```\n",
    "\n",
    "If you look in your file browser you should see that the repository and all of its files are now present on your local machine!\n"
   ]
  },
  {
   "cell_type": "markdown",
   "id": "20267339-7fde-4069-80d4-ddca97604d64",
   "metadata": {},
   "source": [
    "## <i class=\"fa fa-cogs\"></i>  Step 4: Link to the Original Repository\n",
    "During this course the instructor may make updates to the lessons and in-class material.  You will want to get those updates without having to manually copy the updated files into your repository. It is better to let `git` automatically **merge** in those changes to your forked copy.  To set this up, you need to tell git that there is an **upstream** repository (i.e., this repository). To do that you must be inside of your cloned copy of the repository:\n",
    "\n",
    "```bash\n",
    "cd Data-Analytics-With-Python\n",
    "```\n",
    "Now tell git about the upstream, original repository:\n",
    "\n",
    "```bash\n",
    "git remote add upstream git@github.com:spficklin/Data-Analytics-With-Python.git\n",
    "```\n",
    "Now, if the instructor adds new files or adjust files you will want to get copies of those files.  You can get those by running this command:\n",
    "\n",
    "```bash\n",
    "git pull upstream master\n",
    "```\n",
    "This will cause all changes in the official repository to be merged into your local clone.  "
   ]
  },
  {
   "cell_type": "markdown",
   "id": "d9cb66e2-eb67-409c-bda6-43b448c66fb8",
   "metadata": {},
   "source": [
    "## Troubleshooting\n",
    "Did your fork and clone of the repository work correctly?  If not, try veryifying the following:\n",
    "1.  Did you properly install Git?\n",
    "2.  Did you create your GitHub account?\n",
    "3.  Did the fork work?  Do you see a copy of the course repository in your GitHub home page?\n",
    "4.  Did you setup your SSH key properly with GitHub?\n",
    "5.  Are you in the proper `courses` directory?\n",
    "\n",
    "If you cannot determine if any of the above occured correctly, please post a comment to request help of other students or the instructor."
   ]
  },
  {
   "cell_type": "markdown",
   "id": "b492072d-24d9-4caf-9d17-4dd7261577ef",
   "metadata": {},
   "source": [
    "## <i class=\"fas fa-puzzle-piece\"></i> Cleanup\n",
    "Now that you have the course repository forked and cloned onto your local machine you no longer need to download the Jupyter notebooks like we did in assignments 2-5!  In the future you can directly open the notebooks right from your cloned repository. However, you still have those notebooks from assignments 2, 3 and 4 in a different location.  Lets stay organized and put those previou notebooks into your current cloned repository. This way, all of you work will be in one place.  Perform the following:\n",
    "\n",
    "1. Find where you stored the notebooks from assignment 2, 3, and 4\n",
    "2. Move those notebooks into your cloned `Data-Analytics-With-Python` directory.  This will overwrite the original files and Git will recognize there are changes to them.\n",
    "3. Use `git status` to confirm that Git recognized all four notebooks have uncommitted changes.\n",
    "4. Use `git commit` to commit the changes.\n",
    "5. Use `git push` to push these notebooks to your account on GitHub\n",
    "6. Browse the files for the repository on your GitHub account and make sure the changes are there.\n",
    "\n",
    "From this point forward, you will turn in all of your completed assignments via these steps.  Use JupyterLab to make changes to the Notebooks, commit them when completed and then push them."
   ]
  },
  {
   "cell_type": "markdown",
   "id": "47cf277c-1155-442b-963e-5c3c1c2a9d0f",
   "metadata": {},
   "source": [
    "## Expected Outcomes\n",
    "At this point, you should feel comfortable with the following:\n",
    "\n",
    "1. You know what it means to fork a repository and you know how to do it in GitHub.\n",
    "2. You can clone a repository from GitHub to your local machine.\n",
    "3. You know why we want to fork the course repository."
   ]
  },
  {
   "cell_type": "markdown",
   "id": "a6d66586-4438-4cf2-b021-86282c49a50c",
   "metadata": {
    "jp-MarkdownHeadingCollapsed": true,
    "tags": []
   },
   "source": [
    "## What to Turn in?\n",
    "Send a Slack message to the instructor with the URL of your GitHub repository and indicate you have completed this assignment. \n",
    "\n",
    "The instructor will verify that assignments 2, 3 and 4 have been updated in your repository and match those you turned in for those previous assignments.  \n",
    "\n",
    "***Note***: You will not be able to proceed in the course if all of the tasks are not completed. Make sure they are done and all is functional."
   ]
  }
 ],
 "metadata": {
  "kernelspec": {
   "display_name": "Python 3 (ipykernel)",
   "language": "python",
   "name": "python3"
  },
  "language_info": {
   "codemirror_mode": {
    "name": "ipython",
    "version": 3
   },
   "file_extension": ".py",
   "mimetype": "text/x-python",
   "name": "python",
   "nbconvert_exporter": "python",
   "pygments_lexer": "ipython3",
   "version": "3.9.13"
  }
 },
 "nbformat": 4,
 "nbformat_minor": 5
}
