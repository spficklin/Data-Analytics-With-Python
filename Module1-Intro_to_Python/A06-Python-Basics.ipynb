{
 "cells": [
  {
   "cell_type": "markdown",
   "id": "1bd113cb",
   "metadata": {},
   "source": [
    "# Assignment 6 - Python Basics\n",
    "  "
   ]
  },
  {
   "cell_type": "markdown",
   "id": "c8bf9c60",
   "metadata": {},
   "source": [
    "## Learning Objectives\n",
    "This lesson meets the following learning objectives:\n",
    "\n",
    "- Program linear scripts in python\n",
    "\n",
    "You will meet these objectives by learning the core concepts of Python programming"
   ]
  },
  {
   "cell_type": "markdown",
   "id": "f93071e6",
   "metadata": {},
   "source": [
    "## Instructions\n",
    "Read through all of the text in this page. This assignment provides step-by-step training divided into numbered sections. The sections often contain embeded exectable code for demonstration.  Section headers with icons have special meanings: \n",
    "\n",
    "- <i class=\"fas fa-puzzle-piece\"></i> The puzzle icon indicates that the section provides a practice exercise that must be completed.  Follow the instructions for the exercise and do what it asks.  Exercises must be turned in for credit.\n",
    "- <i class=\"fa fa-cogs\"></i> The cogs icon indicates that the section provides a task to perform.  Follow the instructions to complete the task.  Tasks are not turned in for credit but must be completed to continue progress.\n",
    "\n",
    "Review the list of items in the **Expected Outcomes** section to check that you feel comfortable with the material you just learned. If you do not, then take some time to re-review that material again. If after re-review you are not comfortable, do not feel confident or do not understand the material, please ask questions on Slack to help.\n",
    "\n",
    "Follow the instructions in the **What to turn in** section to turn in the exercises of the assginment for course credit."
   ]
  },
  {
   "cell_type": "markdown",
   "id": "63e23d78",
   "metadata": {},
   "source": [
    "## Background\n",
    "Python is an interpreted programming language, meaning that each time you execute your code the Python interpreter reads you code and follows the instructions it contains.  You can then make changes, execute your code and see the results. In contrast, other programming languages such as C++ require that your code is converted into a binary format which is a self-contained program and no interpreter is required.  \n",
    "\n",
    "Python is one of the worlds most popular programming languages. It is versatile in that it can be used for software development, web programming and for data science due to many numerical, statistical, machine and deep learning libraries.\n",
    "\n",
    "People tend to use Python in two different ways:\n",
    "\n",
    "1. Writing stand-alone programs, software packages or libraries of code for sharing with others.\n",
    "2. Scripting for data analysis in a Jupyter Notebook\n",
    "\n",
    "In the first module of this course, we will learn the basics Python code for either of these types of programming. We will also learn to run your code as if it were a stand-alone program. Scientific software that is meant to be shared with others is often written as stand-alone programs.  Later, in the second module, we will peform Python progamming using Jupyter Notebooks for data analytics."
   ]
  },
  {
   "cell_type": "markdown",
   "id": "ffd0c418",
   "metadata": {},
   "source": [
    "## Tips for Success\n",
    "As you learn to program Python with these lessons you can maximize your learning and retention by following these suggestions:\n",
    "\n",
    "* <i class=\"fas fa-clone\"></i> **Do not cut-and-paste**:  These lessons provide a lot of code examples. It's easy to cut-and-paste code into your program files.  But if you take the time to type out each line of code as you can remember it, you will be more likely to retain information.\n",
    "* <i class=\"fas fa-wrench\"></i> **Do each practice excercise**: Take the time to run each practice exercise provided in the lectures.\n",
    "* <i class=\"fas fa-clock\"></i> **Take time to understand**: When you code, every word, space and character and their placement has meaning.  Pay attention to detail!\n",
    "* <i class=\"fas fa-question-circle\"></i> **Ask for help**: Learning to programming can be hard and sometimes can eat away at our time when we encounter bugs or problems we do not know how to resolve. Some among us slog through that with the intention of either not wanting to bug others or wanting to do everything on our own.  Rather than take either of these attitudes, try your best to work through problems on your own, but also try to recognize when you have spent too long.  There is no need to waste your own time when there is help available. Be sure, though, to avoid the other extreme of asking for help immediatly when a problem arises as you need to invest time developing your own problem solving skills.\n",
    "* <i class=\"fas fa-users\"></i> **Do not compare yourself**: Each student learns to program at different rates.  Some students will fly through lessons and exercises quickly while others take a lot longer.  Resist the urge to compare your own progress and speed with that of others. We all come at programming with different backgrounds and different ways of approaching problems. Some of us have to rewire how we think to match more how a computer performs.  Accept yourself for where you are, work hard and do your best."
   ]
  },
  {
   "cell_type": "markdown",
   "id": "0c58582d",
   "metadata": {},
   "source": [
    "## 1. Running a Python Program\n",
    "In this section we will learn how to write our first Python progarm and execute it on the command-line. "
   ]
  },
  {
   "cell_type": "markdown",
   "id": "360fab52",
   "metadata": {},
   "source": [
    "### 1.1. Create a Python File\n",
    "For this lesson, we must create a new python program file. You can use any text editor you like for creating and writing Python code. For this class, we will use Jupyter. \n",
    "\n",
    "You can create a new Python file in Jupyter Lab by clicking the following in the menu: `File` > `New` > `Python file`. \n",
    "\n",
    "<img src=\"./media/A06-new_file.png\" style=\"max-width:500px\"/>\n",
    "\n",
    "Jupyter will create the file and open it for you to edit.  The file is currently named \"Untitled.py\".  Notice the `.py` extension?  That indicates that this file is a Python script.\n",
    "\n",
    "<div class=\"alert alert-warning\">\n",
    "    <b>Note</b>: On a Windows computer, file extensions have meaning. A file with a `.exe` extensions tells Windows that the file is executable. On a UNIX/Linux computer file extensions have no meaning except to help humans know what the file is for.  A `.py` extension helps us know this is a Python file.\n",
    "</div>\n",
    "\n",
    "Next, change the name of the file right clicking on the tab with the file name and selecting `Rename Python File`\n",
    "\n",
    "<img src=\"./media/A06-rename_file.png\" style=\"max-width:500px\"/>\n",
    "\n",
    "#### <i class=\"fas fa-puzzle-piece\"></i> Practice\n",
    "Create a new Python file, change the name of your new file to `assignment6.py`.   \n",
    "\n"
   ]
  },
  {
   "cell_type": "markdown",
   "id": "8b6a8d2b",
   "metadata": {},
   "source": [
    "### 1.2. Write your first program!\n",
    "Before we can run a program we must first write one, but we have not yet learned to code. That is okay. For now you can cut-and-paste the provided code. The exercise below will give you some sample code.  \n",
    "\n",
    "#### <i class=\"fas fa-puzzle-piece\"></i> Practice\n",
    "In the previous step you created a new Python script named `assignment6.py`.  Cut-and-paste the following Python code into the file:\n",
    "\n",
    "``` python\n",
    "print(\"Hello World!\")\n",
    "```\n",
    "\n",
    "That's it! This program is quite simple.  Be sure to save the program by clicking `File` > `Save Python File`, or you can use the keyboard shortcut of <kbd>Ctrl</kbd>+<kbd>S</kbd>."
   ]
  },
  {
   "cell_type": "markdown",
   "id": "29ec7885",
   "metadata": {},
   "source": [
    "### 1.3. Open a terminal \n",
    "Now that we have a program we want to run it on the command-line.  Every operating system (Windows, Unix, Mac) has a terminal. You can run your python code within those respective terminals, but Jupyter Lab provides a terminal for you.  \n",
    "\n",
    "The easiest way to get access to the command-line inside of a Jupyter Lab is via the menu by clicking `File` > `New` > `Terminal`. You should see a new tab open with a an active prompt:\n",
    "\n",
    "![terminal](./media/A03-terminal.png)\n",
    "\n",
    "We've already learned about the command-line, so here's where you can apply your knowledge.\n",
    "\n",
    "#### <i class=\"fas fa-puzzle-piece\"></i> Practice\n",
    "Open a terminal in JupyterHub"
   ]
  },
  {
   "cell_type": "markdown",
   "id": "77c967c5",
   "metadata": {},
   "source": [
    "### 1.4.  Run the Program\n",
    "Now that we have a program and access to a terminal, we can run the progarm by running the `python` command followed by the program name and any arguments (we will learn about arguments later.  \n",
    "\n",
    "\n",
    "#### <i class=\"fas fa-puzzle-piece\"></i> Practice\n",
    "\n",
    "To run the program type the following:\n",
    "\n",
    "``` bash\n",
    "python lesson2-hello.py\n",
    "```\n",
    "\n",
    "On some UNIX/Linux systems you may have to use `python3` instead of `python`. If the command above doesn't work, try this instead:\n",
    "\n",
    "``` bash\n",
    "python3 lesson2-hello.py\n",
    "```\n",
    "\n",
    "You should see the following output:\n",
    "\n",
    "```\n",
    "Hello World!\n",
    "```"
   ]
  },
  {
   "cell_type": "markdown",
   "id": "212d62e1",
   "metadata": {},
   "source": [
    "<i class=\"fa fa-certificate\"></i> Congratulations! If you have never written any code before you have now passed a major milestone that all programmres pass through: running your first program and have it print \"Hello World\"."
   ]
  },
  {
   "cell_type": "markdown",
   "id": "d2810af7",
   "metadata": {},
   "source": [
    "### 1.5 Dissecting the Code\n",
    "Before proceeding, lets dissect the code you just executed.  As a reminder you used this print statement:\n",
    "\n",
    "```python\n",
    "print(\"Hello World!\")\n",
    "```\n",
    "\n",
    "The word `print` is the name of a function.  If you are familiar with the concept of functions from mathematics then functions in a programming lanaguge should make sense.  In mathematics a function relates an input to an output. The following example may look familiar to you:\n",
    "\n",
    "\\begin{gather*}\n",
    "f(x)=b_0+b_1x\\\\\n",
    "\\end{gather*}\n",
    "\n",
    "where *f* is the a function name.  It has some input *x* and and the output of the function is the result of applying the equation on the right-hand side of the equal sign.   Similarly, a function in programming has a name, in this example it is `print` and the input is provided between the parentheses: `(\"Hello World!\")`.  We saw through running this code, that Python prints to the terminal the input contained in quotes.  Python provides for us the `print` function.  As we learn more about Python you will see many more functions and even write your own! \n"
   ]
  },
  {
   "cell_type": "markdown",
   "id": "a8265598",
   "metadata": {},
   "source": [
    "#### <i class=\"fas fa-puzzle-piece\"></i> Practice\n",
    "In the cells below, practice executing (or running) the `print` function by providing as input different text values.  Notice that we can run the same Python code in the Jupyter notebook that we just ran in your first script. You may add as many code cells as you want.  Remember, you need to include the input text in quotes."
   ]
  },
  {
   "cell_type": "code",
   "execution_count": null,
   "id": "f50d8f25",
   "metadata": {},
   "outputs": [],
   "source": []
  },
  {
   "cell_type": "code",
   "execution_count": null,
   "id": "cb98040c",
   "metadata": {},
   "outputs": [],
   "source": []
  },
  {
   "cell_type": "code",
   "execution_count": null,
   "id": "01d1ed12",
   "metadata": {},
   "outputs": [],
   "source": []
  },
  {
   "cell_type": "markdown",
   "id": "a029e21f",
   "metadata": {},
   "source": [
    "### Dealing with Errors\n",
    "what happens if you do not type the `print` funtion correctly?  You will get an error message. You may have already encountered an error message if you did something incorrect in the previous practice examples.  \n",
    "\n",
    "Suppose you forgot to put the input for `print` between quotes:\n",
    "\n",
    "```python\n",
    "print(Hello World!)\n",
    "```\n",
    "\n",
    "You will see something like this:\n",
    "\n",
    "```\n",
    "  File \"C:\\Users\\bob\\AppData\\Local\\Temp/ipykernel_13632/2443755642.py\", line 1\n",
    "    print(Hello World!)\n",
    "                ^\n",
    "SyntaxError: invalid syntax\n",
    "```\n",
    "\n",
    "In the message above it tells you the name of the python file where the message occured (in this case a temporary python file created by the Jupyter notebook), the line of code that caused the problem, and the error message.  In this case the error message says `SyntaxError: invalid syntax`.  \n",
    "\n",
    "Try it for yourself by running the following cell:"
   ]
  },
  {
   "cell_type": "code",
   "execution_count": null,
   "id": "2820fb80",
   "metadata": {},
   "outputs": [],
   "source": [
    "print(Hello World!)"
   ]
  },
  {
   "cell_type": "markdown",
   "id": "dd463c3c",
   "metadata": {},
   "source": [
    "Here is where your debugging skills need some development!  Before you fix any error the first rule in debugging is to pause and make sure you understand the error message.  What does 'syntax' mean?  What is a syntax error?  If you know what that means then you will understand what the problem is and you can fix it. If you do not know then you need to spend some time learning what it means.  Syntax in a programming language is the set of rules that a language follows that establishes its grammar.  Python expects that a text value given as input to a function has surrounding quotes.  We did not provide those so this error is a syntax error.\n",
    "\n",
    "<div class=\"alert alert-warning\">\n",
    "    <b>Critical</b>: It is important that you never try to solve a problem if you do not fully understand the error message. If you try  to fix an error without understanding the error message you may create more problems by applying an incorrect fix\n",
    "</div>\n",
    "\n",
    "Remember the section titled \"Debugging the Command Line\" of [Assignment 3: The Command Line](A03-Command-line.ipynb). The same suggestions for debugging Python are the same: READ, STOP, (NEVER apply a band-aid), FIX. "
   ]
  },
  {
   "cell_type": "markdown",
   "id": "fe4036c3",
   "metadata": {},
   "source": [
    "#### <i class=\"fas fa-puzzle-piece\"></i> Practice\n",
    "Try to purposely make a mistake with the `print` function in the cells below and observe the error messages.  Can you figure out what they mean? "
   ]
  },
  {
   "cell_type": "code",
   "execution_count": null,
   "id": "442b3893",
   "metadata": {},
   "outputs": [],
   "source": []
  },
  {
   "cell_type": "code",
   "execution_count": null,
   "id": "b442b3ef",
   "metadata": {},
   "outputs": [],
   "source": []
  },
  {
   "cell_type": "markdown",
   "id": "01aa6ff6",
   "metadata": {
    "tags": []
   },
   "source": [
    "## 2. Commenting in Python\n",
    "Remember in [Assignment 3: The Command Line](A03-Command-line.ipynb), that comments were introduced? There, they were in the context of command-line commands and they were used to help explain what each command was for.  They are ignored by the shell. Similarly, most programming languages provide a way for a programmer to leave such comments in code.  You can comment your Python code also with the `#` character. Python will see any text that follows the `#` character as a comment and will not execute the text. In general you will want to comment your code for the following reasons:\n",
    "\n",
    "1.  To make your code more readable!  \n",
    "2.  To describe to someone else what your code is doing.\n",
    "3.  To remind yourself why you wrote code in a specific way--you might forget 6 months from now.\n",
    "\n",
    "Actually, all three of those elements make code more readable. A good programmer will use commenting appropriately. We will revisit the proper way to comment code as we introduce new items.\n",
    "\n",
    "\n",
    "For now, lets look at an example. Above we created our first Python program with the following code:\n",
    "\n",
    "``` python\n",
    "print(\"Hello World!\")\n",
    "```\n",
    "\n",
    "We can add a comment to the code by using the `#` character and adding our message:\n",
    "\n",
    "``` python\n",
    "# Printing \"hello world\"\n",
    "print(\"Hello World!\")\n",
    "```\n",
    "If you were to rerun the code above in your test program you will find it will behave exactly the same.  Likewise this behaves the same as well when executed:\n",
    "\n",
    "``` python\n",
    "print(\"Hello World!\") # Printing \"hello world\"\n",
    "```\n",
    "\n",
    "The comment is therefore ignored while the \"code\" is executed.  In the following, the comment excludes the line of code from executing:\n",
    "\n",
    "```python\n",
    "# print(\"Hello World!\")\n",
    "```\n",
    "\n",
    "You may be thinking, why would I write a comment describing what is obvious? The code clearly is printing text, why describe that? If so, your intuition is good.  Commenting the obvious is a bit of a waste. Here it is just used to demonstrate usage.  Commenting something that is obvious is considered bad practice.\n",
    "\n",
    "Comments will be used throughout these assignments to help reinforce the meaning of code. As you write your own code be sure to leave comments to remind yourself of what is happening.  We will revisit comments again to learn good practice.\n",
    "\n"
   ]
  },
  {
   "cell_type": "markdown",
   "id": "7754979a",
   "metadata": {},
   "source": [
    "#### <i class=\"fas fa-puzzle-piece\"></i> Practice\n",
    "In the cells below practice printing something and adding comments.  Just like in the program you wrote and executed on the command-line, you can use the Jupyter notebook cells to explore Python code.  Add additional cells to try different things and leave cells with the code you already tried to show how you explored.  \n",
    "\n",
    "*Remember, do not cut-and-paste. Type the commands to reinforce learning.*"
   ]
  },
  {
   "cell_type": "code",
   "execution_count": null,
   "id": "a71df7ec",
   "metadata": {},
   "outputs": [],
   "source": []
  },
  {
   "cell_type": "code",
   "execution_count": null,
   "id": "bd3d7015",
   "metadata": {},
   "outputs": [],
   "source": []
  },
  {
   "cell_type": "code",
   "execution_count": null,
   "id": "d3d57f01",
   "metadata": {},
   "outputs": [],
   "source": []
  },
  {
   "cell_type": "markdown",
   "id": "61796c14",
   "metadata": {},
   "source": [
    "## 3. Math"
   ]
  },
  {
   "cell_type": "markdown",
   "id": "57a0a146",
   "metadata": {},
   "source": [
    "### 3.1 The Operators\n",
    "You already had some exposure to math in Python. In [Assignment 1: Tour of Jupyter](A01-JupyterLab.ipynb) you ran your own simple math statements in the demo Jupyter notebook.  Here math in Python will be more formally described.  \n",
    "\n",
    "To perform math in python we will first learn the **operators**. The following tables provide a list of operaters provided by Python, many of these are intuitive.  The following operaters are used for mathematical calculations;\n",
    "\n",
    "| Symbol | Name | Purpose |\n",
    "| ------ | ---- |------- |\n",
    "| + | plus | addition | \n",
    "| - | minus | subtraction |\n",
    "| / | slash | division |\n",
    "| * | asterisk | multiplication |\n",
    "| ** | double asterisk | exponential | \n",
    "| % | percent | the remainder from the division of one number by another (a.k.a. the modulus operator). |\n",
    "\n",
    "Note that the `%` operator does not mean percentage. It is used to identify a reminder. The following operators are used to compare two numbers\n",
    "\n",
    "| Symbol | Name | Purpose |\n",
    "| ------ | ---- |------- |\n",
    "| < | less-than | compares if one number is less than the other |\n",
    "| > | greater-than | compares if one number is greater than the other  |\n",
    "| <= | less-than-equal | compares if one number is less than or equal to another |\n",
    "| >= | greater-than-equal | compares if one number is greater than or equal to another |\n",
    "| == | equals | compares if two numbers are equal\n",
    "\n",
    "The comparative operators always return `true` or `false` to indicate the truth of the comparison. Math in Python is intuitive. Use the operators in the same way you learned to do so on paper.  The following cells provide multiple examples. Run each cell below and pause with each to enure use of operators is clear to you.\n",
    "\n",
    "*Addition and Subtraction*"
   ]
  },
  {
   "cell_type": "code",
   "execution_count": null,
   "id": "4dc9a686",
   "metadata": {},
   "outputs": [],
   "source": [
    "10 + 10"
   ]
  },
  {
   "cell_type": "code",
   "execution_count": null,
   "id": "aa811fe1",
   "metadata": {},
   "outputs": [],
   "source": [
    "5 - 10"
   ]
  },
  {
   "cell_type": "markdown",
   "id": "6a5c6992",
   "metadata": {},
   "source": [
    "*Multiplication and Division*"
   ]
  },
  {
   "cell_type": "code",
   "execution_count": null,
   "id": "bbca9c4c",
   "metadata": {},
   "outputs": [],
   "source": [
    "10 * 10"
   ]
  },
  {
   "cell_type": "code",
   "execution_count": null,
   "id": "2fda2c94",
   "metadata": {},
   "outputs": [],
   "source": [
    "10 / 3"
   ]
  },
  {
   "cell_type": "code",
   "execution_count": null,
   "id": "3fed2328",
   "metadata": {},
   "outputs": [],
   "source": [
    "10 % 3"
   ]
  },
  {
   "cell_type": "markdown",
   "id": "29415c9e",
   "metadata": {},
   "source": [
    "*Exponents*"
   ]
  },
  {
   "cell_type": "code",
   "execution_count": null,
   "id": "6af26d17",
   "metadata": {},
   "outputs": [],
   "source": [
    "10**2"
   ]
  },
  {
   "cell_type": "markdown",
   "id": "c956ab6b",
   "metadata": {},
   "source": [
    "*Comparisons*"
   ]
  },
  {
   "cell_type": "code",
   "execution_count": null,
   "id": "a116f3f7",
   "metadata": {},
   "outputs": [],
   "source": [
    "10 < 3"
   ]
  },
  {
   "cell_type": "code",
   "execution_count": null,
   "id": "83df4c64",
   "metadata": {},
   "outputs": [],
   "source": [
    "10 > 3"
   ]
  },
  {
   "cell_type": "code",
   "execution_count": null,
   "id": "c13f3a55",
   "metadata": {},
   "outputs": [],
   "source": [
    "10 >= 3"
   ]
  },
  {
   "cell_type": "code",
   "execution_count": null,
   "id": "8fbb2936",
   "metadata": {},
   "outputs": [],
   "source": [
    "10 <= 3"
   ]
  },
  {
   "cell_type": "code",
   "execution_count": null,
   "id": "2ac9da07",
   "metadata": {},
   "outputs": [],
   "source": [
    "10 == 3"
   ]
  },
  {
   "cell_type": "markdown",
   "id": "e5922fd1",
   "metadata": {},
   "source": [
    "### 3.2 Order of operations: PEMDAS\n",
    "The examples above only show single operator calculations, but you can commbine them. Consider the following:\n",
    "\n",
    "```python\n",
    "10 + 2 / 6\n",
    "```\n",
    "What do you think Python will return if you run this code?  Will Python first add 2 to 10 and then divide by 6 or will it dived 2 by 6 and then add that result to 10?  Lets see:"
   ]
  },
  {
   "cell_type": "code",
   "execution_count": null,
   "id": "39ba1944",
   "metadata": {},
   "outputs": [],
   "source": [
    "10 + 2 / 6"
   ]
  },
  {
   "cell_type": "markdown",
   "id": "d5c2f2e2",
   "metadata": {},
   "source": [
    "It looks like the division occurs first. What if you wanted instead for the 2 to be added to the 10 first? Python supports the use of parenthesis, just like you would use in traditional math:"
   ]
  },
  {
   "cell_type": "code",
   "execution_count": null,
   "id": "1cdd7245",
   "metadata": {},
   "outputs": [],
   "source": [
    "(10 + 2) / 6"
   ]
  },
  {
   "cell_type": "markdown",
   "id": "6ef9dd5c",
   "metadata": {},
   "source": [
    "You can control the order of operations by using parenthesis. Python follows the [PEMDAS](https://www.cuemath.com/numbers/pemdas/) rules for the order of operations. Sepcifcially, operations will occur in the following order:\n",
    "1. Parentheses\n",
    "2. Exponents\n",
    "3. Multiplication or Division\n",
    "4. Addition or Subtraction\n",
    "\n",
    "The computer only does what it is told. So you must always use parenthesis if you want operations lower in the order to occur first.\n",
    "\n",
    "<div class=\"alert alert-warning\">\n",
    "    <b>Critical</b>: Make sure you always check your equations for precedence of operations. Forgetting to ensure operations occur when they should may result in incorrect results.\n",
    "</div>\n"
   ]
  },
  {
   "cell_type": "markdown",
   "id": "b5478b08",
   "metadata": {},
   "source": [
    "### 3.3 Printing Results\n",
    "One nice benefit of executing a math equation in Jupyter notebooks is that the output will appear below the cell below.  But what if you had more than one equation.  For example, execute the following cell to see what happens:"
   ]
  },
  {
   "cell_type": "code",
   "execution_count": null,
   "id": "c4990c76",
   "metadata": {},
   "outputs": [],
   "source": [
    "(10 + 2) / 6\n",
    "12**12\n",
    "10==10"
   ]
  },
  {
   "cell_type": "markdown",
   "id": "55793b19",
   "metadata": {},
   "source": [
    "Where is the ouput for all of those equations?  We only see the result for the last one.  By default Python  prints to the terminal the last value of the last statement in the code.  If we want to see the results for all of the equations then we need to use the `print` function.  To do this we simply give as input the equation: "
   ]
  },
  {
   "cell_type": "code",
   "execution_count": null,
   "id": "7f3d93e8",
   "metadata": {},
   "outputs": [],
   "source": [
    "print((10 + 2) / 6)\n",
    "print(12**12)\n",
    "print(10==10)"
   ]
  },
  {
   "cell_type": "markdown",
   "id": "c7fb4b32",
   "metadata": {},
   "source": [
    "Now we see the output from all equations! \n",
    "\n",
    "Lets pause for a moment to focus on details.  First, notice that before we used quotes to surround the value we wanted to print. This time we did not.  Why?  The answer is that we are providing a different type of input.  Previously we provided text as input. Text is always surrounded by quotes. This time we are providing a number.  You may be asking, how is `(10 + 2) / 6` a number?  It looks like an equation.  The answer is that Python interprets equations first, gets the result, and then **passes** the resulting value as input to the function. So this:\n",
    "\n",
    "```python\n",
    "print((10 + 2) / 6)\n",
    "```\n",
    "\n",
    "Will effectively become this when Python interprets it:\n",
    "\n",
    "```python\n",
    "print(2.0)\n",
    "```\n",
    "\n",
    "The second detail to note is the parentheses.  There are parenthesis for the `print` function and there are parentheses in the math equation. They are both present in the statement.  Remember, that these parentheses have differnet meanings.  The first set encapsulate the input for the function. The other specify order of operation in the math equation. \n",
    "\n",
    "<div class=\"alert alert-warning\">\n",
    "    <b>Critical</b>: Try your best to pay attention to details.  In computer programming every space, every word, every symbol has a meaning.  In python even spacing has meaning!   \n",
    "</div>\n",
    "\n",
    "Lastly, what if we wanted to include both the equation and the result in a single line of output? Fortunately, the `print` statement can take more than one input.  We need to separate each with a comma. Each input item is called a function **argument**. Consider the following:  "
   ]
  },
  {
   "cell_type": "code",
   "execution_count": null,
   "id": "33014a46",
   "metadata": {},
   "outputs": [],
   "source": [
    "print(\"The answer is:\", (10 + 2) / 6)\n",
    "print(\"(10 + 2) / 6\", \"=\", (10 + 2) / 6)"
   ]
  },
  {
   "cell_type": "markdown",
   "id": "cdc48cdf",
   "metadata": {},
   "source": [
    "So, lets pause to pay attention to detail once more. Notice in the second statement that we have the equation twice. It is present as the first argument and again as the third argument.  The difference is that in the first argument it is surrounded by quotes.  So this means it is a text value and will get printed as is.  Likewise, the `=` character (the second argument) is surrounded by quotes and is therefore text as well. The final argument, the second occurance of the equation is not surrounded by quotes and will get converted to a number before printing."
   ]
  },
  {
   "cell_type": "markdown",
   "id": "26a31d7e",
   "metadata": {},
   "source": [
    "### <i class=\"fas fa-puzzle-piece\"></i> Practice\n",
    "Practice writing your own math equations.  Be sure to:\n",
    "- Create equations tht use mutiple operators and parenthesis.  \n",
    "- Use print statements to print results.  \n",
    "- Use some comparative operators"
   ]
  },
  {
   "cell_type": "code",
   "execution_count": null,
   "id": "d112bd61",
   "metadata": {},
   "outputs": [],
   "source": []
  },
  {
   "cell_type": "code",
   "execution_count": null,
   "id": "18ab5ef9",
   "metadata": {},
   "outputs": [],
   "source": []
  },
  {
   "cell_type": "code",
   "execution_count": null,
   "id": "2a776510",
   "metadata": {},
   "outputs": [],
   "source": []
  },
  {
   "cell_type": "markdown",
   "id": "821f9125",
   "metadata": {},
   "source": [
    "## 4. Variables\n",
    "Performing math and printing results is really useful, but often we want to save math results to be used later. We may also want to save text values too.  How do we store information in a program?  The answer is that we can store data using **variables**.  Someone with a background in science or statistics may first think of variables in a statistical or mathematical model or perhaps a measurment from a scientific experiment. The concept  of a variable for programming is similar but also more broad.  It is simply a storage place for a single value.  Variables in programming are given a **variable name** and we can recall the stored value anytime we use the name in our program."
   ]
  },
  {
   "cell_type": "markdown",
   "id": "29ffe30d",
   "metadata": {
    "tags": []
   },
   "source": [
    "### 4.1 Storing Values in Variables\n",
    "Creating a variable to store data is easy!  First think of a name for the variable.  Then **assign** it a value.  For example, if we want a variable to store a message we can name it `message` and then set it in the following way:\n",
    "\n",
    "```python\n",
    "message = \"This is my message\"\n",
    "```\n",
    "The `=` character is the assignment operator.  This may be a point of confusion. In math the `=` means \"equals\" but in programming it means \"assign\".  Remember from the Math section above that a double equal, `==` means equlity. \n"
   ]
  },
  {
   "cell_type": "markdown",
   "id": "48a1661b",
   "metadata": {},
   "source": [
    "#### 4.1.1 Rules for Variable Names\n",
    "As the programmer, you have freedom to name your variables whatever you want, but there are some rules that will contrain what variable names can be:\n",
    "\n",
    "- A variable name must start with a letter or the underscore character. \n",
    "- A variable name cannot start with a number\n",
    "- A variable name can only contain alpha-numeric characters and underscores (A-z, 0-9, and _ )\n",
    "- Variable names are case-sensitive (age, Age and AGE are three different variables)\n",
    "\n",
    "These could not be used as variable names:\n",
    "\n",
    "- `1message`\n",
    "- `mess@ge`\n",
    "- `my message`\n"
   ]
  },
  {
   "cell_type": "markdown",
   "id": "6234815a",
   "metadata": {},
   "source": [
    "### 4.2 Retrieving Values from Variables\n",
    "Once you have assigned a value to a variable, Python stores it in your computer's main memory--its Random Access Memory (RAM).  You can later retrieve it by using that variable later in your code.  Lets look at an example:\n",
    "\n",
    "```python\n",
    "message = \"This is my message\"\n",
    "print(message)\n",
    "```\n",
    "Here we create a new variable called `message` we assign in the value `This is my message` (notice since this is text it is surrounded by quotes). Python stores this value for us. Then, we use that variable later by using it with the `print` function.  \n",
    "\n",
    "Lets stop to focus on details again.  Notice in the print function the variable name is given as is. It is not surrounded by quotes.  Just like with math equations, Python will do a substiution of a value before executing the `print` function.  Here, Python will retrieve the value of the `message` variable and then pass that text to the `print` function.\n",
    "\n",
    "We can see how that code behaves by executing and comparing the following cell:\n"
   ]
  },
  {
   "cell_type": "code",
   "execution_count": 3,
   "id": "54633b5b",
   "metadata": {},
   "outputs": [
    {
     "name": "stdout",
     "output_type": "stream",
     "text": [
      "This is my message\n"
     ]
    }
   ],
   "source": [
    "print(\"This is my message\")"
   ]
  },
  {
   "cell_type": "code",
   "execution_count": 2,
   "id": "e84be777",
   "metadata": {},
   "outputs": [
    {
     "name": "stdout",
     "output_type": "stream",
     "text": [
      "This is my message\n"
     ]
    }
   ],
   "source": [
    "message = \"This is my message\"\n",
    "print(message)"
   ]
  },
  {
   "cell_type": "markdown",
   "id": "9e81107b",
   "metadata": {},
   "source": [
    "Effectively, the output from both cells is the same, but in the second we are using a variable to store and retrieve information."
   ]
  },
  {
   "cell_type": "markdown",
   "id": "20f78e6d",
   "metadata": {},
   "source": [
    "### <i class=\"fas fa-puzzle-piece\"></i> Practice\n",
    "Take a moment to practice creating and assigning variables.  Use the math equations you created in the previous practice exercises above and this time assign them to variables, then print the results."
   ]
  },
  {
   "cell_type": "code",
   "execution_count": null,
   "id": "75456022",
   "metadata": {},
   "outputs": [],
   "source": []
  },
  {
   "cell_type": "code",
   "execution_count": null,
   "id": "f8b72ffb",
   "metadata": {},
   "outputs": [],
   "source": []
  },
  {
   "cell_type": "code",
   "execution_count": null,
   "id": "c2b1b7f9",
   "metadata": {},
   "outputs": [],
   "source": []
  },
  {
   "cell_type": "markdown",
   "id": "bd5cbc20",
   "metadata": {},
   "source": [
    "### 4.3 Readability\n",
    "The idea of readable code was introdcued in the \"Comments\" section above.  Comments help make our code readable by others.  But, another good way to make code readable is to choose good variable names.  For example, consider this variable assignment:\n",
    "\n",
    "```python\n",
    "x = (23 + 30 + 25 + 24 + 22 + 22 + 28 + 50 + 23 + 25) / 10\n",
    "```\n",
    "\n",
    "versus this:\n",
    "\n",
    "```python\n",
    "average_age = (23 + 30 + 25 + 24 + 22 + 22 + 28 + 50 + 23 + 25) / 10\n",
    "```\n",
    "Notice that the name of the variable in the second case helps you understand what it stores. You can use that variable later in your program and you will always know what it stores.  The same is not true for ths first case.  Here are some guidelines you can follow for naming variables:\n",
    "\n",
    "- Name the variable for what it stores. \n",
    "- Keep the name relatively short (not too short), very long variable names make code harder to read.\n",
    "- Make your variables sound like spoken english when read (e.g. `maximum_monthly_total` vs `total_max_month`)"
   ]
  },
  {
   "cell_type": "markdown",
   "id": "c91eff2d",
   "metadata": {},
   "source": [
    "### <i class=\"fas fa-puzzle-piece\"></i> Practice\n",
    "Take a look at the previous exercises. How well do you think you did at making your variable names readable?  Can you improve the names?  Use the cells below to pick a few of the variables you used above and fix the naming to make them more readable"
   ]
  },
  {
   "cell_type": "code",
   "execution_count": null,
   "id": "732a7f87",
   "metadata": {},
   "outputs": [],
   "source": []
  },
  {
   "cell_type": "code",
   "execution_count": null,
   "id": "fa1d224e",
   "metadata": {},
   "outputs": [],
   "source": []
  },
  {
   "cell_type": "code",
   "execution_count": null,
   "id": "7893c6cf",
   "metadata": {},
   "outputs": [],
   "source": []
  },
  {
   "cell_type": "markdown",
   "id": "a1b0888a",
   "metadata": {},
   "source": [
    "## 5. Basic Data Types\n",
    "To this point we introduced two types of data: text and numbers. But these are not the formal names for data types in Python. Python refers to these by different names.  The following table provides a list of basic data types (we will learn more data types later).\n",
    "\n",
    "| Python Name | Colloquial Name | Explanation |\n",
    "| ---- | --------------- | ----------- |\n",
    "| `str` |  text | A **string** is a sequence of character (i.e., a \"string\" of characters). These are always surrounded by quotes.  A single character is also a string (e.g., `\"a\"`). A string can also be empty, have no characters, as long as it has quotes (e.g., `\"\"`) | \n",
    "| `int` | integer | An **integer** is a whole number. It cannot have a period even if the decimal part would be zero (e.g. `1` is an integer but `1.0` is not) | \n",
    "| `float` | decimal | A **float** is a decimal number. It must contain a period separating the whole number from the decimal part (e.g. `5.0`). It can be positive or negative. Negative floats are preceeded with a `-` character (e.g., `-1.5`).  | \n",
    "| `bool` | true/false  | A **boolean** value: either `True` or `False`. The words True and False must be capitalized. |\n",
    "\n",
    "When we create variables, we are storing these types of data. From this point forward this text will no longer use the phrases \"text value\" or \"number\" but rather **string**, **integer**, **float** and **bool** to indicate a data type.  \n",
    "\n",
    "When you create a new variable in Python you do not tell Python what data type it will store.  Python figures it out based on the value you assign to.  If the value is surrounded by quotes then Python knows it is a string.  If the value is a whole number then Python knows it is an integer. If the value is a number with a single period then Python knows it is a float. If the value is `True` or `False` (without quotes) then it knows the value is a boolean.  \n",
    "\n",
    "If you do know what type of data a variable is storing you can use the `type` function.  Run the following code cells to see how it works:"
   ]
  },
  {
   "cell_type": "code",
   "execution_count": 9,
   "id": "e7da7a2b",
   "metadata": {
    "jp-MarkdownHeadingCollapsed": true,
    "tags": []
   },
   "outputs": [
    {
     "name": "stdout",
     "output_type": "stream",
     "text": [
      "<class 'str'>\n",
      "<class 'bool'>\n",
      "<class 'float'>\n",
      "<class 'int'>\n"
     ]
    }
   ],
   "source": [
    "message = \"This is my message\"\n",
    "is_old = True\n",
    "average_age = 23.3\n",
    "youngest_person = 20\n",
    "\n",
    "print(type(message))\n",
    "print(type(is_old))\n",
    "print(type(average_age))\n",
    "print(type(youngest_person))"
   ]
  },
  {
   "cell_type": "markdown",
   "id": "a25460e5",
   "metadata": {},
   "source": [
    "Again, lets pause to pay attention to detail.  Does this line of code make sense to you: `print(type(message))`?  Notice that we are using two functions: `print` and `type`. They both have parentheses surrounding their input values but it appears that one is being used inside of the other.  This is an example of **nested** functions.  The way to interpret nested functions is to know that Python will **call** (run or evaluate) each function from the inside out.  The `message` variable is \"inside\" (as an argument of the `type` function), so it gets resolved first. The `type(message)` function is \"inside\" of the `print` function so it gets resolved second.  The return value of the function `type(message)` will lastly be substituted as the argument for the `print` function.  \n",
    "\n",
    "Conceptually, beind-the-scenes, Python will resolve this statement:\n",
    "\n",
    "```python\n",
    "print(type(message))\n",
    "\n",
    "```\n",
    "first to this:\n",
    "\n",
    "```python\n",
    "print(type(\"This is my message\"))\n",
    "```\n",
    "\n",
    "which then is resolved to this:\n",
    "    \n",
    "```python\n",
    "print(\"<class 'str'>\")\n",
    "```   \n",
    "which lastly prints the value."
   ]
  },
  {
   "cell_type": "markdown",
   "id": "b5be1aa1",
   "metadata": {},
   "source": [
    "## 6. Strings"
   ]
  },
  {
   "cell_type": "markdown",
   "id": "9619e5e3",
   "metadata": {},
   "source": [
    "### 6.1 Character Escaping\n",
    "We learned above that strings are always surrounded by quotes.  If you look back at all of the examples above, the quotes used were always double quotes `\"`.  But, strings can be surrounded by either single `'` or `\"` double quotes--Python accepts both.  What if you need to include quotes in your text?  What about a tab charcter or to add a return to separate two sentences? To do this you can **escape** the characters you want printed.  To escape the charcter you preceed it with the backslash, `\\`, character.  To print a string that contains quotes you would escape the quote: `\\\"`.  For example, in the following cell, note the escaped quotes around the word `string`.  Run it to see how it behaves."
   ]
  },
  {
   "cell_type": "code",
   "execution_count": 6,
   "id": "9723f6e8",
   "metadata": {},
   "outputs": [
    {
     "name": "stdout",
     "output_type": "stream",
     "text": [
      "Text values in Python are called \"strings\".\n"
     ]
    }
   ],
   "source": [
    "print(\"Text values in Python are called \\\"strings\\\".\")"
   ]
  },
  {
   "cell_type": "markdown",
   "id": "8aa6851d",
   "metadata": {},
   "source": [
    "By escaping the quotes around the word `string` the quotes show up when printed.  If we did not escape them, Python would think the string had ended and would not understand what follows. You would get a syntax error. The following table provides some common escape character codes. There are more, these are those most commonly used.\n",
    "\n",
    "| Escaped character | Meaning |\n",
    "| ----------------- | ------- |\n",
    "| \\' | A single quote. Only needed if the string is defined using single quotes |\n",
    "| \\\" | A double quote. Only needed if the string is defined using double quotes |\n",
    "| \\\\ | A backslash. The backslash character is the escape character so if we want to include a backslash in the string we need to escape it. |\n",
    "| \\n | A new line. Separates a single string into multiple lines when it is printed  |\n",
    "| \\r | A carriage return. Separates a single string into multiple lines when it is printed |\n",
    "| \\t | A tab character | \n",
    "\n",
    "As another example, suppose you wanted to print a tab-delimited dataset. You could use the `\\t` escape code to do this:"
   ]
  },
  {
   "cell_type": "code",
   "execution_count": 7,
   "id": "a59195b7",
   "metadata": {},
   "outputs": [
    {
     "name": "stdout",
     "output_type": "stream",
     "text": [
      "Item 1\tItem 2\tItem3\n"
     ]
    }
   ],
   "source": [
    "print(\"Item 1\\tItem 2\\tItem3\")"
   ]
  },
  {
   "cell_type": "markdown",
   "id": "ce2c2b6d",
   "metadata": {},
   "source": [
    "In the table above it indicates that both the `\\n` and `\\r` characters are used for a new line.  This may seem confusing. This is because different operating systems use different combinations of the line feed and carriage return characters to end a line:\n",
    "\n",
    "- Windows uses `\\r\\n`\n",
    "- Mac OS X uses `\\r`\n",
    "- Linux uses `\\n`\n",
    "\n",
    "For this unit you will not need to worry about line endings.  The `print` function automatically adds the appropriate characters for your operating system.  A problem, however occurs if you transfer a file from one operating system to the other without updating the line ending characters.  If you create a text file on Linux, copy it to Windows and open it with the Notepad application the file will look as though it has no line endings.  "
   ]
  },
  {
   "cell_type": "markdown",
   "id": "099e6589",
   "metadata": {},
   "source": [
    "### <i class=\"fas fa-puzzle-piece\"></i> Practice\n",
    "Create a few different print statements that use different escape codes. Include one that uses quotes in a string without escaping them.  What does the syntax error look like?"
   ]
  },
  {
   "cell_type": "code",
   "execution_count": null,
   "id": "73f0b525",
   "metadata": {},
   "outputs": [],
   "source": []
  },
  {
   "cell_type": "code",
   "execution_count": null,
   "id": "2fc3df88",
   "metadata": {},
   "outputs": [],
   "source": []
  },
  {
   "cell_type": "code",
   "execution_count": null,
   "id": "0d85ba2d",
   "metadata": {},
   "outputs": [],
   "source": []
  },
  {
   "cell_type": "markdown",
   "id": "a2ccb88e",
   "metadata": {},
   "source": [
    "### 6.2 Formatting\n",
    "At this point we can do math, store data in variables, we know the basic data types, and we can print output.  Lets now learn how to format output. Lets look at some examples to demonstrate why formatting is desired.  Run the code in the following cells:\n",
    "\n",
    "*Example 1: numerical precision*"
   ]
  },
  {
   "cell_type": "code",
   "execution_count": 30,
   "id": "27f62583",
   "metadata": {},
   "outputs": [
    {
     "name": "stdout",
     "output_type": "stream",
     "text": [
      "$ 0.3333333333333333\n"
     ]
    }
   ],
   "source": [
    "price = 1/3\n",
    "print(\"$\", price)"
   ]
  },
  {
   "cell_type": "markdown",
   "id": "b2d40a41",
   "metadata": {},
   "source": [
    "In this example, the precision of the decimal is too much. If we want to print output in a more readable manner we may want to limit that precision to just a few places after the decimal.  Also, there is a space between the dollar sign and the amount. We do not want that. This occurs because the `print` function separates the input arguments by spaces when it prints them."
   ]
  },
  {
   "cell_type": "markdown",
   "id": "c0a74e07",
   "metadata": {},
   "source": [
    "*Example 2: variable inclusion*"
   ]
  },
  {
   "cell_type": "code",
   "execution_count": 11,
   "id": "ee585445",
   "metadata": {},
   "outputs": [
    {
     "name": "stdout",
     "output_type": "stream",
     "text": [
      "Bakerie Kake is 25 years old, weighs 190 lbs, and is 5'10\" tall.\n"
     ]
    }
   ],
   "source": [
    "age = 25\n",
    "height = \"5'10\\\"\"\n",
    "weight = \"190\"\n",
    "name = \"Bakerie Kake\"\n",
    "\n",
    "print(name, \"is\", age, \"years old, weighs\", weight, \"lbs, and is\", height, \"tall.\")"
   ]
  },
  {
   "cell_type": "markdown",
   "id": "03ffd2c0",
   "metadata": {},
   "source": [
    "While the print statement prints a proper English sentence, it is annoying to have to separate each variable and intermediate text by commas as input arguments.  There are several different ways we can refine and simplify printing of strings and variables.  The following sections detail each of them."
   ]
  },
  {
   "cell_type": "markdown",
   "id": "667db518",
   "metadata": {},
   "source": [
    "### 6.2.1 F-Strings Formatting\n",
    "Using the second example above, the F-string formatting methods would like the following.  Run this cell;"
   ]
  },
  {
   "cell_type": "code",
   "execution_count": 13,
   "id": "4e043688",
   "metadata": {},
   "outputs": [
    {
     "name": "stdout",
     "output_type": "stream",
     "text": [
      "Bakerie Kake is 25 years old, weighs 190 lbs, and is 5'10\" tall.\n"
     ]
    }
   ],
   "source": [
    "print(f\"{name} is {age} years old, weighs {weight} lbs, and is {height} tall.\")"
   ]
  },
  {
   "cell_type": "markdown",
   "id": "8945d0d3",
   "metadata": {},
   "source": [
    "The F-string approach allows you to use the variables directly in the string.  There is no need to provide the variables as different input arguments to `print`.  Instead, with an F-string, Python will substitute in the values of the variable where they are located in the string.  The variable must be defined using currly braces, `{` and `}`. The string must be preceeded by the `f` character to indicate it is an F-String."
   ]
  },
  {
   "cell_type": "markdown",
   "id": "20274ffa",
   "metadata": {},
   "source": [
    "### 6.2.2 The `format()` Function\n",
    "The string data type has some useful functions. It's not just a text value surrounded by quotes.  It is also an **object**.  Objects have special properties, we will learn more about objects later, but one of the most important contributions that objects provide is that they have functions that can perform an action on the text value.  For example, run the following code cell:"
   ]
  },
  {
   "cell_type": "code",
   "execution_count": 2,
   "id": "2827ff4c",
   "metadata": {},
   "outputs": [
    {
     "ename": "NameError",
     "evalue": "name 'name' is not defined",
     "output_type": "error",
     "traceback": [
      "\u001b[1;31m---------------------------------------------------------------------------\u001b[0m",
      "\u001b[1;31mNameError\u001b[0m                                 Traceback (most recent call last)",
      "\u001b[1;32m~\\AppData\\Local\\Temp\\ipykernel_3784\\2878282142.py\u001b[0m in \u001b[0;36m<module>\u001b[1;34m\u001b[0m\n\u001b[1;32m----> 1\u001b[1;33m \u001b[0mprint\u001b[0m\u001b[1;33m(\u001b[0m\u001b[1;34m\"{} is {} years old, weighs {} lbs, and is {} tall.\"\u001b[0m\u001b[1;33m.\u001b[0m\u001b[0mformat\u001b[0m\u001b[1;33m(\u001b[0m\u001b[0mname\u001b[0m\u001b[1;33m,\u001b[0m \u001b[0mage\u001b[0m\u001b[1;33m,\u001b[0m \u001b[0mweight\u001b[0m\u001b[1;33m,\u001b[0m \u001b[0mheight\u001b[0m\u001b[1;33m)\u001b[0m\u001b[1;33m)\u001b[0m\u001b[1;33m\u001b[0m\u001b[1;33m\u001b[0m\u001b[0m\n\u001b[0m\u001b[0;32m      2\u001b[0m \u001b[1;33m\u001b[0m\u001b[0m\n\u001b[0;32m      3\u001b[0m \u001b[1;31m# The following is equivalent\u001b[0m\u001b[1;33m\u001b[0m\u001b[1;33m\u001b[0m\u001b[0m\n\u001b[0;32m      4\u001b[0m \u001b[0mmessage\u001b[0m \u001b[1;33m=\u001b[0m \u001b[1;34m\"{} is {} years old, weighs {} lbs, and is {} tall.\"\u001b[0m\u001b[1;33m\u001b[0m\u001b[1;33m\u001b[0m\u001b[0m\n\u001b[0;32m      5\u001b[0m \u001b[0mprint\u001b[0m\u001b[1;33m(\u001b[0m\u001b[0mmessage\u001b[0m\u001b[1;33m.\u001b[0m\u001b[0mformat\u001b[0m\u001b[1;33m(\u001b[0m\u001b[0mname\u001b[0m\u001b[1;33m,\u001b[0m \u001b[0mage\u001b[0m\u001b[1;33m,\u001b[0m \u001b[0mweight\u001b[0m\u001b[1;33m,\u001b[0m \u001b[0mheight\u001b[0m\u001b[1;33m)\u001b[0m\u001b[1;33m)\u001b[0m\u001b[1;33m\u001b[0m\u001b[1;33m\u001b[0m\u001b[0m\n",
      "\u001b[1;31mNameError\u001b[0m: name 'name' is not defined"
     ]
    }
   ],
   "source": [
    "print(\"{} is {} years old, weighs {} lbs, and is {} tall.\".format(name, age, weight, height))\n",
    "\n",
    "# The following is equivalent\n",
    "message = \"{} is {} years old, weighs {} lbs, and is {} tall.\"\n",
    "print(message.format(name, age, weight, height))"
   ]
  },
  {
   "cell_type": "markdown",
   "id": "e728b156",
   "metadata": {},
   "source": [
    "In this example, we only provide one argument to the `print` statement: the string object. But notice, the string is followed by a period and then a function named `format`.  Whenever you see a period after a string, or a variable that stores a string, it indicates that what follows is a function that belongs to the string object.  Here, the curly braces indicate where a variable should be substituted.  The variables are then provided as argument to the `format` function.  \n",
    "\n",
    "You can also use the `format` function to fix precision for numbers.  For example, run the following cell"
   ]
  },
  {
   "cell_type": "code",
   "execution_count": 27,
   "id": "8eafce52",
   "metadata": {},
   "outputs": [
    {
     "name": "stdout",
     "output_type": "stream",
     "text": [
      "$0.33\n"
     ]
    }
   ],
   "source": [
    "print(\"${:.2}\".format(price))"
   ]
  },
  {
   "cell_type": "markdown",
   "id": "cd2bf48a",
   "metadata": {},
   "source": [
    "The `{:.2}` part of the string tells the `format` function that a variable should be substituted at that location but it is a number and should include only 2 numbrs after the decimal place The following will provide 3 digits past the decimal:"
   ]
  },
  {
   "cell_type": "code",
   "execution_count": 31,
   "id": "bec5c8a1",
   "metadata": {},
   "outputs": [
    {
     "name": "stdout",
     "output_type": "stream",
     "text": [
      "$0.333\n"
     ]
    }
   ],
   "source": [
    "print(\"${:.3}\".format(price))"
   ]
  },
  {
   "cell_type": "markdown",
   "id": "aed9ea2b",
   "metadata": {},
   "source": [
    "### <i class=\"fas fa-puzzle-piece\"></i> Practice\n",
    "Create a few different print statements that use both formatting styles. Use any string text you want. Be sure to use variable substition and formatting of decimal numbers."
   ]
  },
  {
   "cell_type": "code",
   "execution_count": null,
   "id": "b9c594ff",
   "metadata": {},
   "outputs": [],
   "source": []
  },
  {
   "cell_type": "code",
   "execution_count": null,
   "id": "f19b52c8",
   "metadata": {},
   "outputs": [],
   "source": []
  },
  {
   "cell_type": "code",
   "execution_count": null,
   "id": "4b8f91b5",
   "metadata": {},
   "outputs": [],
   "source": []
  },
  {
   "cell_type": "markdown",
   "id": "dd022ccf",
   "metadata": {},
   "source": [
    "### <i class=\"fas fa-puzzle-piece\"></i> Challenge Questions\n",
    "Try your best to answer these quetions.  Its okay if you do not know.  Feel free to start a discussion on Slack to find an answer."
   ]
  },
  {
   "cell_type": "markdown",
   "id": "21dc5d40",
   "metadata": {},
   "source": [
    "Run this cell:"
   ]
  },
  {
   "cell_type": "code",
   "execution_count": 32,
   "id": "5944cedf",
   "metadata": {},
   "outputs": [
    {
     "name": "stdout",
     "output_type": "stream",
     "text": [
      "{} {} {} {} {} {} {} {} {} {} {} {} {} {} {} {}\n"
     ]
    }
   ],
   "source": [
    "format_string = \"{} {} {} {}\"\n",
    "print(format_string.format(format_string, format_string, format_string, format_string))"
   ]
  },
  {
   "cell_type": "markdown",
   "id": "663a2dbc",
   "metadata": {},
   "source": [
    "Explain in the cell below how the resulting output is formed"
   ]
  },
  {
   "cell_type": "raw",
   "id": "265b3525",
   "metadata": {},
   "source": []
  },
  {
   "cell_type": "markdown",
   "id": "edf734cf",
   "metadata": {},
   "source": [
    "Run this cell:"
   ]
  },
  {
   "cell_type": "code",
   "execution_count": 33,
   "id": "6fc0e353",
   "metadata": {},
   "outputs": [
    {
     "name": "stdout",
     "output_type": "stream",
     "text": [
      "True != True\n"
     ]
    }
   ],
   "source": [
    "print(\"{} != {}\".format(True, \"True\"))"
   ]
  },
  {
   "cell_type": "markdown",
   "id": "dba57f90",
   "metadata": {},
   "source": [
    "The statement printed looks like a correct statement, True is True, but why is also incorrect given the variables provided?"
   ]
  },
  {
   "cell_type": "raw",
   "id": "4eb18172",
   "metadata": {},
   "source": []
  },
  {
   "cell_type": "markdown",
   "id": "18f9cd1e",
   "metadata": {},
   "source": [
    "## 7. Script Arguments\n",
    "The last thing we will learn in this lesson is script arguments.  We already learned that functions have arguments. But your scipt can have arguments too, and as the programmer of scripts, you can control what those arguments are and how many there should be.  We cannot use Jupyter notebooks to teach this because this notebook is not a script.  But, remember, you created an `assignment6.py` script at the beginning of this lesson.  We will use that to teach this part of the lesson.\n",
    "\n",
    "One of the requirements for the [Unit Project: Analysis of a Data File](project/P01-Unit_Project.ipynb), is that you need to provide to your script the name of a data file so that the script can open the file and read it's contents.  So how do you do that? For exmaple, the project states that a user would need to provide a file to the script named `covtype.data`.  Suppose we had the `covtype.data` file downloaded and in the same directory as the script.  We could run the script on the command-line and provide the argument like this:\n",
    "\n",
    "```bash\n",
    "python assignment6.py covtype.data\n",
    "```\n",
    "\n",
    "Our script should be able to recognize the name of the file, and then within it, open it and do the tasks required of the project. The first step to make your script aware of arguments provided on the command-line is to add the following statement to the top of the script file:\n",
    "\n",
    "```python\n",
    "from sys import argv\n",
    "```\n",
    "\n",
    "This line tells Python that you want to use a **library** that is not built into the core Python program.  Python is an extensible language meaning that anyone can write new **packages** that extend the functionality. Those packages that are ready to use with Python are called the core library.  There are also other packages that are not part of the core package. If you want to use functions or objects from those packages you have to **import** them into your script. The line above is an example for importing an object from a package into a script. Specifically, it imports from the package named `sys`, the object named `argv`.  \n",
    "\n",
    "Suppose we wanted to write a script that could accept three arguments.  The following code does this:\n",
    "\n",
    "```python\n",
    "from sys import argv\n",
    "\n",
    "script, arg1, arg2, arg3 = argv\n",
    "\n",
    "print(\"This script is named {}\".format(script_name))\n",
    "print(\"  The value of argument 1 is: {}\", arg1)\n",
    "print(\"  The value of argument 2 is: {}\", arg2)\n",
    "print(\"  The value of argument 3 is: {}\", arg3)\n",
    "\n",
    "```\n",
    "\n",
    "In the code above the first line imports the `argv` object.  The argv object houses all of the elements provided on the command-line which include:\n",
    "\n",
    "- The script name\n",
    "- The arguments 1, 2 and 3\n",
    "\n",
    "This next line of the script **unpacks** the `argv` object into its four components and creates four new variables:\n",
    "\n",
    "```python\n",
    "script, arg1, arg2, arg3 = argv\n",
    "```\n",
    "The variable named `script` contains the script name. The script name will always be the first item returned.  The `arg1` variable contains the value of the first argumetn, `arg2` the second argument and so forth.  The script have has 3 arguments but a script can have as many as you want.\n",
    "\n",
    "Lastly, the print statements simply provide an example where those variables get used.  "
   ]
  },
  {
   "cell_type": "markdown",
   "id": "912fa37a",
   "metadata": {},
   "source": [
    "### <i class=\"fas fa-puzzle-piece\"></i> Practice\n",
    "Edit the `assignment6.py` script and replace the existing `print` statement with the code shown above. Remember to type it and not cut-and-paste.  You will develop a better memory if you force yourself to type it.  Now run the script and answer the following questions.\n",
    "\n",
    "Enter the full command that you used to run the script:"
   ]
  },
  {
   "cell_type": "raw",
   "id": "0b6d836c",
   "metadata": {},
   "source": []
  },
  {
   "cell_type": "markdown",
   "id": "67657315",
   "metadata": {},
   "source": [
    "Enter the output of the script:"
   ]
  },
  {
   "cell_type": "code",
   "execution_count": null,
   "id": "582ae92a",
   "metadata": {},
   "outputs": [],
   "source": []
  },
  {
   "cell_type": "markdown",
   "id": "de31414b-9c1d-4a25-9209-8cdfda0052a3",
   "metadata": {},
   "source": [
    "### <i class=\"fas fa-puzzle-piece\"></i> Practice\n",
    "\n",
    "Write a new python script called `assignment6-2.py` that receives arguments so that the following print statement can be executed where the name, age, weight and height are given as arguments on the command line.\n",
    "\n",
    "```python\n",
    "print(\"{} is {} years old, weighs {} lbs, and is {} tall.\".format(name, age, weight, height))\n",
    "```"
   ]
  },
  {
   "cell_type": "markdown",
   "id": "3f4bf8e1-516b-4d1e-ab79-eff9fa8b3831",
   "metadata": {},
   "source": [
    "## Expected Outcomes\n",
    "At this point, you should feel comfortable with the following:\n",
    "\n",
    "1. Running a python script on the command-line\n",
    "2. Printing text\n",
    "3. How to comment Python code\n",
    "4. Writing math equation understanding the order of operations.\n",
    "5. Data types\n",
    "6. Creating and using variables\n",
    "7. Formatting of strings for output and character encoding\n",
    "8. Passing arguments for scripts"
   ]
  },
  {
   "cell_type": "markdown",
   "id": "84fd5459-9e31-4371-855f-14d137b0b5c5",
   "metadata": {},
   "source": [
    "## What to Turn in?\n",
    "\n",
    "Perform the following with Git:\n",
    "\n",
    "1. Add the `assignment6.py` script \n",
    "2. Commit your changes. You should include this notebook and the `assignment6.py`.\n",
    "3. Push your code to your remote repository.\n",
    "\n",
    "Go to your online repository on GitHub and check that the changes you just pushed are present. If so, then send a message to the instructor indicating the assignment is turned in."
   ]
  }
 ],
 "metadata": {
  "kernelspec": {
   "display_name": "Python 3 (ipykernel)",
   "language": "python",
   "name": "python3"
  },
  "language_info": {
   "codemirror_mode": {
    "name": "ipython",
    "version": 3
   },
   "file_extension": ".py",
   "mimetype": "text/x-python",
   "name": "python",
   "nbconvert_exporter": "python",
   "pygments_lexer": "ipython3",
   "version": "3.9.13"
  }
 },
 "nbformat": 4,
 "nbformat_minor": 5
}
