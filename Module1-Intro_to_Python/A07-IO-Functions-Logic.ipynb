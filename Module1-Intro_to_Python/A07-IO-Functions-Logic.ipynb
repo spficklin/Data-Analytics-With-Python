{
 "cells": [
  {
   "cell_type": "markdown",
   "id": "cc0e8238-2923-4ee1-acf7-27fe6851271c",
   "metadata": {},
   "source": [
    "# Assignment 7 - File IO, Functions and Logic"
   ]
  },
  {
   "cell_type": "markdown",
   "id": "f68d4975-9cb9-4ac7-94c9-bdd7befbf3e7",
   "metadata": {},
   "source": [
    "## Learning Objectives <a id=\"section-objectives\"></a>\n",
    "This lesson meets the following learning objectives:\n",
    "\n",
    "1. Program linear scripts in python.\n",
    "2. Program scripts that include functions, logic, and control statements\n",
    "\n",
    "\n",
    "You will meet these objectives by learning to read and write to files, write functions and use logic in programs."
   ]
  },
  {
   "cell_type": "markdown",
   "id": "1ce6686a-0011-41c4-be71-ceea970cee6e",
   "metadata": {
    "jp-MarkdownHeadingCollapsed": true,
    "tags": []
   },
   "source": [
    "## Instructions <a id=\"section-instructions\"></a>\n",
    "Read through all of the text in this page. This assignment provides step-by-step training divided into numbered sections. The sections often contain embeded exectable code for demonstration.  Section headers with icons have special meanings: \n",
    "\n",
    "- <i class=\"fas fa-puzzle-piece\"></i> The puzzle icon indicates that the section provides a practice exercise that must be completed.  Follow the instructions for the exercise and do what it asks.  Exercises must be turned in for credit.\n",
    "- <i class=\"fa fa-cogs\"></i> The cogs icon indicates that the section provides a task to perform.  Follow the instructions to complete the task.  Tasks are not turned in for credit but must be completed to continue progress.\n",
    "\n",
    "Review the list of items in the **Expected Outcomes** section to check that you feel comfortable with the material you just learned. If you do not, then take some time to re-review that material again. If after re-review you are not comfortable, do not feel confident or do not understand the material, please ask questions on Slack to help.\n",
    "\n",
    "Follow the instructions in the **What to turn in** section to turn in the exercises of the assginment for course credit."
   ]
  },
  {
   "cell_type": "markdown",
   "id": "ca57605c-a6a5-4c70-8c97-aff7a6b9e997",
   "metadata": {},
   "source": [
    "## Background <a id=\"section-background\"></a>\n",
    "In this lesson we will learn how to read data from files, write data to files, write new functions and use logic.  One of the most important tasks in data analytics is the ability to read data files into your Python scripts and to write files with results or reformatted data.  The process of reading and writing files is also referred to as File Input/Output or File IO.  Next, functions are a critical component of all modern programming languages. They provide several benefits.  They help you to simplify your programs and encapsulate commonly used code into reusable bits of code. Lastly, programs must be able to make decisions and logic is key to programming decision making."
   ]
  },
  {
   "cell_type": "markdown",
   "id": "d75866dd-cb96-4e8d-9bd5-6138b45ef8fa",
   "metadata": {},
   "source": [
    "## Tips for Success <a id=\"section-tips\"></a>\n",
    "As a reminder, here is a quick list of the tips for success from [Assignment 6 - Python Basics](A06-Python-Basics.ipynb)\n",
    "\n",
    "* <i class=\"fas fa-clone\"></i> **Do not cut-and-paste**.\n",
    "* <i class=\"fas fa-wrench\"></i> **Do each practice excercise**.\n",
    "* <i class=\"fas fa-clock\"></i> **Take time to understand**.\n",
    "* <i class=\"fas fa-question-circle\"></i> **Ask for help**.\n",
    "* <i class=\"fas fa-users\"></i> **Do not compare yourself**."
   ]
  },
  {
   "cell_type": "markdown",
   "id": "3cee7fb1-b719-4562-969e-51c86e1e9c9a",
   "metadata": {},
   "source": [
    "## 1. File Input/Output (IO) <a id=\"section-1\"></a>\n",
    "Python provides a built-in function named `open()` that allows you to open a file either for reading or writing. We will learn to use it to do both.  There are two types of files that Python can open: plain **text** files and **binary** files.  A text file contains human-readable text.  It may have some special encodings, which we will learn about, but in general you can open it with any text editor and read it.  A binary file is one where the contents are machine-readable. The language of the computer is 1's and 0's (binary). These files store information in patterns of 1's and 0's that are not legible by a human. If you open one with a text editor you will often see a series of illegible characters. Text and binary files can store the same information but binary files can be organized to access data more quickly and store data more compactly.  In data analytics, many data files are plain text files, often in tab-delimited, or comma-separated formats.  In this lesson, we will learn to read and write text files only. Binary files are more complicated and if you see a binary file that needs reading there is often a Python library with functions that you can use to read the file for you."
   ]
  },
  {
   "cell_type": "markdown",
   "id": "39af4281-7666-4bcb-816c-4cf0fc94879f",
   "metadata": {},
   "source": [
    "### 1.1. Opening a File <a id=\"section-1.1\"></a>\n",
    "In Python, opening a file asks Python to give you **access** to a file.  As part of the open process, Python will also reserve a **file handle** which is like a cursor in a word processor. The file handle indicates precisely where you are in the file.  When the file is first openend, the file handle is placed at the beginning of the file.\n",
    "\n",
    "The `open()` function can take several arguments but only the file name is required if we want to open a file for reading.  The `open()` function will then return a file **object** that will allow us to perform operations on the file--such as reading its contents.  \n",
    "\n",
    "Suppose we had a file named `my_data.csv`.  We can open that file by simply passing the filename to the `open()` function:\n",
    "\n",
    "```python\n",
    "data = open(\"my_data.csv\")\n",
    "```\n",
    "\n",
    "The above line of code will work only if the `my_data.csv` file is in the same directory where the script is being run.  If the file is located elsewhere you can provide the path to the file. This can be the absolute path or a relative path. Remember, we learned about the path in [Assignment 3: The Command-line](A03-Command-line.ipynb).  Suppose the file were located in our home directory we could use the following:\n",
    "\n",
    "```python\n",
    "data = open(\"~/my_data.csv\")\n",
    "```\n",
    "\n",
    "Or for an absolute path to our home directory if located at `/Users/bob`:\n",
    "```python\n",
    "data = open(\"/Users/bob/my_data.csv\")\n",
    "```\n",
    "\n",
    "Of if on a Windows machine:\n",
    "\n",
    "```python\n",
    "data = open(\"C:\\Users\\bob\\my_data.csv\")           \n",
    "```\n",
    "\n",
    "In all three examples of the `open()` function, it returns a **file object** and stores that object in a variable named `data`.  "
   ]
  },
  {
   "cell_type": "markdown",
   "id": "a8e79aa2-2726-4fec-981a-0ad61403e870",
   "metadata": {},
   "source": [
    "### 1.2. The File Object <a id=\"section-1.2\"></a>\n",
    "In the previous section, the code examples used the `open()` function and created a new `data` varible that stores the\n",
    "file object created by opening a file.  We have seen objects before. You may recall in the [Assignment 6 - Python Basics](A06-Python-Basics.ipynb) that strings are objects too. Objects have functions. Remember, we used the `format()` function of a string object to format the string for printing?  Similarly, the file object has functions that allows you to perform operations on the newly opened file.  The table below lists some commonly used functions of the file object.\n",
    "\n",
    "| Function Name | Purpose | \n",
    "| ------------- | ------- |\n",
    "| `read()` | Reads *all* of the contents from a file and returns it.|\n",
    "| `readline()` | Reads one line at a time from the file. Repeated calls to this function will read successive lines in the file.|\n",
    "| `write()` | Writes a line to the file.| \n",
    "| `seek()` | Moves the file handle to a new location in the file.|\n",
    "| `close()` | Closes the file--no more reads from or writes to the file can occur. |\n",
    "\n",
    "\n",
    "Just like with string objects, you can **call** an object's function by using the period `.`.  For example, to close the file you would use the following:\n",
    "\n",
    "```python\n",
    "data.close()\n",
    "```\n",
    "The above line of code calls the `close()` function that belongs to the file object stored in the `data` variable."
   ]
  },
  {
   "cell_type": "markdown",
   "id": "729e9c7c-98d3-4dfd-be75-dacb41baddb6",
   "metadata": {},
   "source": [
    "### 1.3. Reading a file <a id=\"section-1.3\"></a>\n",
    "Once the file is opened and you have a file object, you can read the file by using either the `read()` function or the `readline()` function. "
   ]
  },
  {
   "cell_type": "markdown",
   "id": "e3d8384b-b9d6-42f1-9bce-ec2e77947ad7",
   "metadata": {},
   "source": [
    "#### 1.3.1. The `read()` Function <a id=\"section-1.3.1\"></a>\n",
    "\n",
    "As indicated in the table of section 1.2, the `read()` function will read the entire contents of a file and return it.  You must store those contents in some variable for further action:\n",
    "\n",
    "```python\n",
    "# Open the file\n",
    "my_file = open(\"~/my_data.csv\")\n",
    "\n",
    "# Store the file contents\n",
    "contents = my_file.read()\n",
    "\n",
    "# Do something with the file contents.\n",
    "print(contents)\n",
    "```\n",
    "\n",
    "In the code above, the `open()` function creates a file object and gives your program access to the file. It also sets the file handle at the beginning of the file.  Next, the `my_file.read()` function will read all of the contents of the file and returns it as a large string object. That string object gets stored in the variable named `contents`. \n",
    "\n",
    "Lets read a real data file.  In the [Day 3 Exercises: The Command-line & Git](D03-Command_Line-git.ipynb) notebook we learned about the Iris dataset.  You can review the background in that notebook to learn about the dataset, but lets use the Iris dataset to practice.   A copy of the data file is found in this repository in the `data` folder named `iris_data.csv`. The following code will open that file, retrieve its contents print the number of characters in the file and then close the file:"
   ]
  },
  {
   "cell_type": "code",
   "execution_count": null,
   "id": "58f0b6a6-7655-4e96-9d6e-42e0850b0c15",
   "metadata": {},
   "outputs": [],
   "source": [
    "# Open the iris_data.csv file. It is in the data folder.\n",
    "iris_file = open(\"./data/iris_data.csv\")\n",
    "\n",
    "# Read all the contents of the iris data.\n",
    "iris_data = iris_file.read()\n",
    "\n",
    "# Print the number of characters in the file.\n",
    "print(len(iris_data))\n",
    "\n",
    "# Close the file.\n",
    "iris_file.close()"
   ]
  },
  {
   "cell_type": "markdown",
   "id": "3f4cda93-65fe-4781-afa7-ab5fec6c36f6",
   "metadata": {},
   "source": [
    "To count the number of characters we can use the built-in `len()` function. It will return a number specifying the number of characters in the `iris_data` string object.\n",
    "\n",
    "<div class=\"alert alert-warning\">\n",
    "    <b>Critical</b>: The <i>read()</i> function is simple to use, but is not practical for really large files. This is because variables are stored in your computer's main memory (its RAM).  For small files storing the entire contents in a variable (or main memory) will not be problematic. But consider a file of 6GB in size.  Does your computer have enough RAM to load such a file in main memory?\n",
    "</div>"
   ]
  },
  {
   "cell_type": "markdown",
   "id": "241f823c-9d15-4fa9-82e5-c1f4c8fcc781",
   "metadata": {},
   "source": [
    "#### 1.3.2. The `readline()` Function <a id=\"section-1.3.2\"></a>\n",
    "The `readline()` function is similar to the `read()` function but it does not read the entire contents of the file, instead it will read only one line at a time.  This is really useful for large files. Unlike the `read()` function, you will not be storing the entire contents of a file in your computer's main memory. Instead, you only store one line at a time.  The following code example will retrieve the first two lines of a file:\n",
    "\n",
    "```python\n",
    "# Open the file\n",
    "my_file = open(\"~/my_data.csv\")\n",
    "\n",
    "# Do something with the file contents\n",
    "line1 = my_file.readline()\n",
    "line2 = my_file.readline()\n",
    "print(line1)\n",
    "print(line2)\n",
    "```\n",
    "In the code sample above, the two calls to `my_file.readline()` each return a string object that gets stored in the variables `line1` and `line2` respectively.\n",
    "\n",
    "Lets try the same approach on the Iris dataset:"
   ]
  },
  {
   "cell_type": "code",
   "execution_count": null,
   "id": "dc7f18bb-3b08-4bc2-b5c7-59822ea70ee4",
   "metadata": {},
   "outputs": [],
   "source": [
    "# Open the iris_data.csv file. It is in the data folder.\n",
    "iris_file = open(\"./data/iris_data.csv\")\n",
    "\n",
    "# Read all the first two lines of the Iris dataset and print them.\n",
    "line1 = iris_file.readline()\n",
    "line2 = iris_file.readline()\n",
    "print(line1)\n",
    "print(line2)\n",
    "\n",
    "# Close the file.\n",
    "iris_file.close()"
   ]
  },
  {
   "cell_type": "markdown",
   "id": "e6a6b900-fb7c-42aa-a9f9-edb7713fc099",
   "metadata": {},
   "source": [
    "We can learn a bit about the Iris dataset by printing the first two lines. We learn that the file is comma-seperated (although that was obvious from the file extension `.csv`). We also learn that the file has a header line that contains the names: `sepal_length,sepal_width,petal_length,petal_width,species`.  Lastly, we see that the the first columns of data are numeric continuous (floats) and the last column is text (a string).  \n",
    "\n",
    "Take a moment to click on the `iris_data.csv` file in the `data` folder.  You will notice that JupyterLab gives you a nice tabular view of the data where the rows and columns are clearly visible.\n",
    "\n",
    "<img src=\"media/A07-jupyter_data.png\"></src>\n"
   ]
  },
  {
   "cell_type": "markdown",
   "id": "c66d6e27-0758-47d9-bb5d-1201b789cfa0",
   "metadata": {},
   "source": [
    "From this view of the file in JupyterLab you see the first two lines of the file match the lines we printed in the cell above. However, when we printed the first two lines there is an extra line between the header and the first line of data: \n",
    "\n",
    "```\n",
    "sepal_length,sepal_width,petal_length,petal_width,species\n",
    "\n",
    "5.1,3.5,1.4,0.2,setosa\n",
    "```\n",
    "\n",
    "This extra line is not present in the data file! How did that extra line get there?  The answer is that when we read each line we are also reading in the line ending characters. Each line in text file must tell the computer where it ends. This is accomplished by the presence of special hidden characters at the end of each line.  In windows these hidden characters are the escape codes: `\\r\\n`; in OS X the code is `\\r`; and in Linux it is `\\n`.  If you need a reminder about escape codes, please see the section on Strings in the [Assignment 6: Python Basics](A06-Python-Basics.ipynb) notebook. So, each line read by the `readline()` function has this invisible end-of-line character sequence. The extra line is added by the `print()` function! The `print()` function will always add a new line to the end of anything it prints.  There are two ways to fix, or exclude, the extra line.\n",
    "\n",
    "**Method 1**: The first way to avoid an extra line in the output is to tell the `print()` function not to add the line endings. We know the string already has them, so the print function does not need to add them.  This is done by giving the named argument `end` to the function and setting it to the empty string. For example:\n",
    "\n",
    "```python\n",
    "print(line1, end=\"\")\n",
    "```\n",
    "The following code fixes the extra line in the output using this method:"
   ]
  },
  {
   "cell_type": "code",
   "execution_count": null,
   "id": "73d6c0d1-262d-4d86-b653-c9803f4caaa1",
   "metadata": {},
   "outputs": [],
   "source": [
    "# Open the iris_data.csv file. It is in the data folder.\n",
    "iris_file = open(\"./data/iris_data.csv\")\n",
    "\n",
    "# Read the first two lines of the Iris dataset and print them.\n",
    "line1 = iris_file.readline()\n",
    "line2 = iris_file.readline()\n",
    "print(line1, end=\"\")\n",
    "print(line2, end=\"\")\n",
    "\n",
    "# Close the file.\n",
    "iris_file.close()"
   ]
  },
  {
   "cell_type": "markdown",
   "id": "e7a0e56a-abc4-47e3-b9ba-f26aa2727668",
   "metadata": {},
   "source": [
    "**Method 2**: The second way to avoid an extra line in the output is to remove the line ending from the string.  This is done by calling the `strip` function that belongs to the string object. The strip function removes all white space in front of and at the end of the string. For example:\n",
    "\n",
    "```python\n",
    "print(line1.strip())\n",
    "```\n",
    "The following code fixes the extra line in the output using this method:"
   ]
  },
  {
   "cell_type": "code",
   "execution_count": null,
   "id": "92d9d2e2-a2f5-4881-a95f-9f8269f4e227",
   "metadata": {},
   "outputs": [],
   "source": [
    "# Open the iris_data.csv file. It is in the data folder.\n",
    "iris_file = open(\"./data/iris_data.csv\")\n",
    "\n",
    "# Read the first two lines of the Iris dataset and print them.\n",
    "line1 = iris_file.readline()\n",
    "line2 = iris_file.readline()\n",
    "print(line1.strip())\n",
    "print(line2.strip())\n",
    "\n",
    "# Close the file.\n",
    "iris_file.close()"
   ]
  },
  {
   "cell_type": "markdown",
   "id": "d11779f9-1892-4db6-b11c-4c9e35613981",
   "metadata": {},
   "source": [
    "Notice in method #2 the print function is allowed to add line endings because we stripped them out with the `strip()` function.  "
   ]
  },
  {
   "cell_type": "markdown",
   "id": "a74e9db7-46df-4aae-89ab-255d03221f3a",
   "metadata": {},
   "source": [
    "###  <i class=\"fas fa-puzzle-piece\"></i> 1.4. Practice \n",
    "What would happen if you used both methods to exclude the end of line characters?  Write in the box below what you think would happen. Then, in the next cell write the code that would use both methods and see if it matches what you thought would happen."
   ]
  },
  {
   "cell_type": "raw",
   "id": "76b22951-ff0f-4c6d-bda7-40eb238919ec",
   "metadata": {},
   "source": []
  },
  {
   "cell_type": "code",
   "execution_count": null,
   "id": "cd991a5b-0bf6-4d5a-83dc-c9de1e28bb76",
   "metadata": {},
   "outputs": [],
   "source": []
  },
  {
   "cell_type": "markdown",
   "id": "114d65bb-ebe0-441f-b8be-0db80718ecfe",
   "metadata": {},
   "source": [
    "### 1.5. Closing a file <a id=\"section-1.5\"></a>\n",
    "As we learned in the table of section 1.1.2, the `close()` function is used for closing a file. Once closed, no more read or write operations can be performed on the file. You would need to re-open the file if you want to perform additional operations.  The following code provides a complete example for opening, reading from a file and then properly closing it. \n",
    "\n",
    "```python\n",
    "# Open the file\n",
    "my_file = open(\"~/my_data.csv\")\n",
    "\n",
    "# Do something with the file contents\n",
    "contents = my_file.read()\n",
    "print(contents)\n",
    "\n",
    "# Close the file\n",
    "my_file.close()\n",
    "```\n",
    "\n",
    "You should always close any file you open before the program terminates.  Python will give a warning when you run the program if you fail to close a file.  Actually, despite the warning, Python will close the file for you. For a short program like the code above, the warning is only annoying. But for scripts that open lots of files it can be problematic if you forget to close a file.  This is because operating systems (Windows, OS X, Linux) have limits on the number of file handles you can have open at once.  If you open thousands of files and do not close them, you can use up all of the available file handles and no other program on your computer, including your program, can open files until your program terminates.\n",
    "\n",
    "<div class=\"alert alert-warning\">\n",
    "    <b>Critical</b>: Always close open files in the code prior to the end of the program!\n",
    "</div>"
   ]
  },
  {
   "cell_type": "markdown",
   "id": "cc4c5bd1-d1e2-472f-aeeb-25a35e4f86a8",
   "metadata": {},
   "source": [
    "### 1.6 Writing to a File <a id=\"section-1.6\"></a>"
   ]
  },
  {
   "cell_type": "markdown",
   "id": "80e1f598-b802-4646-a12a-94b0c4fd9067",
   "metadata": {},
   "source": [
    "We learned to get access to a file we need to first use the `open()` function.  By default, the `open()` function will *only* open the file for reading. It will not allow us to write to the file.  We need to provide a second argument to tell Python to give us access to write to the file.  This second argument is called **mode**. To open a file for writing we need need to provide the `\"w\"` string. For example:\n",
    "\n",
    "```python\n",
    "# Open the file for writing.\n",
    "my_file = open(\"~/my_data.csv\", \"w\")\n",
    "```\n",
    "\n",
    "Notice, in the instruction above, the second argument to the `open` function is the string `\"w\"`. This tells Python to open the file for writing.   The `\"w\"`, or \"write\", mode will also create the file if it does not exist.  This is convenient because we do not have to precreate the file.  But, what if the file already exsits? If we use the `\"w\"` mode and the file exists then the file will be opend for writing but all existing contents will be removed. The file will become empty and the file handle will be set at the beginning of the file, ready for us to add new content.  If the file exists and we do not want to erase the contents we can use the `\"a\"` mode (for \"append\").  The `\"a\"` mode will open the file for writing, it will not empty the file contents, and it will set the file handle at the end of the file. Once the file is opened and ready for writing, then there are two ways we can write to a file: using the `write()` method of the file object or, using the `print()` function."
   ]
  },
  {
   "cell_type": "markdown",
   "id": "8af65646-e67b-4ab1-a437-1cbe8161fe44",
   "metadata": {},
   "source": [
    "#### 1.5.1. The `write()` Function <a id=\"section-1.5.1\"></a>\n",
    "Writing to a file is relatively easy using the file handle's `write()` function by providing the string as an argument. For example:\n",
    "\n",
    "```python\n",
    "# Open the file for writing.\n",
    "my_file = open(\"new_data.txt\", \"w\")\n",
    "\n",
    "# Write text to the file.\n",
    "my_file.write(\"How now brown cow.\\n\")\n",
    "my_file.write(\"The quick brown fox jumped over the lazy dog.\\n\")\n",
    "\n",
    "# Close the file.\n",
    "my_file.close()\n",
    "```\n",
    "\n",
    "In the code above, a file named `new_data.txt` will be created and two new lines will be added. Notice that at the end of each string provided to the `write()` function that we have a newline character `\\n`. Unlike the print function, the `write()` function does not automatically add an end-of-line character to  the string. You have to specify where you want new lines.  For that reason, the following `write()` call would accomplish the same results as the two lines shown in the code above:\n",
    "\n",
    "```python\n",
    "my_file.write(\"How now brown cow.\\nThe quick brown fox jumped over the lazy dog.\\n\")\n",
    "```\n",
    "\n",
    "The `write()` function doesn't expect the new line character to be at the end of the line. You control where those appear in the string.\n",
    "\n",
    "Let's run the code and see what happens: "
   ]
  },
  {
   "cell_type": "code",
   "execution_count": null,
   "id": "7cab8e35-60fe-462a-b912-06e18d739d4c",
   "metadata": {},
   "outputs": [],
   "source": [
    "my_file = open(\"new_data.txt\", \"w\")\n",
    "\n",
    "# Write text to the file.\n",
    "my_file.write(\"How now brown cow.\\n\")\n",
    "my_file.write(\"The quick brown fox jumped over the lazy dog.\\n\")\n",
    "\n",
    "# Close the file.\n",
    "my_file.close()"
   ]
  },
  {
   "cell_type": "markdown",
   "id": "de57c5ee-e2d2-4a97-b1df-22620226fa76",
   "metadata": {},
   "source": [
    "The above code does not print any output when the cell is run, but it does create a new file named `new_data.txt`. It should appear in the file browser to the right in JupyterLab. If you double click the file you can see the contents. Do they match what we expect?"
   ]
  },
  {
   "cell_type": "markdown",
   "id": "eb523959-0c78-4d62-b43e-e626aa1f4a00",
   "metadata": {},
   "source": [
    "#### 1.5.2. Write With `print()` <a id=\"section-1.5.2\"></a>\n",
    "The `write()` function provides an easy way to write contents to a file. But you can also use the `print()` function.  To do this, you provide a new named argument called `file` where you specify the file object.  For example:\n",
    "\n",
    "```python\n",
    "# Open the file for writing.\n",
    "my_file = open(\"new_data2.txt\", \"w\")\n",
    "\n",
    "# Write text to the file.\n",
    "print(\"How now brown cow.\", file=my_file)\n",
    "print(\"The quick brown fox jumped over the lazy dog.\", file=my_file)\n",
    "\n",
    "# Close the file.\n",
    "my_file.close()\n",
    "\n",
    "```\n",
    "Notice in the code above that the `print()` function recieves a new named argument called `file` set to the name of the file object.  Also notice, we did not include the line endings in the string like we did for the `write()` function. This is because the print function will add the line endings (unless we tell it not to).  Lets run this code and see for ourselves if the output is identical to the output from Section 1.5.1"
   ]
  },
  {
   "cell_type": "code",
   "execution_count": null,
   "id": "37af502d-4e60-4d72-b498-bc73b9ce2230",
   "metadata": {},
   "outputs": [],
   "source": [
    "my_file = open(\"new_data2.txt\", \"w\")\n",
    "\n",
    "# Write text to the file.\n",
    "print(\"How now brown cow.\", file=my_file)\n",
    "print(\"The quick brown fox jumped over the lazy dog.\", file=my_file)\n",
    "\n",
    "# Close the file.\n",
    "my_file.close()"
   ]
  },
  {
   "cell_type": "markdown",
   "id": "fdd984f8-436a-4bc2-9b1f-b9f10d562020",
   "metadata": {},
   "source": [
    "Open the file named `new_data2.txt`. Are the contents the same as `new_data.txt`?  \n",
    "\n",
    "**Note**: You will not need to commit these two files at the end of this lesson, so feel free to delete the `new_data.txt` and `new_data2.txt` files if you like."
   ]
  },
  {
   "cell_type": "markdown",
   "id": "93adef12-a7cb-4ba7-a80b-06e55ae20d61",
   "metadata": {},
   "source": [
    "### 1.6. Character Encoding <a id=\"section-1.6\"></a>\n",
    "In the early days of computing, English text was represented in computers using the [ASCII character encoding](https://www.asciitable.com/) method. The language of computers is 1's and 0's and these 1's and 0's can be combined to form numbers.  Thus, the ASCII encoding used numbers to represent characters in the English language. For example, the character \"A\" was encoding using the number 65. A \"B\" was encoded using the number 66, etc. A lowercase \"a\" was encoding using the number 97, \"b\" as 98 and so forth.  The ASCII encoding is still used today, but it cannot be used for languages other than English, it can only represent 128 characters and those 128 numbers are already accounted for. \n",
    "\n",
    "The [UTF-8](https://en.wikipedia.org/wiki/UTF-8) character encoding however is a different encoding that supports 1,112,065 charcters.  There are so many characters that [emojis are encoded](https://emojipedia.org/unicode-8.0/) in the UTF-8 standard. There are other encodings besides UTF-8 as well. \n",
    "\n",
    "To explore encoding, click on the file named `languages.txt` in the `data` folder of this repository. This file was obtained from [Learn Python the Hard Way](https://learnpythonthehardway.org/python3/languages.txt).  You will see a list of languages, written in their own alphabets. This file is UTF-8 encoded.\n",
    "\n",
    "Lets try opening this file in the way we just learned:"
   ]
  },
  {
   "cell_type": "code",
   "execution_count": null,
   "id": "1efc897f-1195-4ddf-9cfe-3e7b22c76eed",
   "metadata": {},
   "outputs": [],
   "source": [
    "lang_file = open(\"data/languages.txt\")\n",
    "print(lang_file.read())\n",
    "lang_file.close()"
   ]
  },
  {
   "cell_type": "markdown",
   "id": "4e594311-9a8b-432b-95ea-01e97ff0a615",
   "metadata": {},
   "source": [
    "Uh oh! We get an error message stating that the file cannot be opened because the \"codec can't decode byte...\".  The `open()` function, by default, expects ASCII encoding.  If the text file uses a different encoding we must specify it using the argument named `encoding`.  The following example will open the file using the `UTF-8` encoding which will cause the contents of the file to be propery read."
   ]
  },
  {
   "cell_type": "code",
   "execution_count": null,
   "id": "c7ebf26f-401b-4cac-a7d5-ccee7ee63b7b",
   "metadata": {},
   "outputs": [],
   "source": [
    "lang_file = open(file=\"data/languages.txt\", encoding=\"UTF-8\")\n",
    "print(lang_file.read())\n",
    "lang_file.close()"
   ]
  },
  {
   "cell_type": "markdown",
   "id": "f8a25155-09e0-4c86-9564-27232516b94e",
   "metadata": {},
   "source": [
    "Often, plain text data files are provided in ASCII format. This is because they typically contain only integers, floats and English style strings.  So you may not encounter too many data files with UTF-8 encoding. But it is possible!  You should be aware that other formats exist so you can read these different files."
   ]
  },
  {
   "cell_type": "markdown",
   "id": "68016814-b643-413c-b790-8401dc2343a6",
   "metadata": {},
   "source": [
    "### 1.7. Splitting a Line <a id=\"section-1.7\"></a>\n",
    "Lets look again at the Iris dataset.  We saw that the first line of data looks like the following:\n",
    "\n",
    "```\n",
    "5.1,3.5,1.4,0.2,setosa\n",
    "```\n",
    "\n",
    "The first four columns are continous numeric (or float) values. The last is a string value.   In the examples above, we used the `readline()` function to read the line as a single string.  How do we separate the values into their own variables?  The answer is the `split()` function of the string object.  The `split()` function will allow us to provide a character that serves as the **delimeter** and will \"chop\" the string into smaller individual strings by cutting on the delimter character.  To split the string on the comma, run the following code.  You will notice we have run similar code above, but this time we use the `split()` function to chop the line.\n"
   ]
  },
  {
   "cell_type": "code",
   "execution_count": null,
   "id": "d64b225f-b47f-42dd-a471-724c0c652826",
   "metadata": {},
   "outputs": [],
   "source": [
    "# Open the iris_data.csv file. It is in the data folder.\n",
    "iris_file = open(\"./data/iris_data.csv\")\n",
    "\n",
    "# Read the first two lines of the Iris dataset and print them.\n",
    "header = iris_file.readline()\n",
    "row1 = iris_file.readline()\n",
    "\n",
    "# Chop the line using the comma.\n",
    "print(row1.strip().split(\",\"))\n",
    "\n",
    "# Close the file.\n",
    "iris_file.close()"
   ]
  },
  {
   "cell_type": "markdown",
   "id": "2a36bbbb-e512-4274-a35d-6613db816b9d",
   "metadata": {},
   "source": [
    "The `split()` command now returns a list of strings!  You can easily identify lists in Python because they are surrounded by square brackets `[]` and the elements are separated using commas (the commmas are not part of the strings in the list).  We will learn more about Python lists in a future lesson.  \n"
   ]
  },
  {
   "cell_type": "markdown",
   "id": "3833d10b-bbf9-4552-a960-453826d5332d",
   "metadata": {},
   "source": [
    "### 1.8. Function Chains <a id=\"section-1.8\"></a>\n",
    "Notice in the code above this construct:  `row1.strip().split(\",\")`. What is that?  We know that the string object has a `strip()` function and the string object has a `split()` function but how are we able to connect them together like that?  Consider the following code. It behaves equivalently:\n",
    "\n",
    "```python\n",
    "row1_stripped = row1.strip()\n",
    "row1_list = row1_stripped.split(\",\")\n",
    "```\n",
    "In the code above we strip the line endings from the string using the `strip()` function and store the resulting string object in a variable named `row1_stripped`. It is a string object.  Then in the second line we split the string (with the line endings removed) and store the result in a list object. \n",
    "\n",
    "We can avoid saving return values in variables if we never need to use them again because Python can \"substitute\" return values in place of the function call.  In this line of code, `row1.strip().split(\",\")`,  the `row1.strip()` function returns a string object. So, when Python executes the code, it will replace the `row1.strip()` portion with an \"invisible\" variable containing the returned string object. It can then run the  `split(\",\")` function on the invisible variable.\n",
    "\n",
    "If you remember the return value of each function call, you can create these **chains** of function calls."
   ]
  },
  {
   "cell_type": "markdown",
   "id": "ad0b912a-5a39-4eb4-bbb4-389e70fb694d",
   "metadata": {},
   "source": [
    "### 1.9. Unpacking <a id=\"section-1.9\"></a>\n",
    "\n",
    "In the code above, we have the variables in a list. But, what if we want to put these values directly into distinct variables? To do this we can use the **unpacking** method. Remember we used unpacking when we learned about program arguments in [Assignment 6 - Python Basics](A06-Python-Basics.ipynb)?  Unpacking simply copies the values of a list into a comma separated list of variables.  \n",
    "\n",
    "Review and then run the following cell.  It unpacks the list after splitting into distinct variables and then uses those variables in a formatted string."
   ]
  },
  {
   "cell_type": "code",
   "execution_count": null,
   "id": "8b3f7952-48d2-40b4-917e-5efeec19b999",
   "metadata": {},
   "outputs": [],
   "source": [
    "# Open the iris_data.csv file. It is in the data folder.\n",
    "iris_file = open(\"./data/iris_data.csv\")\n",
    "\n",
    "# Read the first two lines of the Iris dataset and print them.\n",
    "header = iris_file.readline()\n",
    "row1 = iris_file.readline()\n",
    "\n",
    "# Split the line using the comma and use unpacking to \n",
    "# put the values into separate variables.\n",
    "sepal_length, sepal_width, petal_length, petal_width, species =  row1.strip().split(\",\")\n",
    "\n",
    "# Now we can use the variables to print a formatted string.\n",
    "print(\"Species: {}. Sepal length x width = {}cm x {}cm. Petal length x width = {}cm x {}cm.\".format(species, sepal_length, sepal_width, petal_length, petal_width))\n",
    "\n",
    "# Close the file.\n",
    "iris_file.close()"
   ]
  },
  {
   "cell_type": "markdown",
   "id": "e8dddac6-80b2-4019-bd63-e14aa7c19f9d",
   "metadata": {},
   "source": [
    "The unpacking occurs in this line of code:\n",
    "\n",
    "```python\n",
    "sepal_length, sepal_width, petal_length, petal_width, species =  row1.strip().split(\",\")\n",
    "```\n",
    "Here, instead of returing a list of of 5 elements, the 5 elements resulting from the `split(\",\")` are stored in the five variables. "
   ]
  },
  {
   "cell_type": "markdown",
   "id": "ca0ea2c2-67d6-49a1-a5bb-5eaf3954bbd5",
   "metadata": {},
   "source": [
    "### 1.10. Type Casting <a id=\"section-1.10\"></a>\n",
    "The last item we want to learn regarding import of data from files is setting the correct types for data we import. Remember in [Assignment 6 - Python Basics](A06-Python-Basics.ipynb) we learned of several basic Python data types:  **int**, **float**, **string** and **boolean**.  If we are reading data files then we want to be sure that the data we read gets stored in variables in the correct type.  By default, the `read()` and `readline()` functions return data from a file as a string object. However, the first data line shows that we have data that is not a string:\n",
    "\n",
    "```\n",
    "5.1,3.5,1.4,0.2,setosa\n",
    "```\n",
    "Even after unpacking, the data are separate strings.  In the Iris dataset, we want to convert the first 4 columns of data to floats and we can leave the last as a string.  Changing a variable from one data type to another is called **type casting**.  To convert string values to an integer or float we can use the `int()` and `float()` functions respectively.  Lets add type casting to the code we just ran:"
   ]
  },
  {
   "cell_type": "code",
   "execution_count": null,
   "id": "7e597bb1-356b-420c-9eaf-9ddcd297e6e7",
   "metadata": {},
   "outputs": [],
   "source": [
    "# Open the iris_data.csv file. It is in the data folder.\n",
    "iris_file = open(\"./data/iris_data.csv\")\n",
    "\n",
    "# Read all the first two lines of the Iris dataset and print them.\n",
    "header = iris_file.readline()\n",
    "row1 = iris_file.readline()\n",
    "\n",
    "# Chop the line using the comma and use unpacking to \n",
    "# put the values into separate variables.\n",
    "sepal_length, sepal_width, petal_length, petal_width, species =  row1.strip().split(\",\")\n",
    "\n",
    "# Perform type casting to convert the string values to floats.\n",
    "print(type(sepal_length))\n",
    "sepal_length = float(sepal_length)\n",
    "print(type(sepal_length))\n",
    "sepal_width = float(sepal_width)\n",
    "petal_length = float(petal_length)\n",
    "petal_width = float(petal_width)\n",
    "\n",
    "# Now we can use the variables to print a formatted string.\n",
    "print(\"Species: {}. Sepal length x width = {}cm x {}cm. Petal length x width = {}cm x {}cm.\".format(species, sepal_length, sepal_width, petal_length, petal_width))\n",
    "\n",
    "# Close the file.\n",
    "iris_file.close()"
   ]
  },
  {
   "cell_type": "markdown",
   "id": "61ed4bc8-b5f4-4c8b-885e-d3804b360837",
   "metadata": {},
   "source": [
    "In the code above you will find the following lines:\n",
    "\n",
    "```python\n",
    "print(type(sepal_length))\n",
    "sepal_length = float(sepal_length)\n",
    "print(type(sepal_length))\n",
    "```\n",
    "Here we have two `print()` statements before and after the `float()` type casting function. The `type()` function used in the `print()` function can tell us what the variable type is. Notice in the output from the cell above that prior to the type cast the variable is a `str` (string) and after is now a `float`!"
   ]
  },
  {
   "cell_type": "markdown",
   "id": "c9adf7fd-7fca-4602-a57c-67f5fb15ba8a",
   "metadata": {},
   "source": [
    "### <i class=\"fas fa-puzzle-piece\"></i> 1.11 Practice\n",
    "We just learned a lot about opening, reading and writing files!  Lets try to bring it all together through a practice exercise.   In the data folder of this repository you will find a file named `ecoli_data.txt`.  This data was downloaded from [UCI Machine Learning Repository Ecoli Data set page](https://archive.ics.uci.edu/ml/datasets/Ecoli). For this practice section we do not need to understand what the data is. If you are interested please read more on the data webpage.  Here, we only need to know what the data columns are.  Using this file, perform the tasks listed below.\n",
    "\n",
    "#### Task 1\n",
    "In the cell below, write Python code to open the file and print the first three lines of the file. "
   ]
  },
  {
   "cell_type": "code",
   "execution_count": null,
   "id": "70d49c2f-1038-4a5e-9a52-7e4f352d88d5",
   "metadata": {},
   "outputs": [],
   "source": []
  },
  {
   "cell_type": "markdown",
   "id": "24963511-0d51-43fa-9bca-f056ff3df384",
   "metadata": {},
   "source": [
    "In the cell below, enter the data types of each column of data."
   ]
  },
  {
   "cell_type": "raw",
   "id": "84d2409a-b8d3-4795-925e-2e41ad305b8c",
   "metadata": {},
   "source": []
  },
  {
   "cell_type": "markdown",
   "id": "cf8ec82c-d907-4a2c-b6b3-c4897729a570",
   "metadata": {},
   "source": [
    "#### Task 2\n",
    "In the cell below, adjust your Python code to split the first three lines of data into lists and then print the lists instead of the line.  **Hint**: If you do not provide a delimeter to the `split()` function it will split on empty white space. You can read more about the `str.split` function [here](https://docs.python.org/3.3/library/stdtypes.html#str.split)."
   ]
  },
  {
   "cell_type": "code",
   "execution_count": null,
   "id": "05796e11-767e-424e-a921-54c374ba2363",
   "metadata": {},
   "outputs": [],
   "source": []
  },
  {
   "cell_type": "markdown",
   "id": "1929e6b5-40c7-4c91-9ed4-120bee352066",
   "metadata": {},
   "source": [
    "#### Task 3"
   ]
  },
  {
   "cell_type": "markdown",
   "id": "0639e63a-e5a2-4cf5-ba1d-0f02bfe29c2a",
   "metadata": {},
   "source": [
    "Use unpacking to store the contents of the third line into 9 different variables (one for each column) and make sure the variables are of the correct data type for the value (i.e., a **float** for numeric values). Print out the types of each variable to prove to yourself that you have the data types correct. Write your code in the following cell"
   ]
  },
  {
   "cell_type": "code",
   "execution_count": null,
   "id": "b43527ef-3019-4403-9ab9-9691a547f97e",
   "metadata": {},
   "outputs": [],
   "source": []
  },
  {
   "cell_type": "markdown",
   "id": "26a8e226-eca9-47e7-b287-00f22504be76",
   "metadata": {},
   "source": [
    "#### Task 4\n",
    "Write python code in the following cell that will performs the following:\n",
    "1. Open a file for writing, it should use UTF-8 encoding.\n",
    "2. Write the text with Chinese characters shown below in the file. It should save the new file in UTF-8 encoding. \n",
    "3. Be sure to close your files!\n",
    "\n",
    "```\n",
    "滚滚长江东逝水，浪花淘尽英雄。是非成败转头空，青山依旧在，几度夕阳红。白发渔樵江渚上，惯看秋月春风。一壶浊酒喜相逢，古今多少事，都付笑谈中。是非成败转头空，青山依旧在，惯看秋月春风。一壶浊酒喜相逢，古今多少事，滚滚长江东逝水，浪花淘尽英雄。 几度夕阳红。白发渔樵江渚上，都付笑谈中.......\n",
    "```"
   ]
  },
  {
   "cell_type": "code",
   "execution_count": null,
   "id": "dc289f17-8a7f-41c5-b3d2-b8429ae5b208",
   "metadata": {},
   "outputs": [],
   "source": []
  },
  {
   "cell_type": "markdown",
   "id": "9583eb5f-ca01-45db-8233-2f2bc31b5709",
   "metadata": {},
   "source": [
    "Now, read in the file again without UTF-8 econding. Print the contents. It should not look correct. This will prove to yours that you successfully wrote a file in the UTF-8 encoding format. "
   ]
  },
  {
   "cell_type": "code",
   "execution_count": null,
   "id": "ae497a64-60ad-40a8-b86a-13dc12c1857f",
   "metadata": {},
   "outputs": [],
   "source": []
  },
  {
   "cell_type": "markdown",
   "id": "cda40da7-00f8-4ac8-978e-73c85aa20438",
   "metadata": {},
   "source": [
    "Lastly, read in the file again but with UTF-8 encoding enabled.  Print the contents, they should look correct."
   ]
  },
  {
   "cell_type": "code",
   "execution_count": null,
   "id": "52919358-f819-4f59-a811-97c6e0ef4990",
   "metadata": {},
   "outputs": [],
   "source": []
  },
  {
   "cell_type": "markdown",
   "id": "135d01d5-b5bc-4e08-8d05-83e258bb6454",
   "metadata": {},
   "source": [
    "## 2. Python Documentation <a id=\"section-2\"></a>\n",
    "Before we continue lets pause to explore Python documentation.  We just learned about the `open()` function and how it can be used to provide access to a file for either reading or writing.  We learned that it can accept several input arguments including the file name, a named variable `mode` (for specifing writing or appending) and another named `encoding` (to set UTF-8 encoding).  But that function has more arguments. The online Python documentation can help us better learn how functions and objects work.  Below are links for Python Documentation pages:\n",
    "\n",
    "- [Python 3 Documentation Home](https://docs.python.org/3/index.html). The home page for core Python documentation.\n",
    "- [Python 3 Lanugage Reference](https://docs.python.org/3/reference/index.html). A walk through of the langage syntax.\n",
    "- [Python 3 Tutorial](https://docs.python.org/3/tutorial/index.html). Quick lessons for learning Python.\n",
    "- [Python 3 Built-in Function Reference](https://docs.python.org/3/library/functions.html). Use this for instructions for all built-in Python functions.\n",
    "\n",
    "<div class=\"alert alert-warning\">\n",
    "    <b>Important</b>: As you develop your programming abilities you will often need to refer to the language documentation. Always make sure you know where to find it. It is okay to refer to documentation if you cannot remember syntax.\n",
    "</div>"
   ]
  },
  {
   "cell_type": "markdown",
   "id": "d3f824db-928e-478e-b5dc-556ad9dae14f",
   "metadata": {},
   "source": [
    "### <i class=\"fa fa-cogs\"></i> Explore \n",
    "\n",
    "Take a moment to peruse the [Python 3 Built-in Function Reference](https://docs.python.org/3/library/functions.html).\n"
   ]
  },
  {
   "cell_type": "markdown",
   "id": "b1a94a20-3e76-4c2a-97a7-699562d60eff",
   "metadata": {},
   "source": [
    "## 3. Functions <a id=\"section-3\"></a>\n",
    "Functions are one of the most important developments in programming languages.  As we will learn, they allow you to encapsulate commonly used functionality into reusable chunks of code.  "
   ]
  },
  {
   "cell_type": "markdown",
   "id": "cd9691ea-59f2-49d0-b2ca-6faebdc52d98",
   "metadata": {},
   "source": [
    "### 3.1. More on function arguments <a id=\"section-3.1\"></a>\n",
    "Before we learn to write our own functions, lets take another look at function arguments. If you look at the built-in function reference for the [open() function](https://docs.python.org/3/library/functions.html#open), you will see a formal definition of the function that looks like this:\n",
    "\n",
    "```python\n",
    "open(file, mode='r', buffering=-1, encoding=None, errors=None, newline=None, closefd=True, opener=None)\n",
    "```\n",
    "Notice there are several arguments that you can provide to the `open()` function. We already used **file**, **mode** and **encoding** in the previous sections. We will not learn about those other arguments here, but you can read the online documentation to learn more. \n",
    "\n",
    "One thing we can immediately see from this definition, though, is that some of the arguments look like variables with assigned values (e.g. `bufferng=-1`). When an argument has an assignment in the function definition it means that variable gets a default value if the variable is not provided.   Notice that the `mode` argument is set to the string `'r'` which sets the mode for \"reading\". That's why the `open()` function always supports reading by default. You have to specify `mode='w'` to open a file for writing.\n",
    "\n",
    "One other item to point out.  If you specify the variable names when you call the function then they can appear in any order. Otherwise, arguments must appear in the order that the function defintion describes. The following are all valid calls to the `open()` function:\n",
    "\n",
    "```python\n",
    "# Open a file for reading.\n",
    "data_file1 = open('my_data1.csv', encoding='UTF-8')\n",
    "\n",
    "# Open a second file for writing.\n",
    "data_file2 = open('my_data2.csv', encoding='UTF-8', mode='w')\n",
    "\n",
    "# Open a third file for appending.\n",
    "data_file2 = open(encoding='UTF-8', mode='a', file='my_data3.csv')\n",
    "```\n",
    "In the first two open calls, the file variable is not named, so it must appear first because its first in the function definition.  Named variables afterwards can appear in any order. In the first call, notice there is no mode argument so it gets a default value of `'r'`."
   ]
  },
  {
   "cell_type": "markdown",
   "id": "229f8574-5a45-4d52-8f55-514c515344fe",
   "metadata": {},
   "source": [
    "### 3.2. Creating your own function <a id=\"section-3.2\"></a>\n",
    "Function consist of three parts:\n",
    "1. A **definition** line that specifies the name of the function and its supported arguments.\n",
    "2. Internal code that performs some task.\n",
    "3. An optional **return value**. Functions do not have to return a value, but they can.\n",
    "\n",
    "To define a function in python you begin the line with the keyword `def`, the function name follows and then the list of arguments.  For example:\n",
    "\n",
    "```python\n",
    "# Function definition line:\n",
    "def my_function()\n",
    "\n",
    "    # Task to perform:\n",
    "    print(\"Hello World!\")    \n",
    "    \n",
    "    # Return value\n",
    "    return 1\n",
    "```\n",
    "The code above defines a function named `my_function()`. There are no arguments defined between the parentheses so this function has no arguments that the caller needs to provide. The function perfoms the task of printing \"Hello World!\" then it returns an integer value of 1.  \n",
    "\n",
    "When writing functions, there are a few small rules:\n",
    "\n",
    "- Functions can only have letters, numbers and underscores in the name.\n",
    "- Function names cannot start with a number.\n",
    "- Function arguments required by the function are always surrounded by parentheses and separated by commas.\n",
    "- You must indent the internal lines of code that belong to the function.  \n",
    "- You end your function by no longer indenting.  \n",
    "\n",
    "Lets look at another example:\n",
    "\n",
    "```python\n",
    "def addition(val1, val2):\n",
    "    result = val1 + val2\n",
    "    return result\n",
    "```\n",
    "\n",
    "This function is named `addition()`, it accepts two arguments named `val1` and `val2`. Inside the function it performs the task of adding the numbers and then it returns the result.  "
   ]
  },
  {
   "cell_type": "markdown",
   "id": "c59f7a24-815a-408a-ae10-3cd9325ddef8",
   "metadata": {},
   "source": [
    "### 3.3. Calling your function <a id=\"section-3.3\"></a>\n",
    "\n",
    "Now that we have a function, we can use anytime to add two numbers. This may seem a bit uncessary since we can already do that with the `+` operator, but we will proceed to to demonstrate functions.  Now that we have the function defined we want to use it (or **call** it). The following code demonstrates how to call a function:\n",
    "\n",
    "```python\n",
    "\n",
    "# The function is defined:\n",
    "def addition(val1, val2):\n",
    "    result = val1 + val2\n",
    "    return result\n",
    "\n",
    "# Call our function.\n",
    "sum = addition(100, 200)\n",
    "\n",
    "# Print the return value.\n",
    "print(sum)\n",
    "\n",
    "```\n",
    "\n",
    "Remember, the function definition ends when the indenting of lines of code stops.  This means the line of `sum = addition(100, 200)`, which is not indented, is not in the function. As the code shows, we can call our new `addition()` function just like we called `open()` or `print()`. We can **pass** arguments to it, and if our function returns a value we can store it in a variable. The code above passes the numbers 100 and 200 and then stores the return value in a new variable named `sum`.  \n",
    "\n",
    "<div class=\"alert alert-warning\">\n",
    "    <b>Critical</b>: Python is very strict about indenting code.  Always pay close attention to the indentation of your code. If it is incorrect, your program will not run.\n",
    "</div>\n",
    "\n",
    "Lets run a new variation of the code above to see how we can call the `addition()` function multiple times in the same program:"
   ]
  },
  {
   "cell_type": "code",
   "execution_count": null,
   "id": "421033fc-f017-4882-b344-6797b0ccffbf",
   "metadata": {},
   "outputs": [],
   "source": [
    "def addition(val1, val2):\n",
    "    result = val1 + val2\n",
    "    return result\n",
    "\n",
    "sum1 = addition(100, 200)\n",
    "sum2 = addition(500, -700)\n",
    "total = addition(sum1, sum2)\n",
    "print(total)"
   ]
  },
  {
   "cell_type": "markdown",
   "id": "0bbe6c9c-cd91-4daa-b7b4-d60a04296eaf",
   "metadata": {},
   "source": [
    "Notice in the code above we called the function `addition()` three times. This demonstrates the power of functions. We can reuse them anytime we want. This reduces the size of our code (we don't have to repeatedly write code for the same thing), and it helps make our code more readable.\n"
   ]
  },
  {
   "cell_type": "markdown",
   "id": "80d37673-9460-4dc9-a866-1df3b179ec50",
   "metadata": {},
   "source": [
    "### 3.4. Variable Scope <a id=\"section-3.4\"></a>\n",
    "The next thing we need to learn about functions is the **scope** of variables.  Functions can use three types of variables:\n",
    "\n",
    "1. Arguments.\n",
    "2. Internal variables.\n",
    "3. External **global variables**.\n",
    "\n",
    "As we have already learned, the arguments of a function are specified in the function definition. The arguments that we provide to a function are actually variables.  Notice in the following code that the arguments `val1` and `val2` are used in the function.   \n",
    "\n",
    "```python\n",
    "def addition(val1, val2):\n",
    "    result = val1 + val2\n",
    "    return result\n",
    "```\n",
    "The code above also creates a second type of variable: an internal variable. The internal variable in the code above is named `result` and it stores the sum of the values of our two arguments.  Both the arguments and the internal variable are only valid within the function.  You cannot use them anywhere else except inside the function. This is their **scope**, or the portion of the program where the variables are valid.  To demonstrate that you cannot use a variable that was declared inside of a function anywhere else run the following code:\n"
   ]
  },
  {
   "cell_type": "code",
   "execution_count": null,
   "id": "ea2ea695-2e0d-40c5-8287-252a986cc860",
   "metadata": {},
   "outputs": [],
   "source": [
    "def addition(val1, val2):\n",
    "    result = val1 + val2\n",
    "    return result\n",
    "\n",
    "sum = addition(100, 200)\n",
    "print(result)"
   ]
  },
  {
   "cell_type": "markdown",
   "id": "4f884508-5f4b-40a2-ae9a-7e31941ec507",
   "metadata": {},
   "source": [
    "You should get an error message from the cell above. Does the message makes sense to you?  Python is complaining that it does not recognize the variable named `result`. This is because we are trying to use the variable in the main code of the program but it has no scope in that part of the problem. It only has scope inside of the function.  We can only use the value of `result` if we return it from the function and store it in a new variable (e.g., the `sum` variable). That is why the following code works.  The `sum` variable does have scope in the main code so we can print it. "
   ]
  },
  {
   "cell_type": "code",
   "execution_count": null,
   "id": "f67171a8-2329-4e05-832f-ea46428c6dd7",
   "metadata": {},
   "outputs": [],
   "source": [
    "def addition(val1, val2):\n",
    "    result = val1 + val2\n",
    "    return result\n",
    "\n",
    "sum = addition(100, 200)\n",
    "print(sum)"
   ]
  },
  {
   "cell_type": "markdown",
   "id": "a7c75786-1d82-49d4-a859-014bde6d03f2",
   "metadata": {},
   "source": [
    "The last type of variable is the global variable. A global variable has scope everywhere! It can be used in the main code of the program and in functions.  To demonstrate a global variable, run the following code:"
   ]
  },
  {
   "cell_type": "code",
   "execution_count": null,
   "id": "71e44eeb-8ebe-44f6-a1ef-32fa74e6f4c0",
   "metadata": {},
   "outputs": [],
   "source": [
    "val1 = 100\n",
    "\n",
    "def addition(val2):\n",
    "    result = val1 + val2\n",
    "    return result\n",
    "\n",
    "sum = addition(200)\n",
    "print(sum)"
   ]
  },
  {
   "cell_type": "markdown",
   "id": "1e06dad2-a2b5-41e5-beb7-47760b4c4db0",
   "metadata": {},
   "source": [
    "We get the same output but the `addition()` function has changed. It now only accepts one argument. However, the interal code has not changed.  It still adds `val1` and `val2`.  The `val1` variable was declared outside of the function and was not passed in as an argument.  Also notice that the `val1` variable is not indented. That means it is part of the main code.  Any variable that is declared outside of a function, in the main code is a global variable. It can be used anywhere--its scope is global to the program.\n",
    "\n",
    "While this code behaves properly, hopefully you recognized that having an addition function that only receives one argument and uses a global variable is a bit confusing!  For this reason, it is considered best practice to use global variables sparingly.  "
   ]
  },
  {
   "cell_type": "markdown",
   "id": "d0596e1b-2bed-44e2-86d5-a93c2f3a6bb6",
   "metadata": {},
   "source": [
    "### <i class=\"fas fa-puzzle-piece\"></i> 3.5. Practice\n",
    "#### Task 1\n",
    "Now that you know how to write a function, lets create one!  Using either the iris dataset or the ecoli dataset (you choose), write Python code in the cell below that will read in the first 10 lines of the file.  The program should have one function named `get_next_line()` that receives a single argument: the file object.  Inside the function it should read the next line, split the elements into a list and return the list.  Your program should call the function 10 times and print the results returned."
   ]
  },
  {
   "cell_type": "code",
   "execution_count": null,
   "id": "77cc3b8d-9e84-473c-8eb0-e4008a8e3a67",
   "metadata": {},
   "outputs": [],
   "source": []
  },
  {
   "cell_type": "markdown",
   "id": "a0484762-74f9-41a0-8188-f9810f1a66dd",
   "metadata": {},
   "source": [
    "#### Task 2\n",
    "In the cell below adjust your code from the previous task to add up all of the values in the second column of data. In otherwords you will have 10 sets of values (one from each line read). We want the sum of the 10 values for only the second column and print that total. \n",
    "\n",
    "**Hint**: Your `get_next_line()` function will return a list.  You can access the second column of data in a list using brackets `[]` and the coordinate of the column. We will learn more about accessing values in lists later, but for now, here's an example:\n",
    "\n",
    "```python\n",
    "rowvals = get_next_line(data_file)\n",
    "col2 = rowvals[1]\n",
    "```\n",
    "In the code above, the list object returned by your function is stored in the variable `rowvals`. We can get the second element in the list by using the value `1`. We use `1` because the first column value is `0`, the second, `1` and the third `2`, etc.. We start counting with `0`."
   ]
  },
  {
   "cell_type": "code",
   "execution_count": null,
   "id": "09ecbe74-bbb4-4861-ac63-24b9f15bfbb0",
   "metadata": {},
   "outputs": [],
   "source": []
  },
  {
   "cell_type": "markdown",
   "id": "56b30092-3be3-4547-ba80-6d0604438542",
   "metadata": {},
   "source": [
    "#### Task 3\n",
    "Suppose instead of just calculating the sum of the second column, we wanted to get sums for all numeric columns (columns 2 through 8) and print each of those column sums separatly. Lets create a second function named `sum_data()` to do this. This function will receive one argument: the list object returned by the `get_next_line()` function and it will calculate the sums! \n",
    "\n",
    "**Hint**: use a global variable to store the totals and just have the function add to those totals."
   ]
  },
  {
   "cell_type": "code",
   "execution_count": null,
   "id": "e84a62b0-f768-4435-bd7a-25085fc5ca26",
   "metadata": {},
   "outputs": [],
   "source": []
  },
  {
   "cell_type": "markdown",
   "id": "71db2c54-5b2b-460d-8213-23e38c06de08",
   "metadata": {},
   "source": [
    "## 4. Logic <a id=\"section-4\"></a>\n",
    "Logic in programming is centered around the truth of statements. Logic is critical for making decisions in your code. We will learn in a future lesson how to make decisions in the program using logic in control statements.  For now, lets learn some logic. We already learned about some mathematic operators that can be used in logic statements. The are:\n",
    "\n",
    "| Symbol | Name | Purpose |\n",
    "| ------ | ---- |------- |\n",
    "| < | less-than | compares if one number is less than the other |\n",
    "| > | greater-than | compares if one number is greater than the other  |\n",
    "| <= | less-than-equal | compares if one number is less than or equal to another |\n",
    "| >= | greater-than-equal | compares if one number is greater than or equal to another |\n",
    "| == | equals | compares if two numbers are equal |\n",
    "| != | not equals | compares if two numbers are not equal |\n",
    "\n",
    "For example, the following is a logic statement:\n",
    "\n",
    "```python\n",
    "2 != 1\n",
    "```\n",
    "\n",
    "The truth value of that statement is `True` because 2 does not equal 1. It is a boolean value.  Here is another example: \n",
    "\n",
    "```python\n",
    "1 != 1\n",
    "```\n",
    "The truth value of that statement is `False` because 1 does equal 1 (it does not, not equal 1).\n",
    "\n",
    "Aside from these mathematical operations, there are a few other operators we can use for comparing booleans (or sets of logic statements):\n",
    "\n",
    "| Operator |  Purpose |\n",
    "| ------ | ------- |\n",
    "| `and` | Results in `True` if two values are both `True` |\n",
    "| `or` |  Results in `True` if at least one of two values are `True`.  |\n",
    "| `not` | Flips the truth of a value. If it is `True` it will become `False` and vice-versa. |\n",
    "\n",
    "This table shows the return value returned by **and** when comparing two values. The margins of the table are the possible states of the two values, the cells indicate the result that **and** returns. Notice it only results in `True` if both values are `True`.\n",
    "\n",
    "|            | True    |  False |\n",
    "| ---------  | ------- | ------ | \n",
    "| **True**   | True    | False  |\n",
    "| **False**  | False   | False  |\n",
    "\n",
    "This table shows the return value returned by **or** when comparing two values. The margins of the table are the possible states of the two values, the cells indicate the result that **or** returns. Notice it results in `True` if either of the values are `True`.\n",
    "\n",
    "|            | True    |  False |\n",
    "| ---------  | ------- | ------ | \n",
    "| **True**   | True    | True   |\n",
    "| **False**  | True    | False  |\n",
    "\n",
    "So, how do we perform a logic statement using **and**, **or** and **not**?  Consider the following code:\n",
    "\n",
    "```python\n",
    "comp1 = 2 != 1\n",
    "comp2 = 1 != 1\n",
    "result = comp1 and comp2\n",
    "```\n",
    "You will notice that the first two lines of code above are the logic statements we looked at above. This time, though, the value of the comparison is stored in the variables `comp1` and `comp2`.  Those will be boolean values (i.e., `True` or `False`).  The third line of the code uses the **and** comparision. If both `comp1` and `comp2` are `True` then it will return `True` and set the variable `result` to that value.  But, the `comp2` comparision is not `True`, so the **and** comparision will return `False`. Lets observe this by running the following cell: "
   ]
  },
  {
   "cell_type": "code",
   "execution_count": null,
   "id": "c48ad317-a965-44ea-bfe1-5e3d30d28862",
   "metadata": {},
   "outputs": [],
   "source": [
    "comp1 = 2 != 1\n",
    "comp2 = 1 != 1\n",
    "result = comp1 and comp2\n",
    "print(comp1)\n",
    "print(comp2)\n",
    "print(result)"
   ]
  },
  {
   "cell_type": "markdown",
   "id": "6dc97765-9f7f-4e11-b3ee-f7f484986faf",
   "metadata": {},
   "source": [
    "Lets use an **or** operator instead of **and**:"
   ]
  },
  {
   "cell_type": "code",
   "execution_count": null,
   "id": "45add131-6489-4caa-bf24-68047f5c9860",
   "metadata": {},
   "outputs": [],
   "source": [
    "comp1 = 2 != 1\n",
    "comp2 = 1 != 1\n",
    "result = comp1 or comp2\n",
    "print(comp1)\n",
    "print(comp2)\n",
    "print(result)"
   ]
  },
  {
   "cell_type": "markdown",
   "id": "8568cd72-9075-4af7-9030-029175c7bd91",
   "metadata": {},
   "source": [
    "Notice the result is `True`.  Now, lets use a **not** and switch back to the **and**:"
   ]
  },
  {
   "cell_type": "code",
   "execution_count": null,
   "id": "372a4199-ae7e-4fde-ad0b-8db83ebf9595",
   "metadata": {},
   "outputs": [],
   "source": [
    "comp1 = 2 != 1\n",
    "comp2 = 1 != 1\n",
    "result = comp1 or (not comp2)\n",
    "print(comp1)\n",
    "print(comp2)\n",
    "print(result)"
   ]
  },
  {
   "cell_type": "markdown",
   "id": "129ef25e-745d-4010-8915-92b1fa0206de",
   "metadata": {},
   "source": [
    "Remember, the **not** operator flips the truth value. So, in the third line of code, the `comp2` value gets changed from `False` to `True` and that allows the **and** operator to return `True`."
   ]
  },
  {
   "cell_type": "markdown",
   "id": "5541b7ec-94e5-41ac-b14f-1890160eb1d6",
   "metadata": {},
   "source": [
    "## Expected Outcomes <a id=\"section-outcomes\"></a>\n",
    "At this point, you should feel comfortable with the following:\n",
    "\n",
    "\n",
    "- Opening a file for read, write or appending data.\n",
    "- Knowing what is a file object.\n",
    "- Reading from a file using both `read()` and the `readline()` functions.\n",
    "- Closing a file and why you should always close a file.\n",
    "- Writing to a file using either `write()` or `print()`.\n",
    "- Understaning character encoding of files.\n",
    "- Splitting and unpacking a line of text from a file.\n",
    "- Type casting values read from a file.\n",
    "- How to define and call a function.\n",
    "- Understanding variable scope.\n",
    "- Understand logic in programming.\n"
   ]
  },
  {
   "cell_type": "markdown",
   "id": "476ba16d-d046-427f-a32d-8c92ee1a7316",
   "metadata": {},
   "source": [
    "## What to Turn in? <a id=\"section-turn_in\"></a>\n",
    "\n",
    "Perform the following with Git:\n",
    "\n",
    "1. Commit your changes to this notebook. \n",
    "3. Push your code to your remote repository.\n",
    "\n",
    "Go to your online repository on GitHub and check that the changes you just pushed are present. If so, then send a message to the instructor indicating the assignment is turned in."
   ]
  }
 ],
 "metadata": {
  "kernelspec": {
   "display_name": "Python 3 (ipykernel)",
   "language": "python",
   "name": "python3"
  },
  "language_info": {
   "codemirror_mode": {
    "name": "ipython",
    "version": 3
   },
   "file_extension": ".py",
   "mimetype": "text/x-python",
   "name": "python",
   "nbconvert_exporter": "python",
   "pygments_lexer": "ipython3",
   "version": "3.9.13"
  }
 },
 "nbformat": 4,
 "nbformat_minor": 5
}
