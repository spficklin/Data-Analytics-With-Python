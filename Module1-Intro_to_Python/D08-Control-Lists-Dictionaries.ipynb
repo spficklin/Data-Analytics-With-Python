{
 "cells": [
  {
   "cell_type": "markdown",
   "id": "95e8046a-127e-46de-bd67-77860b7c4631",
   "metadata": {},
   "source": [
    "# Day 8:  Control, Lists & Dictionaries"
   ]
  },
  {
   "cell_type": "markdown",
   "id": "4b930998-021c-4f40-ad02-fbbf9db7eb43",
   "metadata": {},
   "source": [
    "## Data File Background\n",
    "View the file titled `data/PRJNA301554.tsv`. This is a tab-delimited file obtained from the National Center for Biotechnology Information (NCBI) [Sequence Read Archive](https://www.ncbi.nlm.nih.gov/sra). This resources stores genome sequence data collected globally. Here you can obtain information about the sequencing runs that have been deposited for an organism and within an experimental project.  The file contains information about gene expression sequencing (cDNA sequences) from the project numbered [PRJNA301554](https://www.ncbi.nlm.nih.gov/bioproject/301554). \n",
    "\n",
    "You do not need to understand all of the columns but we will use these columns:\n",
    "\n",
    "| Column Header | Column Index |\n",
    "| ------------- | ------------ |\n",
    "| BioSample | 0 |\n",
    "| genotype | 8 |\n",
    "| time | 9 |\n",
    "| treatment | 10 |\n",
    "| Organism | 23 | \n",
    "| tissue | 28 |"
   ]
  },
  {
   "cell_type": "markdown",
   "id": "e821a367-8b40-40b5-bd0b-6d778cbe0b97",
   "metadata": {},
   "source": [
    "## Excercise #1\n",
    "Demonstrate how to get the list of keys from the following code:\n",
    "```python\n",
    "capitals = {}\n",
    "capitals['TX'] = 'Austin'\n",
    "capitals['CA'] = 'Sacramento'\n",
    "capitals['GA'] = 'Atlanta'\n",
    "capitals['NY'] = 'Albany'\n",
    "```"
   ]
  },
  {
   "cell_type": "code",
   "execution_count": null,
   "id": "083b8c67-64e1-4a71-bfc0-f02551e88989",
   "metadata": {},
   "outputs": [],
   "source": []
  },
  {
   "cell_type": "markdown",
   "id": "1c288963-4706-43b0-b278-a9d7f0e615f4",
   "metadata": {},
   "source": [
    "How do you get a list of values?"
   ]
  },
  {
   "cell_type": "code",
   "execution_count": null,
   "id": "47f61063-474c-475a-b6ec-6ccba2d48887",
   "metadata": {},
   "outputs": [],
   "source": []
  },
  {
   "cell_type": "markdown",
   "id": "f219526c-eab3-45fa-9e71-1140cf1019d4",
   "metadata": {},
   "source": [
    "## Exercise #2:"
   ]
  },
  {
   "cell_type": "markdown",
   "id": "525d4e02-9426-4652-aeff-46a97cea16b6",
   "metadata": {},
   "source": [
    "We want to sum these two lists of numbers and store the result in a dictionary with the name of the variable being the key but, the following code is not working. Can you fix it?\n",
    "```python\n",
    "# The lists to sum.\n",
    "list1 = [1,2,3,4,5,6,7,8,9,10]\n",
    "list2 = [2,4,5,6,10,12,14,16,18,20]\n",
    "\n",
    "# Create the dictionary where we will store the sums.\n",
    "results = {}\n",
    "\n",
    "# Iterate through the first list and sum the numbers. \n",
    "# Store the growing sum in the dictionary.\n",
    "for item in list1:\n",
    "    results['list1'] = results['list1'] + item\n",
    "\n",
    "# Iterate through the first list and sum the numbers. \n",
    "# Store the growing sum in the dictionary.\n",
    "for item in list2:\n",
    "    results['list2'] = results['list2'] + item\n",
    "\n",
    "# Print the results\n",
    "print(results)\n",
    "```\n",
    "The result should be:\n",
    "\n",
    "```python\n",
    "{'list1': 55, 'list2': 107}\n",
    "```"
   ]
  },
  {
   "cell_type": "code",
   "execution_count": null,
   "id": "f5aaa1b9-13fc-4d97-9814-3a6a3ad9e580",
   "metadata": {},
   "outputs": [],
   "source": []
  },
  {
   "cell_type": "markdown",
   "id": "6a9f3e42-a1e5-4b0c-ab1e-5c9a9b0087af",
   "metadata": {},
   "source": [
    "## Exercise #3\n",
    "\n",
    "Write code that will open the `data/PRJNA301554.tsv` file and print a list of treatments and the number of samples there are for each.\n",
    "\n",
    "The output should look like this:\n",
    "\n",
    "```python\n",
    "{'CONTROL': 143, 'HEAT': 128, 'RECOV_HEAT': 63, 'DROUGHT': 71, 'RECOV_DROUGHT': 70}\n",
    "```"
   ]
  },
  {
   "cell_type": "code",
   "execution_count": null,
   "id": "dc20f1a4-7596-40f7-82b6-4d31719ea3b2",
   "metadata": {},
   "outputs": [],
   "source": []
  },
  {
   "cell_type": "markdown",
   "id": "d571a9d0-03be-431b-871e-08dcc78a1a8e",
   "metadata": {},
   "source": [
    "## Exercise #5.\n",
    "\n",
    "Use the Pretty Print package to print a more human-readable view of the dictionary. The output should look like the following:\n",
    "```python\n",
    "{   'CONTROL': 143,\n",
    "    'DROUGHT': 71,\n",
    "    'HEAT': 128,\n",
    "    'RECOV_DROUGHT': 70,\n",
    "    'RECOV_HEAT': 63}\n",
    "```"
   ]
  },
  {
   "cell_type": "code",
   "execution_count": null,
   "id": "51018455-9e1a-4de7-ae5a-15e23abbde21",
   "metadata": {},
   "outputs": [],
   "source": []
  },
  {
   "cell_type": "markdown",
   "id": "8ec9c362-14dd-4cd3-ac02-6d170a17c457",
   "metadata": {},
   "source": [
    "## Exercise #4\n",
    "\n",
    "Using the same input file, now create a dataframe that will include sums of both treatment and genotype\n",
    "The output should look like this when using the pretty print package.\n",
    "\n",
    "```python\n",
    "{   'genotypes': {   'Azuenca (AZ; IRGC#328, Japonica)': 119,\n",
    "                     'Kinandang puti (KP; IRGC#44513, Indica)': 118,\n",
    "                     'Pandan wangi (PW; IRGC#35834, Japonica)': 118,\n",
    "                     'Tadukan (TD; IRGC#9804, Indica)': 120},\n",
    "    'treatments': {   'CONTROL': 143,\n",
    "                      'DROUGHT': 71,\n",
    "                      'HEAT': 128,\n",
    "                      'RECOV_DROUGHT': 70,\n",
    "                      'RECOV_HEAT': 63}}\n",
    "```"
   ]
  },
  {
   "cell_type": "code",
   "execution_count": null,
   "id": "4ad55178-fb26-4305-a28d-83f975770f49",
   "metadata": {},
   "outputs": [],
   "source": []
  },
  {
   "cell_type": "markdown",
   "id": "99a7433a-18df-4f98-a77e-60f0bce60ca1",
   "metadata": {},
   "source": [
    "## Exercise #5\n",
    "Write code to separate into a list, the genotype into four separate data elements: \n",
    "1. The cultivar (e.g. Azuenca)\n",
    "2. The cultivar abbreviation (e.g. AZ)\n",
    "3. The IRGC number (e.g. IRGC#328)\n",
    "4. The subspecies (e.g. Japonica).  \n",
    "\n",
    "This information is all contained in the genotype string of each line, in the same format. For example, these\n",
    "```\n",
    "Azuenca (AZ; IRGC#328, Japonica)\n",
    "Kinandang puti (KP; IRGC#44513, Indica)\n",
    "Pandan wangi (PW; IRGC#35834, Japonica)\n",
    "Tadukan (TD; IRGC#9804, Indica)\n",
    "```\n",
    "Should be converted to these:\n",
    "```python\n",
    "['Azuenca', 'AZ', 'IRGC#328', 'Japonica']\n",
    "['Kinandang puti', 'KP', 'IRGC#44513', 'Indica']\n",
    "['Pandan wangi', 'PW', 'IRGC#35834', 'Japonica']\n",
    "['Tadukan', 'TD', 'IRGC#9804', 'Indica']\n",
    "```\n",
    "Be sure to use the following to accomplish this:\n",
    "1. use a function named `split_genotype` that \n",
    "   - accepts a single string as an argument which contains the genotype string.\n",
    "   - returns a list of the four elements from that string.\n",
    "2. Uses the `str.replace()` function to help break the genotype string.\n"
   ]
  },
  {
   "cell_type": "code",
   "execution_count": null,
   "id": "05f1e0ed-fec2-494d-a3f1-3407d8287d96",
   "metadata": {},
   "outputs": [],
   "source": []
  },
  {
   "cell_type": "markdown",
   "id": "4a2dbea4-f8fd-4bd3-936f-3beccbaef125",
   "metadata": {},
   "source": [
    "## Exercise #6\n",
    "Now, lets adjust our code from example #4 to create a dictionary where we include the subspecies count too. This will require that we split the genotype like we did in Exercise #5 to get that information. The output should look like the following:\n",
    "\n",
    "```python\n",
    "{   'genotypes': {   'Azuenca': 119,\n",
    "                     'Kinandang puti': 118,\n",
    "                     'Pandan wangi': 118,\n",
    "                     'Tadukan': 120},\n",
    "    'subspecies': {'Indica': 238, 'Japonica': 237},\n",
    "    'treatments': {   'CONTROL': 143,\n",
    "                      'DROUGHT': 71,\n",
    "                      'HEAT': 128,\n",
    "                      'RECOV_DROUGHT': 70,\n",
    "                      'RECOV_HEAT': 63}}\n",
    "```"
   ]
  },
  {
   "cell_type": "code",
   "execution_count": null,
   "id": "e235b0a3-a602-4d9d-8967-e192427c05a2",
   "metadata": {},
   "outputs": [],
   "source": []
  }
 ],
 "metadata": {
  "kernelspec": {
   "display_name": "Python 3 (ipykernel)",
   "language": "python",
   "name": "python3"
  },
  "language_info": {
   "codemirror_mode": {
    "name": "ipython",
    "version": 3
   },
   "file_extension": ".py",
   "mimetype": "text/x-python",
   "name": "python",
   "nbconvert_exporter": "python",
   "pygments_lexer": "ipython3",
   "version": "3.9.13"
  }
 },
 "nbformat": 4,
 "nbformat_minor": 5
}
