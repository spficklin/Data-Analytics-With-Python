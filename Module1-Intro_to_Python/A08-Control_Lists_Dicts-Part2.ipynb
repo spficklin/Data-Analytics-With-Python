{
 "cells": [
  {
   "cell_type": "markdown",
   "id": "6be100b8-a5a3-4b26-a11c-bb9016895ce8",
   "metadata": {},
   "source": [
    "# Assignment 8:  Control, Lists & Dictionaries - Part 2"
   ]
  },
  {
   "cell_type": "markdown",
   "id": "45b435fe-9eb7-4be5-885a-76df38dd59db",
   "metadata": {},
   "source": [
    "## Learning Objectives <a id=\"section-objectives\"></a>\n",
    "This lesson meets the following learning objectives:\n",
    "\n",
    "1. Program linear scripts in python.\n",
    "2. Program scripts that include functions, logic, and control statements\n",
    "\n",
    "\n",
    "You will meet these objectives by learning to write `if`  statements, `elif` statemetns, `for` loops, `while` loops `do while` loops, lists and dictionaries."
   ]
  },
  {
   "cell_type": "markdown",
   "id": "582848c1-d6f0-4299-8800-f5acc023a85e",
   "metadata": {},
   "source": [
    "## Instructions <a id=\"section-instructions\"></a>\n",
    "Read through all of the text in this page. This assignment provides step-by-step training divided into numbered sections. The sections often contain embeded exectable code for demonstration.  Section headers with icons have special meanings: \n",
    "\n",
    "- <i class=\"fas fa-puzzle-piece\"></i> The puzzle icon indicates that the section provides a practice exercise that must be completed.  Follow the instructions for the exercise and do what it asks.  Exercises must be turned in for credit.\n",
    "- <i class=\"fa fa-cogs\"></i> The cogs icon indicates that the section provides a task to perform.  Follow the instructions to complete the task.  Tasks are not turned in for credit but must be completed to continue progress.\n",
    "\n",
    "Review the list of items in the **Expected Outcomes** section to check that you feel comfortable with the material you just learned. If you do not, then take some time to re-review that material again. If after re-review you are not comfortable, do not feel confident or do not understand the material, please ask questions on Slack to help.\n",
    "\n",
    "Follow the instructions in the **What to turn in** section to turn in the exercises of the assginment for course credit."
   ]
  },
  {
   "cell_type": "markdown",
   "id": "e56c3618-b623-4482-bbf7-cb6bc7e86c9c",
   "metadata": {},
   "source": [
    "## 2. Lists\n",
    "A **list** in Python is a **data type** that allows you to store a collection of values together in a single variable. Lists are sometimes referred to as **arrays**. We've already used lists!  Remember the `argv` variable we use when providing arguments to a program? The `argv` variable is imported from the `sys` module. Remember this:\n",
    "\n",
    "```python\n",
    "\n",
    "from sys import argv\n",
    "\n",
    "script, arg1, arg2, arg3 = argv\n",
    "```\n",
    "\n",
    "The `argv` variable is actually a list.  We are importing a list into our program when we use the `from sys import argv` statement.  Another time we encountered lists was when we used the string `split()` function to split a comma-separated or tab-delimited file into a list of values. The `split()` function returns a list.   Now, we will explore lists in more details. "
   ]
  },
  {
   "cell_type": "markdown",
   "id": "5d82fb6f-03f2-49d0-bbd7-9ba83654a7a7",
   "metadata": {},
   "source": [
    "### 2.1. Creating a List\n",
    "Lists can be created with an empty set of values in the following way:\n",
    "\n",
    "```python\n",
    "my_list = []\n",
    "```\n",
    "In the code above, the variable named `my_list` is **defined** and is initialized as an empty list using the square brackets `[]`.\n",
    "\n",
    "Alternatively, you can preload an array by providing comma-separated values between the square brackets.  The following creates an array of strings:\n",
    "\n",
    "```python\n",
    "languages = ['Afrikaans', 'Italiano', 'Slovenčina', 'اردو', '中文']\n",
    "```\n",
    "\n",
    "The following creates an arry of floats:\n",
    "\n",
    "```python\n",
    "numbers = [0.5, 10.3, 5.3, 2.29]\n",
    "```\n",
    "\n",
    "In Python you can also mix data types inside of a list. Here we mix strings, floats, ints and boolean values: \n",
    "```python\n",
    "mixed = ['中文', 10.2, 3, True]\n",
    "```\n",
    "You can even store arrays inside of arrays:\n",
    "```python\n",
    "mixed2d = [[1, 2, 3], [4, 5, 6]]\n",
    "```\n",
    "The example above stores two lists inside of a list. Storing lists inside of lists is a handy way to represent a matrix:\n",
    "\n",
    "|    |     |     |\n",
    "|--- | --- | --- |\n",
    "| 1  |  2  |  3  |\n",
    "| 4  |  5  |  6  |\n",
    "\n",
    "For matrices, it may be more readable to create them by putting each \"row\" of the matrix on a separate line in this way:\n",
    "```python\n",
    "mixed2d = [[1, 2, 3],\n",
    "           [4, 5, 6]]\n",
    "```"
   ]
  },
  {
   "cell_type": "markdown",
   "id": "5da185ab-5f96-4716-ac1a-8f939294796b",
   "metadata": {},
   "source": [
    "#### 2.1.1 <i class=\"fas fa-puzzle-piece\"></i> Practice <a id=\"section-2.1.1\"></a>\n",
    "Create the following lists and print their contents.\n",
    "1. An empty list\n",
    "2. A list containing at least 4 types of foods\n",
    "3. A list containing a first name, last name, age, height and weight (can be fake).\n",
    "4. A list containing 4 lists with 4 elements each"
   ]
  },
  {
   "cell_type": "code",
   "execution_count": null,
   "id": "6bd498ef-22a7-4e24-b47d-04e55e17d28a",
   "metadata": {},
   "outputs": [],
   "source": []
  },
  {
   "cell_type": "code",
   "execution_count": null,
   "id": "de8801bc-1eb2-4c0a-8dee-81b2711cf601",
   "metadata": {},
   "outputs": [],
   "source": []
  },
  {
   "cell_type": "code",
   "execution_count": null,
   "id": "2d651d48-146c-4ff2-8ab1-fb8facf9cf86",
   "metadata": {},
   "outputs": [],
   "source": []
  },
  {
   "cell_type": "code",
   "execution_count": null,
   "id": "a1f747a5-f23d-401a-8b91-c3341c886c1f",
   "metadata": {},
   "outputs": [],
   "source": []
  },
  {
   "cell_type": "markdown",
   "id": "37e165bc-ba49-4ad7-824c-4a5eaddf991f",
   "metadata": {},
   "source": [
    "### 2.2. Accessing Values in a List\n",
    "#### 2.2.1. Unpacking\n",
    "Lists store multiple values in a single variable, but how do we get values from the list?  We learned about **unpacking** when we used the the `sys.argv` variable. Again, as a reminder of  unpacking, the code below unpacks values from the argv list by listing the variables, comma-separted.\n",
    "\n",
    "```python\n",
    "from sys import argv\n",
    "\n",
    "script, arg1, arg2, arg3 = argv\n",
    "```\n",
    "\n",
    "As long as the same number of variables are provdied as are present in the list then unpacking will work.  \n",
    "\n"
   ]
  },
  {
   "cell_type": "markdown",
   "id": "c943e87c-049d-4850-bfcd-0f95b8184743",
   "metadata": {},
   "source": [
    "#### 2.2.2. Indexing\n",
    "What if you have hundereds, thousands or millions of elements inside of list?  It would be impracticle to use unpacking to access them all.  Instead, we can use numeric **indexing**.  The **index** indicates the position in the list of the value that you want.  For example:\n",
    "\n",
    "```python\n",
    "languages = ['Afrikaans', 'Italiano', 'Slovenčina', 'اردو', '中文']\n",
    "choice = languages[0]\n",
    "```\n",
    "This code defines a list of several language names that are stored in the variable `languages`.  The first value, or **element**, of `languages` gets copied to the value `choice` by using the number `0` in square brackets: `languages[0]`. The number `0` in brackets references the first element. Likewise, the number `1` would references the second element, and so forth.  In most prgramming languages, lists (or arrays) are **zero-indexed** meaning they start indexing from zero.  In contrast, the R languages is one-indexed. If you use R, make sure you remember the difference. The following table shows the index for each element of the `languages` variable:\n",
    "\n",
    "| Index |  0  |  1  |  2  |  3  |  4  |\n",
    "| ----- | --- | --- | --- | --- | --- |\n",
    "| **Value** | 'Afrikaans' | 'Italiano' | 'Slovenčina' | 'اردو' |  '中文' |\n",
    "\n",
    "In the previous section we learned how to represent a matrix in a list.  But, how would you index values in the matrix?  Consider this code:\n",
    "\n",
    "```python\n",
    "mixed2d = [[1, 2, 3],\n",
    "           [4, 5, 6]]\n",
    "```\n",
    "\n",
    "In the example code above, the matrix is represented as a list of lists. It represents a 2 *x* 3 (2 rows by 3 columns) two dimensional matrix.  Suppose you wanted to retrieve the value `4`.  It is in the second element of the primary list and within that list, it is the first element.  To retrieve it you would need to first get the second list using `mixed2d[1]`. That returns the list. You can then retrieve the first element using its index, `0`:  `mixed2d[1][0]`\n",
    "\n",
    "Try it by running the following cell:"
   ]
  },
  {
   "cell_type": "code",
   "execution_count": null,
   "id": "5c2b2aa4-124e-42d4-be59-9d2bd93607d2",
   "metadata": {},
   "outputs": [],
   "source": [
    "# Define the 2D list.\n",
    "mixed2d = [[1, 2, 3],\n",
    "           [4, 5, 6]]\n",
    "\n",
    "# Print the second list:\n",
    "print(mixed2d[1])\n",
    "\n",
    "# Print the first element of the second list:\n",
    "print(mixed2d[1][0])"
   ]
  },
  {
   "cell_type": "markdown",
   "id": "07e33f2d-f785-4df6-a9ca-7e694d6e33f2",
   "metadata": {},
   "source": [
    "Suppose you do not know the size of a list. Perhaps you imported a set of values from a file and those are now stored in a list.  You can find the length of a list using the `len()` function. Remember, we used this function to also determine the length (or size) of a string. It works for lists too.  Try it:"
   ]
  },
  {
   "cell_type": "code",
   "execution_count": null,
   "id": "15f8cfb4-e888-4ec0-8b73-6b94f48d0fd4",
   "metadata": {},
   "outputs": [],
   "source": [
    "mixed2d = [[1, 2, 3],\n",
    "           [4, 5, 6]]\n",
    "\n",
    "# Print the size of the primary list.\n",
    "print(len(mixed2d))\n",
    "\n",
    "# Print the size of the first inner list.\n",
    "print(len(mixed2d[0]))"
   ]
  },
  {
   "cell_type": "markdown",
   "id": "e5dba65c-5349-43ef-8be9-56fd11140170",
   "metadata": {},
   "source": [
    "You can use the length of the list to get its last element by subtracting one.  We must subtract one because the list is zero-indexed. Try it:"
   ]
  },
  {
   "cell_type": "code",
   "execution_count": null,
   "id": "640db04d-2f9d-45b7-b156-e67d908df8ec",
   "metadata": {},
   "outputs": [],
   "source": [
    "i = len(mixed2d) - 1\n",
    "print(mixed2d[i])"
   ]
  },
  {
   "cell_type": "markdown",
   "id": "75be4408-d2ec-4320-9fb1-a6daf83a7314",
   "metadata": {},
   "source": [
    "or more succinctly:"
   ]
  },
  {
   "cell_type": "code",
   "execution_count": null,
   "id": "fa5772ec-ec8d-4508-87ce-ec849f98676f",
   "metadata": {},
   "outputs": [],
   "source": [
    "print(mixed2d[len(mixed2d) - 1])"
   ]
  },
  {
   "cell_type": "markdown",
   "id": "79333a7c-6636-4260-a92d-7be7f6daf342",
   "metadata": {},
   "source": [
    "What happens if you forget to subtract 1?  Try it:"
   ]
  },
  {
   "cell_type": "code",
   "execution_count": null,
   "id": "af074ac4-7f76-4c8f-9256-eb7cadf4c136",
   "metadata": {},
   "outputs": [],
   "source": [
    "print(mixed2d[len(mixed2d)])"
   ]
  },
  {
   "cell_type": "markdown",
   "id": "68b6f250-45dd-416b-b6e6-bef40536f8a2",
   "metadata": {},
   "source": [
    "We see here, that Python will not allow you to use an index that exceeds the index for the last element of the list"
   ]
  },
  {
   "cell_type": "markdown",
   "id": "369d38fe-7dc0-42ee-a9e2-f2339df9ad38",
   "metadata": {},
   "source": [
    "#### 2.2.3. Negative Indexing\n",
    "Python lists also support **negative-indexing**.  With negative indexing the numbers count down from the end of the list. The index, `-1` would indicate the last element, `-2` the second-to-last element and so forth. The following tables shows both regular and negative indexing for the `languages` variable:\n",
    "\n",
    "\n",
    "| Regular Index<br>Negative Index|  0<br>-5  |  1<br>-4  |  2<br>-3  |  3<br>-2  |  4<br>-1  |\n",
    "| ----- | --- | --- | --- | --- | --- |\n",
    "| **Value** | 'Afrikaans' | 'Italiano' | 'Slovenčina' | 'اردو' |  '中文' |\n",
    "\n",
    "Run the following example to observe how negative indexing works:"
   ]
  },
  {
   "cell_type": "code",
   "execution_count": null,
   "id": "fd34500f-bbca-420f-84cb-19fbae202256",
   "metadata": {},
   "outputs": [],
   "source": [
    "languages = ['Afrikaans', 'Italiano', 'Slovenčina', 'اردو', '中文']\n",
    "\n",
    "# Print the last value using both regular and negative indexing.\n",
    "print(languages[4])\n",
    "print(languages[-1])\n",
    "\n",
    "# Print the first value using both regular and negative indexing.\n",
    "print(languages[0])\n",
    "print(languages[-5])"
   ]
  },
  {
   "cell_type": "markdown",
   "id": "1ea5eaf4-3dcc-44d8-ba9d-410698fbb7fb",
   "metadata": {},
   "source": [
    "#### 2.2.4. <i class=\"fas fa-puzzle-piece\"></i> Practice\n",
    "\n",
    "Using the three non-empty lists you created in [Practice Exercise #2.1.1](#section-2.1.1), print the first, second, and fourth elements of each list. Use both regular and negative indexing. For the matrix you created, try a few different examples to access various elements."
   ]
  },
  {
   "cell_type": "code",
   "execution_count": null,
   "id": "5bb3c8d8-e2f7-4c68-bd72-bad0a97854d1",
   "metadata": {},
   "outputs": [],
   "source": []
  },
  {
   "cell_type": "code",
   "execution_count": null,
   "id": "f76e4eed-c506-41d6-917f-97537d14ecd2",
   "metadata": {},
   "outputs": [],
   "source": []
  },
  {
   "cell_type": "code",
   "execution_count": null,
   "id": "2f0dcdb9-f378-48df-81e3-64fc6b7a1f36",
   "metadata": {},
   "outputs": [],
   "source": []
  },
  {
   "cell_type": "markdown",
   "id": "4779e140-50a8-47e3-b0f8-fb5f95612254",
   "metadata": {},
   "source": [
    "#### 2.2.5. <i class=\"fas fa-puzzle-piece\"></i> Practice\n",
    "Now that we have leared about `if` and `elif` statements, lists and how to index them.  Lets think back on some of the programs we have written so far that accept arguments.  Remember, if we do not provide sufficient argument to a program on the command line we get an error message indicating that there are not enough values to unpack.  This is not a very friendly message for someone who might be using our program.  It would be better if we provided a more friendly message and skip execution of the program.   Lets make a better program using one we used in [Assignment 6 - Python Basics](A06-Python-Basics.ipynb):\n",
    "\n",
    "```python\n",
    "from sys import argv\n",
    "\n",
    "script, arg1, arg2, arg3 = argv\n",
    "\n",
    "print(\"This script is named {}\".format(script_name))\n",
    "print(\"  The value of argument 1 is: {}\", arg1)\n",
    "print(\"  The value of argument 2 is: {}\", arg2)\n",
    "print(\"  The value of argument 3 is: {}\", arg3)\n",
    "```\n",
    "\n",
    "Perform the following:\n",
    "\n",
    "1. Create a new Python file named `better_program.py` and cut-and-paste the code above.\n",
    "2. Remove the line that unpacks the `argv` variable.\n",
    "3. Whenever the variables `arg1`, `arg2`, `arg3` are used, replace them with the appropriate value from the `argv` variable using an index.\n",
    "4. Add an `elif` statement that checks to make sure the length of `argv` has the expected number of arguments. If the number of arguments provided is fewer or more than expected then give a warning message and do not run the print statements. if the number is correct you can run the print statements. \n",
    "5. Run the program.  If your changes were successful, it should no longer give a Python error if the number of arguments is not correct, but should give a more friendly notice to the user. If the nubmer of arguments is correct, it should print the expected messages.\n",
    "\n",
    "Cut and paste the contents of your program in the cell below:\n"
   ]
  },
  {
   "cell_type": "raw",
   "id": "832e6f3d-e530-46de-a83d-70f4be015886",
   "metadata": {},
   "source": []
  },
  {
   "cell_type": "markdown",
   "id": "b9173cbf-6109-4078-a2eb-8b0167e849e6",
   "metadata": {},
   "source": [
    "### 2.3. Modifying Lists\n",
    "Now that you know how to create a list lets learn how to add and remove values from it."
   ]
  },
  {
   "cell_type": "markdown",
   "id": "5f3b767c-d3eb-4eb7-8cf9-20590956c433",
   "metadata": {},
   "source": [
    "#### 2.3.1. Adding values to a list\n",
    "Just like any data type in Python, a list is an object. Objects have functions and one of those functions for lists is `append()`. To add a value to a list, use the `append()` function and provide the value you want to add.  The value is added to the end of the list.   The following example adds a new list to our `languages` variable. Try it:"
   ]
  },
  {
   "cell_type": "code",
   "execution_count": null,
   "id": "58472dfc-1cea-4b51-b91d-c9eec0bd8520",
   "metadata": {},
   "outputs": [],
   "source": [
    "languages = ['Afrikaans', 'Italiano', 'Slovenčina', 'اردو', '中文']\n",
    "languages.append('English')\n",
    "\n",
    "# English should be added to the end of the list.\n",
    "print(languages)"
   ]
  },
  {
   "cell_type": "markdown",
   "id": "006071f8-4091-4e1c-83f5-4ac2833e2628",
   "metadata": {},
   "source": [
    "#### 2.3.2. Inserting a value into a list\n",
    "To insert a value into a list use the `insert()` function.  Unlike the `append()` function, the `insert()` function will let you add a value anywhere in the list. You must specify two arguments: the index where you want the value inserted and the value to insert.  To insert a new language into the 3rd position of the `languages` variable try the following:"
   ]
  },
  {
   "cell_type": "code",
   "execution_count": null,
   "id": "d9c6bd7c-b172-4df2-a755-c9e9a96aa608",
   "metadata": {},
   "outputs": [],
   "source": [
    "# Insert a new language into the 3rd position:\n",
    "languages.insert(2, 'مازِرونی')\n",
    "print(languages)"
   ]
  },
  {
   "cell_type": "markdown",
   "id": "1260ca0c-fe6c-4a7c-bc6f-4570305c2a64",
   "metadata": {},
   "source": [
    "Notice that the index value used for the `insert()` function above for the 3rd element is `2`. The indexes are always zero-based."
   ]
  },
  {
   "cell_type": "markdown",
   "id": "41ed6cbb-e94a-4aaa-80da-bde037b62d9c",
   "metadata": {},
   "source": [
    "#### 2.3.3. Combining Lists\n",
    "There are two ways you can combine two lists. The first is the `+` operator.  For numbers, we know the `+` operator adds them. For strings we know it concatenates them.  For lists, it also concatenates (or combines) them.  For example, try the following:"
   ]
  },
  {
   "cell_type": "code",
   "execution_count": null,
   "id": "8b979316-6543-495f-b259-5ff9c927c9ce",
   "metadata": {},
   "outputs": [],
   "source": [
    "list1 = [1, 2, 3]\n",
    "list2 = [4, 5, 6]\n",
    "combined = list1 + list2\n",
    "\n",
    "# No change to the first list.\n",
    "print(list1)\n",
    "\n",
    "# No change to the second list.\n",
    "print(list2)\n",
    "\n",
    "# We have a new combined list in the combined variable.\n",
    "print(combined)"
   ]
  },
  {
   "cell_type": "markdown",
   "id": "c7cd6c7b-d2ec-4873-8cbf-d48401fddd7c",
   "metadata": {},
   "source": [
    "You can also combine lists by using the `extend()` function. The the `extend()` function accepts one argument: the list that will be added.  Unlike the `+` operator, though, the `extend()` function will add the second array **in place**. It does not return a value. The values from the second list will be automatically appended to the first list.  Try it by extending the `list1` variable:"
   ]
  },
  {
   "cell_type": "code",
   "execution_count": null,
   "id": "9c3af46d-dcf1-4c43-913a-3c1732d6ef53",
   "metadata": {},
   "outputs": [],
   "source": [
    "list1 = [1, 2, 3]\n",
    "list2 = [4, 5, 6]\n",
    "list1.extend(list2)\n",
    "\n",
    "# The first list should be extended.\n",
    "print(list1)\n",
    "\n",
    "# No change to the second list.\n",
    "print(list2)"
   ]
  },
  {
   "cell_type": "markdown",
   "id": "f7412135-45fe-441e-967a-57d68573fb90",
   "metadata": {},
   "source": [
    "Try the reverse by extending the `list2` variable\n"
   ]
  },
  {
   "cell_type": "code",
   "execution_count": null,
   "id": "ffcbd718-3fae-43a3-831e-699e0567ab39",
   "metadata": {},
   "outputs": [],
   "source": [
    "list1 = [1, 2, 3]\n",
    "list2 = [4, 5, 6]\n",
    "list2.extend(list1)\n",
    "\n",
    "# No change to the first list.\n",
    "print(list1)\n",
    "\n",
    "# The second list should be extended.\n",
    "print(list2)"
   ]
  },
  {
   "cell_type": "markdown",
   "id": "daaff1c9-0995-4a14-bb5b-1e2887530627",
   "metadata": {},
   "source": [
    "#### 2.3.4. Changing Values\n",
    "Rather than appending, inserting or extending a list, what if we only wanted to change a value? The following example shows how this is done.  "
   ]
  },
  {
   "cell_type": "code",
   "execution_count": null,
   "id": "80c44a16-4d6b-4099-aa56-1e2f16fdfefc",
   "metadata": {},
   "outputs": [],
   "source": [
    "languages = ['Afrikaans', 'Italiano', 'Slovenčina', 'اردو', '中文']\n",
    "\n",
    "# Print the language list before we make a change\n",
    "print(languages)\n",
    "\n",
    "# Change the languages to their English equivalent\n",
    "languages[1] = 'Italian'\n",
    "languages[2] = 'Slovak'\n",
    "languages[3] = 'Urdo'\n",
    "languages[4] = 'Chinese'\n",
    "print(languages)"
   ]
  },
  {
   "cell_type": "markdown",
   "id": "65b9a1ea-1eff-4414-9c42-f61ccfab1525",
   "metadata": {},
   "source": [
    "In the code example, the values of the list are changed by using the index for the value and setting the value with the `=` operator.."
   ]
  },
  {
   "cell_type": "markdown",
   "id": "6e61d2ce-ad7f-42a1-9694-c91611d909e9",
   "metadata": {},
   "source": [
    "#### 2.3.5. Removing a Values\n",
    "To remov a value, use the `remove()` function and provide the value to be removed as an argument.  The following shows how to remove a language from the list:"
   ]
  },
  {
   "cell_type": "code",
   "execution_count": null,
   "id": "c35793c5-2b52-47e2-9a52-091dca6806e4",
   "metadata": {},
   "outputs": [],
   "source": [
    "languages = ['Afrikaans', 'Italiano', 'Slovenčina', 'اردو', '中文']\n",
    "\n",
    "# Print the language list before we remove a value\n",
    "print(languages)\n",
    "\n",
    "# Remove a language and then print the result.\n",
    "languages.remove('Italiano')\n",
    "print(languages)"
   ]
  },
  {
   "cell_type": "markdown",
   "id": "745a2948-d99a-41d2-9dc6-f8f0c7646c67",
   "metadata": {},
   "source": [
    "If you try to remove a value that is not present then Python gives an error. Try it:"
   ]
  },
  {
   "cell_type": "code",
   "execution_count": null,
   "id": "926bf596-6fe2-4eff-b9ba-a4f5dbfadc16",
   "metadata": {},
   "outputs": [],
   "source": [
    "languages.remove('Occitan')"
   ]
  },
  {
   "cell_type": "markdown",
   "id": "8e7dab4c-9978-4574-92a2-74c015633c02",
   "metadata": {
    "tags": []
   },
   "source": [
    "#### 2.3.6. <i class=\"fas fa-puzzle-piece\"></i> Practice\n",
    "Using the first three lists (not the matrix list) you created in [Practice Exercise #2.1.1](#section-2.1.1), perform the following steps in the cells below.\n",
    "\n",
    "1. Append a new element to any of the lists.\n",
    "2. Insert a new element to any of the lists.\n",
    "3. Combine two of the lists together."
   ]
  },
  {
   "cell_type": "code",
   "execution_count": null,
   "id": "0b638d9e-04c7-40c1-9e4d-b4cc5f4a7b46",
   "metadata": {},
   "outputs": [],
   "source": []
  },
  {
   "cell_type": "code",
   "execution_count": null,
   "id": "a13f595f-6f13-4065-84d7-e9539c0fdcac",
   "metadata": {},
   "outputs": [],
   "source": []
  },
  {
   "cell_type": "code",
   "execution_count": null,
   "id": "ba85a754-f18d-4780-afb7-996061fd7c57",
   "metadata": {},
   "outputs": [],
   "source": []
  },
  {
   "cell_type": "markdown",
   "id": "c8663b9d-e4ae-452c-b9fc-0ba8079bea1c",
   "metadata": {},
   "source": [
    "Now, lets try the append, insert and extend the matrix list.  This is a list containing 4 lists with 4 elements each.  Write code to append a new row and print the matrix."
   ]
  },
  {
   "cell_type": "code",
   "execution_count": null,
   "id": "16e15c08-5c0d-49c1-b95e-7ff5f6253dd2",
   "metadata": {},
   "outputs": [],
   "source": []
  },
  {
   "cell_type": "markdown",
   "id": "53afa69c-ddc8-4f39-b100-c8aac703235d",
   "metadata": {},
   "source": [
    "Write code to append a new element to the first row and then print the matrix. "
   ]
  },
  {
   "cell_type": "code",
   "execution_count": null,
   "id": "8af5c399-a8e9-476c-894b-98e87b7ef0ef",
   "metadata": {},
   "outputs": [],
   "source": []
  },
  {
   "cell_type": "markdown",
   "id": "02ccead9-5cc9-481e-bdcb-9816ad6a2c71",
   "metadata": {},
   "source": [
    "The matrix is unbalanced now.  The first row has more elements.  This is not a problem for Python because it does not know we are trying to store a matrix. It just knows we are storing lists of lists.  We will learn in Module2 to use different libraries that will help provide better constraints for representing matricies."
   ]
  },
  {
   "cell_type": "markdown",
   "id": "616471e6-faf2-4558-ab8b-fb5b0670cf89",
   "metadata": {},
   "source": [
    "There are a variety of functions that you can use for lists.  You can find them documented at the top of Python's [Data Structures page](https://docs.python.org/3/tutorial/datastructures.html). Take a moment to explore the list of function. Select two from the list that we have not learned and practice using them in the cells below."
   ]
  },
  {
   "cell_type": "code",
   "execution_count": null,
   "id": "43fd5652-8dd9-4cc8-bcdb-dd1082d9f998",
   "metadata": {},
   "outputs": [],
   "source": []
  },
  {
   "cell_type": "code",
   "execution_count": null,
   "id": "eaf7bae9-de04-43a2-91d8-c6a31eb482bc",
   "metadata": {},
   "outputs": [],
   "source": []
  },
  {
   "cell_type": "markdown",
   "id": "f79e28c9-4934-48ea-bcff-0a27f40301ed",
   "metadata": {},
   "source": [
    "## 3. Copying Objects"
   ]
  },
  {
   "cell_type": "markdown",
   "id": "2192a8b9-f600-4278-ada6-f89f893bc7f4",
   "metadata": {},
   "source": [
    "Before continuing, we should pause to discuss how Python stores objects. Run the following code. It extends both `list1` and `list2`.  "
   ]
  },
  {
   "cell_type": "code",
   "execution_count": null,
   "id": "311e838c-2495-4479-8485-972d198fecca",
   "metadata": {},
   "outputs": [],
   "source": [
    "list1 = [1, 2, 3]\n",
    "list2 = [4, 5, 6]\n",
    "\n",
    "list2.extend(list1)\n",
    "list1.extend(list2)\n",
    "\n",
    "# The first list should be extended?\n",
    "print(list1)\n",
    "\n",
    "# The second list should be extended.\n",
    "print(list2)"
   ]
  },
  {
   "cell_type": "markdown",
   "id": "b7b1a378-797c-48ea-973e-c026c739f568",
   "metadata": {},
   "source": [
    "Oh no. The numbers in `list1` have duplicates. This is becaues in the code we first extend `list2` and then use it to extend `list1`.  But our goal is to extend `list1` and `list2` so that they have the same set of numbers without duplicates. How do you think you would fix this? \n",
    "\n",
    "One way to fix this would be to create a copy of one list to presere the original values and use the backup copy to extend the other.  The following code does this. Try it:"
   ]
  },
  {
   "cell_type": "code",
   "execution_count": null,
   "id": "396472a0-21c5-444d-8e27-361e222c99cc",
   "metadata": {},
   "outputs": [],
   "source": [
    "list1 = [1, 2, 3]\n",
    "list2 = [4, 5, 6]\n",
    "\n",
    "# Create a backup copy of list2 and name it list3.\n",
    "list3 = list2\n",
    "\n",
    "# Extend list 2\n",
    "list2.extend(list1)\n",
    "\n",
    "# Use the backup copy to extend list 3\n",
    "list1.extend(list3)\n",
    "\n",
    "# The first list should be extended?\n",
    "print(list1)\n",
    "\n",
    "# The second list should be extended.\n",
    "print(list2)"
   ]
  },
  {
   "cell_type": "markdown",
   "id": "f0f9eda3-c6c7-440d-92b7-a7756da63f3c",
   "metadata": {},
   "source": [
    "Wait. That did not work. Why not?  The reason is because of the way that Python assigns values in variables.  What happens in this line of code is not what we expect:\n",
    "\n",
    "```python\n",
    "list3 = list2\n",
    "```\n",
    "We may have thought that that line of code copies the value of `list2` into the new variable `list3` but this is not what happens. Instead, Python copies the reference in main memory for this variable so that `list2` and `list3` are pointing to the same location in memory, and resolve to the same value.  Python does this to reduce the amount of memory a program may consume. Suppose `list2` had millions of entries. If Python copied all million entries into `list3` then it would double the amount of memory your program will consume.  \n",
    "\n",
    "If we want to force Python to make a copy rather than copy the memory reference then we should use the `copy()` function. Many Python objects have a `copy()` function for this purpose.  Try it:"
   ]
  },
  {
   "cell_type": "code",
   "execution_count": null,
   "id": "ade67f07-5495-4b82-8958-ffe7600de1ac",
   "metadata": {},
   "outputs": [],
   "source": [
    "list1 = [1, 2, 3]\n",
    "list2 = [4, 5, 6]\n",
    "\n",
    "# Create a backup copy of list2 and name it list3.\n",
    "list3 = list2.copy()\n",
    "\n",
    "# Extend list 2\n",
    "list2.extend(list1)\n",
    "\n",
    "# Use the backup copy to extend list 3\n",
    "list1.extend(list3)\n",
    "\n",
    "# The first list should be extended?\n",
    "print(list1)\n",
    "\n",
    "# The second list should be extended.\n",
    "print(list2)"
   ]
  },
  {
   "cell_type": "markdown",
   "id": "0439046e-f014-4e01-b781-60677dfc9413",
   "metadata": {},
   "source": [
    "Now it works!  We have extended our two lists the way we wanted."
   ]
  },
  {
   "cell_type": "markdown",
   "id": "635cf803-9173-4811-995f-24554ff566c6",
   "metadata": {},
   "source": [
    "## 3. Dictionaries\n",
    "Dictionaries in Python are similar to lists except rather than numeric indexes, you can use a named index. A named index is also called a **key/value** pair, where the index name is the **key**.  Dictionaries are optimized for fast lookups. Dictionaries are shortened to the word `dict` in Python.  In other programming langauages dictionaries are referred to as **associative arrays** or **hashes**."
   ]
  },
  {
   "cell_type": "markdown",
   "id": "efcbba95-be18-4640-b35b-2338fd60b1b2",
   "metadata": {},
   "source": [
    "### 3.1. Creating a Dictionary\n",
    "Dictionaries can be created with an empty set of values in the following way:\n",
    "\n",
    "```python\n",
    "my_dict = {}\n",
    "```\n",
    "\n",
    "In the code above, the variable named `my_dict` is **defined** and is initialized as an empty dictionary using the curly brackets `{}`. Note, this is different from lists as those are created with square brackets.\n",
    "\n",
    "You can preload a dictionary by providing a comma-separated set of key/value pairs between the curley brackets.  The following creates an array of strings:\n",
    "\n",
    "```python\n",
    "languages = {'Afrikaans': 'Afrikaans', \n",
    "             'Italian': 'Italiano', \n",
    "             'Slovak': 'Slovenčina', \n",
    "             'Chinese': '中文'}\n",
    "```\n",
    "In the example above, the key/value pairs are separted by a comma and the key and value are separated with a colon.  We used the English name for the language as the key and kept ht native form of the language. "
   ]
  },
  {
   "cell_type": "markdown",
   "id": "5cd71514-3cb5-41d7-a15f-35055837cd1e",
   "metadata": {},
   "source": [
    "### 3.2. Accessing Values in a Dictionary\n",
    "To access values in a dictionary, we use the same method as an array but instead of a numeric index, we use the name of the ky. For example run the following:"
   ]
  },
  {
   "cell_type": "code",
   "execution_count": null,
   "id": "84962130-aac7-4e4a-86e4-f52e1aa95d1e",
   "metadata": {},
   "outputs": [],
   "source": [
    "languages = {'Afrikaans': 'Afrikaans', \n",
    "             'Italian': 'Italiano', \n",
    "             'Slovak': 'Slovenčina', \n",
    "             'Chinese': '中文'}\n",
    "\n",
    "# Get the values for a few languages and print their native names:\n",
    "print(languages['Chinese'])\n",
    "print(languages['Slovak'])"
   ]
  },
  {
   "cell_type": "markdown",
   "id": "a960b655-39eb-4311-9b4b-0a764ff12379",
   "metadata": {},
   "source": [
    "In the example above, we use square brackets around the key names just like we do in an array for the index, but we use the key name rather than a numeric index. "
   ]
  },
  {
   "cell_type": "markdown",
   "id": "41aa92ed-8ba2-434c-98ac-a431239dfafb",
   "metadata": {},
   "source": [
    "### 3.3. Nesting Dictionaries and Arrays <a id=\"section-3.3\"></a>\n",
    "Dictionaries can store any data type. Lists could as well, but dictionaries make it intuitive to create complex data models. Consider the following example that stores customer order data for a bakery.\n",
    "\n",
    "```python\n",
    "orders = {'Name': 'Bakerie Kake',\n",
    "          'Address' : '123 Main Street',\n",
    "          'Orders' : [{'Date': '2022-10-01', \n",
    "                       'Item': 'Donut', \n",
    "                       'Cost': '0.45'},\n",
    "                      {'Date': '2022-10-04', \n",
    "                       'Item': 'Croissant', \n",
    "                       'Cost': '2.50'}]\n",
    "         }\n",
    "\n",
    "```\n",
    "In this example we have three first-level keys: `Name`, `Address` and `Orders`. The `Name` and `Address` keys have a single string value. The `Orders` key has a nested list of values. That nested list of values is a set of dictionaries that describe different orders made by the customer.  Notice that you can spot the defintion of a nested array because it uses square brackets, `[]`, and nested dictionaries use curly brackets, `{}`.\n",
    "\n",
    "The indentation shown in the code above is not required by Pyon, but helps make the definition of the dictionary more readable for a human. We could have written the dictionary in this less friendly way:\n",
    "\n",
    "```python\n",
    "orders = {'Name': 'Bakerie Kake', 'Address' : '123 Main Street', 'Orders' : [{'Date': '2022-10-01', 'Item': 'Donut', 'Cost': '0.45'}, {'Date': '2022-10-04', 'Item': 'Croissant', 'Cost': '2.50'}]}\n",
    "```\n",
    "\n",
    "Let's practice accessing the different items of the above dictionary. Run the following cell."
   ]
  },
  {
   "cell_type": "code",
   "execution_count": null,
   "id": "52191401-98fd-4574-a1f9-0408c6fa945d",
   "metadata": {},
   "outputs": [],
   "source": [
    "orders = {'Name': 'Bakerie Kake',\n",
    "          'Address' : '123 Main Street',\n",
    "          'Orders' : [{'Date': '2022-10-01', \n",
    "                       'Item': 'Donut', \n",
    "                       'Cost': '0.45'},\n",
    "                      {'Date': '2022-10-04', \n",
    "                       'Item': 'Croissant', \n",
    "                       'Cost': '2.50'}]\n",
    "         }\n",
    "\n",
    "# Print the name of the customer.\n",
    "print(\"Name: {}\".format(orders['Name']))\n",
    "\n",
    "# Get the last order.\n",
    "last_order = orders['Orders'][-1]\n",
    "\n",
    "# Print a formatted message for the last order.\n",
    "print(\"Last Order: Date: {}. Item: {}. Cost: ${}.\".format(\n",
    "    last_order['Date'], last_order['Item'], last_order['Cost']))"
   ]
  },
  {
   "cell_type": "markdown",
   "id": "9b432610-66e6-4312-9121-e3ec6c1836de",
   "metadata": {},
   "source": [
    "In the code above we access values in different ways:\n",
    "    \n",
    "1. Accessing the value of first-level keys of the dictionary.\n",
    "2. Accessing a single order from the `Orders` list.\n",
    "3. Accessing individual values from the dictionary of the last order."
   ]
  },
  {
   "cell_type": "markdown",
   "id": "05fc71bf-e61f-4fee-be3f-788cfcd512b9",
   "metadata": {},
   "source": [
    "### 3.4 Pretty Printing a Dictionary\n",
    "Try printing our orders dictionary. It is difficult to read:"
   ]
  },
  {
   "cell_type": "code",
   "execution_count": null,
   "id": "9bc14f43-a675-414a-8ad5-3b52f14ed9b4",
   "metadata": {},
   "outputs": [],
   "source": [
    "print(orders)"
   ]
  },
  {
   "cell_type": "markdown",
   "id": "6572fa41-cf3e-4153-a0f5-17fc1538ccd5",
   "metadata": {},
   "source": [
    "We can make dictionaries easier to read for humans by using the [Pretty Printer](https://docs.python.org/3/library/pprint.html) module. Execute the cell below to try it. The inline comments describe how each line works."
   ]
  },
  {
   "cell_type": "code",
   "execution_count": null,
   "id": "fe28af47-a822-428e-922a-0f753f66cc73",
   "metadata": {},
   "outputs": [],
   "source": [
    "# Add the pretty printer module to our code.\n",
    "import pprint\n",
    "\n",
    "# Initialize a new pretty printer object. The indentation\n",
    "# for printing is set at 4 spaces.\n",
    "pp = pprint.PrettyPrinter(indent=4)\n",
    "\n",
    "# Now instead of the print() function we'll use the \n",
    "# pp.pprint function to print the dictionary.\n",
    "pp.pprint(orders)"
   ]
  },
  {
   "cell_type": "markdown",
   "id": "0185e4a7-b2ed-4db3-a0a1-8b7353a8b221",
   "metadata": {},
   "source": [
    "### 3.4. Modifying Elements of a Dictionary\n",
    "You can add an item to a dictionary by using a new key in square brackets, `[]`, and assigning a value. The key used must not already exist in the dictionary. Run the following cell for an example of adding a new value to a dictionary."
   ]
  },
  {
   "cell_type": "code",
   "execution_count": null,
   "id": "5c25dcfd-95f6-4391-9160-14ca6b3ce6a6",
   "metadata": {},
   "outputs": [],
   "source": [
    "# Create a dictionary of foods and indicate if they are \n",
    "# toxic for dogs.\n",
    "toxic_dog_food = {\n",
    "    'onions': True,\n",
    "    'chocolate': True,\n",
    "    'avacodo': True,\n",
    "    'chicken': False,\n",
    "    'blueberries': False\n",
    "}\n",
    "\n",
    "# Print the list\n",
    "print(toxic_dog_food)\n",
    "\n",
    "# Add a new food to the dictionary.\n",
    "toxic_dog_food['mango'] = False\n",
    "\n",
    "# Print the list\n",
    "print(toxic_dog_food)"
   ]
  },
  {
   "cell_type": "markdown",
   "id": "f60053ee-0303-441e-9cfe-f543eefc8f36",
   "metadata": {},
   "source": [
    "We can use the same square brackets to change a value if we provide an existing key. Run this cell to observe:"
   ]
  },
  {
   "cell_type": "code",
   "execution_count": null,
   "id": "0fbe8ff0-b278-4163-9e2d-3a9ecf2662e5",
   "metadata": {},
   "outputs": [],
   "source": [
    "# Add a new food.\n",
    "toxic_dog_food['grapes'] = False\n",
    "print(toxic_dog_food)\n",
    "\n",
    "# Oops grapes are toxic. Change the value.\n",
    "toxic_dog_food['grapes'] = True\n",
    "print(toxic_dog_food)"
   ]
  },
  {
   "cell_type": "markdown",
   "id": "26c8eab8-2206-4a10-a740-32baaebfb279",
   "metadata": {},
   "source": [
    "### 3.5. Removing an Elements of a Dictionary\n",
    "You can remove an element from a dictionary by using the `del` keyword prior to variable with the key in square brackets, `[]`. Run the following cell to see how this works."
   ]
  },
  {
   "cell_type": "code",
   "execution_count": null,
   "id": "9477aaaa-57f9-491b-9239-0b721beddc28",
   "metadata": {},
   "outputs": [],
   "source": [
    "toxic_dog_food = {\n",
    "    'onions': True,\n",
    "    'chocolate': True,\n",
    "    'avacodo': True,\n",
    "    'chicken': False,\n",
    "    'blueberries': False\n",
    "}\n",
    "print(toxic_dog_food)\n",
    "\n",
    "# Remove blueberries from the list and print it \n",
    "# to see that it is gone.\n",
    "del toxic_dog_food['blueberries']\n",
    "print(toxic_dog_food)"
   ]
  },
  {
   "cell_type": "markdown",
   "id": "c118afc8-45fa-4682-8091-efd76a5cb850",
   "metadata": {},
   "source": [
    "### 3.6. <i class=\"fas fa-puzzle-piece\"></i> Practice\n",
    "Use the customer orders dictionary introduced in [Section 3.3](#section-3.3) above.  Add a new key named `CustomerID` and give it a 9-digit customer number. Print the dictionary to make sure the key/value pair was added."
   ]
  },
  {
   "cell_type": "code",
   "execution_count": null,
   "id": "91b30434-358d-4bce-a54c-a1e798d67595",
   "metadata": {},
   "outputs": [],
   "source": []
  },
  {
   "cell_type": "markdown",
   "id": "edb31ee5-566c-4d2b-8f34-35fb3c8479d0",
   "metadata": {},
   "source": [
    "Add a new order to the `Orders` list.  Remember, the `Orders` list is a list. Review the instructions above for adding a value to a list. The value you want to add will be a dictionary with the keys: `Cost`, `Date` and `Item`. Use values of your own choosing for these keys."
   ]
  },
  {
   "cell_type": "code",
   "execution_count": null,
   "id": "14b50205-6c9b-4371-b0e8-7d44a1fa620a",
   "metadata": {},
   "outputs": [],
   "source": []
  },
  {
   "cell_type": "markdown",
   "id": "35b1fff1-a86c-466d-a25a-b902dc92a3ce",
   "metadata": {},
   "source": [
    "## 4. Looping\n",
    "In [Assignment 7 - File IO, Functions and Logic](A07-IO-Functions-Logic.ipynb) we opened data files with multiple lines of values.  In some practice exercises you were asked to read in the first 10 lines of the file and perform some mathematical operations. To do this, you were required to call the `readline()` function on the file object 10 times.  This resulted in some very repetitive code. Also, we were limited by the number of calls to `readline()` that we programmed. The `data/iris_data.csv` file has 150 lines.  Calling `readline()` 150 times to import the data is not practical. Looping to the rescue!  Here we will learn to perform tasks repetitively in a succint way using loop statements."
   ]
  },
  {
   "cell_type": "markdown",
   "id": "e17d36f9-4d4c-4060-b08f-54099fe85a0a",
   "metadata": {},
   "source": [
    "### 4.1. For Loops\n",
    "The `for` loop is used to cycle through, or **iterate** through a set of values.  These can be a range of numbers, the elements of a list or the keys of a dictionary.  We will explore each of these."
   ]
  },
  {
   "cell_type": "markdown",
   "id": "40c44a51-c8ca-43de-b80e-3698395cd0d2",
   "metadata": {},
   "source": [
    "#### 4.1.1 Looping of Lists\n",
    "We just learned about lists.  What if you wanted to perform an action on each item of a list?  We can use a `for` loop to do that! Run the following simple example to show how a for loop works:"
   ]
  },
  {
   "cell_type": "code",
   "execution_count": null,
   "id": "fafb7965-c2ff-4624-9c8a-99e9163553f7",
   "metadata": {},
   "outputs": [],
   "source": [
    "# Define a list of states and sort it.\n",
    "states = ['Florida', 'South Carolina', 'Washington', 'Vermont', \n",
    "          'Texas', 'California']\n",
    "states.sort()\n",
    "\n",
    "# Iterate through the states and print each one.\n",
    "for state in states:\n",
    "    print(state)"
   ]
  },
  {
   "cell_type": "markdown",
   "id": "47871505-59b6-4a1c-91ba-788c0f756dec",
   "metadata": {},
   "source": [
    "In the code above, the `for` loop is defined using the reserved word `for`. It is followed by the name of a new variable named `state` that change its value from one element in the list to the next. You can use any variable name you like. The word \"state\" was used here because it describes what it is storing (a state from the `states` list).  The reserved word `in` tells python that the list to use for looping follows (i.e., `states`). T The definition of the `for` loop ends with a colon and the code that should be repeated is indented (just like with `if` statements).\n",
    "\n",
    "Let's look at a more complex example. Run the following example to demonstarte how to use a `for` loop to calculate the average for a set of 10 numbers exactly:"
   ]
  },
  {
   "cell_type": "code",
   "execution_count": null,
   "id": "58a0239b-aae1-47f6-b3d9-3462047ac05f",
   "metadata": {},
   "outputs": [],
   "source": [
    "# Create a list of 10 numbers\n",
    "numbers = [2, 4, 6, 8, 10, 12, 14, 16, 18, 20]\n",
    "\n",
    "# Initailze the sum of our numbers to zero to start.\n",
    "numsum = 0\n",
    "\n",
    "# Use a loop that executes the same code for each \n",
    "# value in our numbers list.\n",
    "for number in numbers:\n",
    "    numsum = numsum + number\n",
    "    \n",
    "# Now calculate the average by dividing the sum by\n",
    "# the number of elements in the list.\n",
    "avg = numsum / len(numbers)\n",
    "print(avg)"
   ]
  },
  {
   "cell_type": "markdown",
   "id": "4c347ca5-d4ab-4b1f-abd7-8d4d1128969e",
   "metadata": {},
   "source": [
    "The code above calculates the average of 10 numbers. The sum is calculated by looping over each number, and once looping is done the average is calculated.  If you are not used to the idea of looping, sometimes a step-by-step look at how the variable values change can be helpful.  The following tables shows how the variables `number` and `numsum` will change at each iteration of the loop.\n",
    "\n",
    "| Loop<br>Iteration       | `number` | `numsum` |\n",
    "| ---------- | -------- | -------- |\n",
    "| 1          | 2        | 2        |\n",
    "| 2          | 4        | 6        |\n",
    "| 3          | 6        | 12       |\n",
    "| 4          | 8        | 20       |\n",
    "| 5          | 10       | 30       |\n",
    "| 6          | 12       | 42       |\n",
    "| 7          | 14       | 56       |\n",
    "| 8          | 16       | 72       |\n",
    "| 9          | 18       | 90       |\n",
    "| 10         | 20       | 110      |\n"
   ]
  },
  {
   "cell_type": "markdown",
   "id": "a5e7551f-2b83-497b-9545-f58437a6cd47",
   "metadata": {},
   "source": [
    "#### 4.1.2 Looping over a range of numbers\n",
    "Instead of looping over the values in a list, what if we wanted to loop a specific number of times? To do this we can use the `range()` function. The `range()` function in the `for` loop tells it how many iterations to perform by creating a set of numbers between two numbers provided as arguments. The set of numbers includes the first number but not the last number. For example, A call of `range(0, 10)` will produce the set of numbers `[0, 1, 2, 3, 4, 5, 6, 7, 8, 9]`. Notice these numbers are perfectly ordered and can serve as index numbers of our list. Try the following example:"
   ]
  },
  {
   "cell_type": "code",
   "execution_count": null,
   "id": "377f8cdf-4be9-4541-a0d0-5e8919f92755",
   "metadata": {},
   "outputs": [],
   "source": [
    "# Create a list of 10 numbers\n",
    "numbers = [2, 4, 6, 8, 10, 12, 14, 16, 18, 20]\n",
    "\n",
    "# Initailze the sum of our numbers to zero to start.\n",
    "numsum = 0\n",
    "\n",
    "# Use a loop that executes over a range.\n",
    "for x in range(0, len(numbers)):\n",
    "    numsum = numsum + numbers[x]\n",
    "    \n",
    "# Now calcualte the average by dividing the sum by\n",
    "# the number of elements in the list.\n",
    "avg = numsum / len(numbers)\n",
    "print(avg)"
   ]
  },
  {
   "cell_type": "markdown",
   "id": "ce434b6b-8770-44af-afc3-5cd81b6ef1ca",
   "metadata": {},
   "source": [
    "The example code is identical to that of section 4.1.1 but instead of using the values of the numbers array it uses a range of numbers and uses the number stored in `x` as a index into our `numbers` array."
   ]
  },
  {
   "cell_type": "markdown",
   "id": "34fbb091-b6ca-471a-8077-6ff3508a258d",
   "metadata": {},
   "source": [
    "### 4.2. <i class=\"fas fa-puzzle-piece\"></i> Practice\n",
    "\n",
    "Read in the `data/languages.txt` file. Use the `read()` function to import the entire file as a single string.  Split the string using the `split()` function using the newline, `\\n`, character. This will create a list where every line of the file is a different element of the list. Loop through each langage in the list and use the string `upper()` function to convert it to uppercase. Print the result."
   ]
  },
  {
   "cell_type": "code",
   "execution_count": null,
   "id": "a36266c4-454b-41a5-9e7b-dcd1a21cdf27",
   "metadata": {},
   "outputs": [],
   "source": []
  },
  {
   "cell_type": "markdown",
   "id": "9c563dfb-c76d-47ca-8fe3-c16897c64f2b",
   "metadata": {},
   "source": [
    "Adjust your code from the previous example. Instead of looping over the list of languages, use a `range()` function that will cause the `for` loop to iterate as many times as there are languages in the list. The output should be the same"
   ]
  },
  {
   "cell_type": "code",
   "execution_count": null,
   "id": "66a6003f-54c4-47e2-b841-b6458f151743",
   "metadata": {},
   "outputs": [],
   "source": []
  },
  {
   "cell_type": "markdown",
   "id": "f6b574d0-39ba-4a23-9019-95099552c8ab",
   "metadata": {},
   "source": [
    "You can loop over dictionaries if you can get the keys into a list. To get the keys of a dictionary, you can use the `keys()` function.  For example. you can get the keys from the `toxic_dog_food` dictionary like this:  `toxic_dog_food.keys()`.\n",
    "\n",
    "```python\n",
    "toxic_dog_food = {\n",
    "    'onions': True,\n",
    "    'chocolate': True,\n",
    "    'avacodo': True,\n",
    "    'chicken': False,\n",
    "    'blueberries': False\n",
    "}\n",
    "```\n",
    "\n",
    "Write a for loop that will loop through each food in the list. In the loop, if the food is toxic, print using the formated string `\"The food, {}, is toxic.\"`. If it is not toxic, print using the formatted string `\"The food, {}, is not toxic\"`. "
   ]
  },
  {
   "cell_type": "code",
   "execution_count": null,
   "id": "2d2e1937-7e1e-45b7-9a09-08bf03756ffd",
   "metadata": {},
   "outputs": [],
   "source": []
  },
  {
   "cell_type": "markdown",
   "id": "99791ca7-2831-4e9e-b374-f84ac16d46cb",
   "metadata": {},
   "source": [
    "### 4.3 Looping over Files\n"
   ]
  },
  {
   "cell_type": "markdown",
   "id": "7ea03e48-61a2-4f98-8d11-8d0c21ae14e8",
   "metadata": {},
   "source": [
    "One important use of a `for` loops is in reading files.  In [Assignment 7 - File IO, Functions and Logic](A07-IO-Functions-Logic.ipynb) we opened files and calculated sums of the first 10 lines of the file. However, these files have more lines than 10 lines.  If we wanted to sum all of the lines in the file we could use a `for` loop.  To demonstrate, run the following cell that reads in the `data/languages.txt` file loops until the file has been completely read."
   ]
  },
  {
   "cell_type": "code",
   "execution_count": null,
   "id": "b6ac9bf2-0c34-447e-8fc0-7563bcb279cf",
   "metadata": {},
   "outputs": [],
   "source": []
  },
  {
   "cell_type": "markdown",
   "id": "2716f8f8-7367-4f22-a3d7-c39b7d8951dc",
   "metadata": {},
   "source": [
    "Notice in the code above we did not call `readline()` on the file object? Using the for loop we didn't need to.  Python knows how to use a file object in a `for` loop. The `for` loop will automatically call the `readline()` function for us. "
   ]
  },
  {
   "cell_type": "markdown",
   "id": "189c0e72-a354-48fb-b552-e4ce374a3e93",
   "metadata": {},
   "source": [
    "### 4.4. <i class=\"fas fa-puzzle-piece\"></i> Practice"
   ]
  },
  {
   "cell_type": "markdown",
   "id": "8d623bb1-edcd-4117-9d45-c48a2b76fc6c",
   "metadata": {},
   "source": [
    "The following code reads the first 5 lines of the iris data and sums the columns. \n",
    "\n",
    "```python\n",
    "iris_file = open(\"./data/iris_data.csv\")\n",
    "\n",
    "# Read the first 5 lines of the iris file.\n",
    "header = iris_file.readline().strip().split(',')\n",
    "data1 = iris_file.readline().strip().split(',')\n",
    "data2 = iris_file.readline().strip().split(',')\n",
    "data3 = iris_file.readline().strip().split(',')\n",
    "data4 = iris_file.readline().strip().split(',')\n",
    "\n",
    "# Calculate a sum of the four columns\n",
    "col1sum = float(data1[0]) + float(data2[0]) + float(data3[0]) + float(data4[0])\n",
    "col2sum = float(data1[1]) + float(data2[1]) + float(data3[1]) + float(data4[1])\n",
    "col3sum = float(data1[2]) + float(data2[2]) + float(data3[2]) + float(data4[2])\n",
    "col4sum = float(data1[3]) + float(data2[3]) + float(data3[3]) + float(data4[3])\n",
    "\n",
    "# Print the sum of the four columns\n",
    "print(\"{:.2f} {:.2f} {:.2f} {:.2f}\".format(col1sum, col2sum, col3sum, col4sum))\n",
    "iris_file.close()\n",
    "```\n",
    "\n",
    "Change the code above by replacing the reptitive code with an appropriate `for` loop. **Hint**: you can keep the `col1sum`, `col2sum`, etc., variables but you will need to initialize them to zero before the loop starts. Inside of the loop you can add to them."
   ]
  },
  {
   "cell_type": "code",
   "execution_count": null,
   "id": "f394b890-e13d-4b34-8049-82514bb91159",
   "metadata": {},
   "outputs": [],
   "source": []
  },
  {
   "cell_type": "markdown",
   "id": "bb41b921-4416-44c8-8cc2-a06f440d1474",
   "metadata": {},
   "source": [
    "### 4.5. While Loops"
   ]
  },
  {
   "cell_type": "markdown",
   "id": "13bcc7e2-e4c6-4283-803c-4435bf0027f1",
   "metadata": {},
   "source": [
    "A `while` loop is similar to a `for` loop but instead of looping over a set of values, it loops as long as a conditional statement evaluates as `True`.  When the statment ceases to be `True` the looping stops.   Run the following  simple example:\n"
   ]
  },
  {
   "cell_type": "code",
   "execution_count": null,
   "id": "e8b3b844-63aa-4821-8c94-ed914f5d4665",
   "metadata": {},
   "outputs": [],
   "source": [
    "x = 0\n",
    "while x < 100:\n",
    "    x = x + 10\n",
    "    print(x)\n",
    "print(\"Done\")"
   ]
  },
  {
   "cell_type": "markdown",
   "id": "b2dedb92-8e42-4b4a-b21a-a206199ad659",
   "metadata": {},
   "source": [
    "The loop above will continue until the condition `x < 100` evaulates to `False`. At first, the value of `x` is 0 and since it is less than 100 the codition is `True`. At each toop the number is incremented by 10. When the value is equal to 100 the condition is no longer true and the looping stops. Similar to `if` statements, the conditional statement can be as simple or as complex as needed."
   ]
  },
  {
   "cell_type": "markdown",
   "id": "e5718f0f-52eb-4035-a0bb-04fa186c2395",
   "metadata": {},
   "source": [
    "### 4.6. Skipping Values and Breaking from Loops\n",
    "\n",
    "Sometimes we may not want to skip values in a loop or we may want to end a loop early if we encounter a specific condition.  Let's explore each of these."
   ]
  },
  {
   "cell_type": "markdown",
   "id": "41253c6f-19f1-4ad9-afe2-259c2343605c",
   "metadata": {},
   "source": [
    "#### 4.6.1. Skipping values\n",
    "To skip a values in a loop you can use the keyword `continue`. For example, to skip the number 5 in a loop of 10 numbers. Run the following to demonstrate:"
   ]
  },
  {
   "cell_type": "code",
   "execution_count": null,
   "id": "ddad0859-2834-4b89-b4ed-afa6aa6714d5",
   "metadata": {},
   "outputs": [],
   "source": [
    "for x in range(0,10):\n",
    "    if x >= 5:\n",
    "        continue\n",
    "    print(x)\n",
    "print(\"Done\")"
   ]
  },
  {
   "cell_type": "markdown",
   "id": "c670aa53-c437-40ac-bc5f-e9efab3de7f6",
   "metadata": {},
   "source": [
    "The `if` statement in the for loop checks if the value of `x` is greater than 5. It is uses the `continue` reserved if the statement is `True` which tells the loop to skip the remaining lines of code in the loop and move to the next element in the list.  You can see in the output that values >= 5 are skipped oer and not printed."
   ]
  },
  {
   "cell_type": "markdown",
   "id": "5f1979d2-7790-4060-b776-7fcb35cfcd33",
   "metadata": {},
   "source": [
    "#### 4.6.2 Breaking out of a loop\n",
    "Rather than skipping values you can stop the loop and break out of it. Use the `break` keyword to do this.  Run the following to demonstrate:"
   ]
  },
  {
   "cell_type": "code",
   "execution_count": null,
   "id": "711799db-0f4f-49d3-aa3a-c5bb8a4d2cff",
   "metadata": {},
   "outputs": [],
   "source": [
    "for x in range(0,10):\n",
    "    if x >= 5:\n",
    "        break\n",
    "    print(x)\n",
    "print(\"Done\")"
   ]
  },
  {
   "cell_type": "markdown",
   "id": "eddb8df7-bb88-4d82-832b-86edecb0fd58",
   "metadata": {},
   "source": [
    "The code above is similar to that of section 4.6.1 but instead of skipping values in the looping, the `break` reserved word tell the loop to stop processing."
   ]
  },
  {
   "cell_type": "markdown",
   "id": "e178b993-3402-4f40-828f-aa79e195787b",
   "metadata": {},
   "source": [
    "#### 4.7 <i class=\"fas fa-puzzle-piece\"></i> Practice\n",
    "\n",
    "Lets put everything together!\n",
    "\n",
    "Write code that opens the `data/iris_data.csv` file and stores this data in dictionary of lists.  The first-level keys should be the species names.  The value should be a list of floats in order of sepal length, sepal width, petal length, petal width.  When printed with pretty print, the first few lines should look like the following:\n",
    "```\n",
    "{   'setosa': [   [5.1, 3.5, 1.4, 0.2],\n",
    "                  [4.9, 3.0, 1.4, 0.2],\n",
    "                  [4.7, 3.2, 1.3, 0.2],\n",
    "                  [4.6, 3.1, 1.5, 0.2],\n",
    "                  [5.0, 3.6, 1.4, 0.2],\n",
    "                  [5.4, 3.9, 1.7, 0.4],\n",
    "                  [4.6, 3.4, 1.4, 0.3],\n",
    "                  [5.0, 3.4, 1.5, 0.2],\n",
    "                  [4.4, 2.9, 1.4, 0.2],\n",
    "```\n",
    "Some lines of code have been provided in the cell below to get you started. Before you get started, add comments to the code below to make sure you understand what it is doing. Then run the code to see how it behaves without any changes.  Then make your changes. \n",
    "\n",
    "Remember, that the first line of the file is a header line so you will need to skip that line in the for loop.  Do not forget to change the value to floats."
   ]
  },
  {
   "cell_type": "code",
   "execution_count": null,
   "id": "23cf85c3-d3b4-4ac8-bd8e-389fbb162ee9",
   "metadata": {},
   "outputs": [],
   "source": [
    "import pprint\n",
    "pp = pprint.PrettyPrinter(indent=4)\n",
    "\n",
    "iris_file = open('data/iris_data.csv')\n",
    "\n",
    "data = {\n",
    "    'setosa': [],\n",
    "    'versicolor': [],\n",
    "    'virginica': []\n",
    "}\n",
    "\n",
    "# Enter your for loop here\n",
    "\n",
    "pp.pprint(data)\n",
    "iris_file.close()"
   ]
  },
  {
   "cell_type": "code",
   "execution_count": null,
   "id": "5217a41b-b1fb-42e9-a8b5-dd7049881922",
   "metadata": {},
   "outputs": [],
   "source": []
  },
  {
   "cell_type": "markdown",
   "id": "9fdd7edc-9dc5-4976-9d0a-bb8aff602357",
   "metadata": {},
   "source": [
    "Why do you think organizing data in a dictionary in this way could be useful?"
   ]
  },
  {
   "cell_type": "code",
   "execution_count": null,
   "id": "ba525c32-b235-44da-90b2-df8a080136a9",
   "metadata": {},
   "outputs": [],
   "source": []
  },
  {
   "cell_type": "markdown",
   "id": "4bca5c29-255e-4e0c-9f2c-b569233e6342",
   "metadata": {},
   "source": [
    "## Expected Outcomes <a id=\"section-outcomes\"></a>\n",
    "At this point, you should feel comfortable with the following:\n",
    "\n",
    "\n",
    "- Creating a list.\n",
    "- Accessing value inside of list via unpacking, indexing and negative indexing.\n",
    "- Modifying list by adding, inserting or extending lists.\n",
    "- Adding and removing values in a list.\n",
    "- Copying objects in Python.\n",
    "- Creating a dictionary.\n",
    "- Accessing values in a dictionary.\n",
    "- Creating and accessing values in a nested dictionary.\n",
    "- Pretty printing a dictionary.\n",
    "- Adding, changing, and removing values in a dictionary.\n",
    "- Looping over values in a list.\n",
    "- Looping over values in a range.\n",
    "- Creating a while loop.\n"
   ]
  },
  {
   "cell_type": "markdown",
   "id": "a577ce51-2ba8-41e6-af45-b20cc136b916",
   "metadata": {},
   "source": [
    "## What to Turn in? <a id=\"section-turn_in\"></a>\n",
    "\n",
    "Perform the following with Git:\n",
    "\n",
    "1. Commit your changes to this notebook. \n",
    "3. Push your code to your remote repository.\n",
    "\n",
    "Go to your online repository on GitHub and check that the changes you just pushed are present. If so, then send a message to the instructor indicating the assignment is turned in."
   ]
  }
 ],
 "metadata": {
  "kernelspec": {
   "display_name": "Python 3 (ipykernel)",
   "language": "python",
   "name": "python3"
  },
  "language_info": {
   "codemirror_mode": {
    "name": "ipython",
    "version": 3
   },
   "file_extension": ".py",
   "mimetype": "text/x-python",
   "name": "python",
   "nbconvert_exporter": "python",
   "pygments_lexer": "ipython3",
   "version": "3.9.13"
  }
 },
 "nbformat": 4,
 "nbformat_minor": 5
}
