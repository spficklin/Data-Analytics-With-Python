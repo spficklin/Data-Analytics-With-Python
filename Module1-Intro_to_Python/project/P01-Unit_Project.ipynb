{
 "cells": [
  {
   "cell_type": "markdown",
   "id": "7992453c-33da-45e9-b889-5b68cbfb8fed",
   "metadata": {},
   "source": [
    "# Unit Project:  Analysis of a Data File"
   ]
  },
  {
   "cell_type": "markdown",
   "id": "aaa8f8b8-3fa2-4622-b470-6e621cbcc23d",
   "metadata": {},
   "source": [
    "## Learning Objectives\n",
    "This project meets four of the learning objectives for this unit:\n",
    "\n",
    "1. Learn to navigate tools that support computer programming for Python.\n",
    "2. Program linear scripts in python.\n",
    "3. Program scripts that include functions, logic, and control statements\n",
    "4. Manage data within the program using lists and dictionaries.\n",
    "\n",
    "\n",
    "You will meet these objectives by applying everything you have learned throughout the course in the implementation of a script for data analysis."
   ]
  },
  {
   "cell_type": "markdown",
   "id": "a80bb591-fc9b-4792-885a-4745c2b75bcb",
   "metadata": {},
   "source": [
    "## Instructions\n",
    "Read through all of the text in this page.  Section headers with the <i class=\"fas fa-puzzle-piece\"></i> puzzle icon indicates that the section provides a tasks that you must perform to complete the project. \n",
    "\n",
    "The **Expected Outcomes** section provides a listing of the exerptise that you should have developed through the course and employed in this project.  If you feel uncomfortable in any of these areas please reach out to the instructor.\n",
    "\n",
    "Follow the instructions in the **What to turn in** section to turn in the exercises of the assginment for course credit."
   ]
  },
  {
   "cell_type": "markdown",
   "id": "b03f7af5-b65a-480c-a557-e02bf897205a",
   "metadata": {},
   "source": [
    "## Background\n",
    "One of the most important uses for the Python programming in science is for **Data Analytics**.  With data sets becoming increasingly large (**volume**), complex (**variety**) and arriving faster (**velocity**)--the 3 V's of **big data**--scientsts are in greater need of programming skills.  Excel is insufficient and why wait around for an informatician when there are tasks you can do on your own! \n",
    "\n",
    "While a lot of open-source, freely-available software programs and websites are also written in Python, this module is geared for training you in the basics of Python towards use in Data Analytics. Therefore, for this project, we will write a Python script that can use those basic skills to read in a data file and perform some basic statistical analysis."
   ]
  },
  {
   "cell_type": "markdown",
   "id": "78ec7b06-8c9d-4073-9d3d-9b0411d1a9c0",
   "metadata": {
    "tags": []
   },
   "source": [
    "### Data Introducution\n",
    "For this project we will be using the [Cover Type Dataset](https://archive.ics.uci.edu/ml/datasets/Covertype) available at the UC Irvine Machine Learning Repository. The site provides this explanation as to the purpose of this dataset:\n",
    "\n",
    "> Natural resource managers responsible for developing ecosystem management strategies require basic descriptive information including inventory data for forested lands to support their decision-making processes.  However, managers generally do not have this type of data for inholdings or neighboring lands that are outside their immediate jurisdiction.  **One method of obtaining this information is through the use of predictive models.**  \n",
    "\n",
    "> [The purpose of this dataset is for] predicting forest cover type from cartographic variables... The actual forest cover type for a given observation (30 x 30 meter cell) was determined from US Forest Service (USFS) Region 2 Resource Information System (RIS) data... Data is in raw form (not scaled) and contains binary (0 or 1) columns of data for qualitative independent variables (wilderness areas and soil types). \n",
    "\n",
    "We will not writing any code to do predictive analysis. We will just write code to perform some basic statistical analysis."
   ]
  },
  {
   "cell_type": "markdown",
   "id": "9b20b105-c76c-445b-95b5-4f251d6b4dda",
   "metadata": {},
   "source": [
    "## Project Tasks\n",
    "### <i class=\"fas fa-puzzle-piece\"></i> Step 1: Download the Data\n",
    "Go to the [Cover Type Dataset](https://archive.ics.uci.edu/ml/datasets/Covertype) web page and download the data. Click the link at the top that reads **Data Folder**.  On the resulting page you will find three files for download.  Please download the files named `covtype.data.gz`, and `convtype.info`. For the `convtype.data.gz` file, use your preferred decompression utility to uncompress the file.  The [7zip](https://www.7-zip.org/) program is a good option if you do not have a preferred tool.\n",
    "\n",
    "Move these files into the `project` folder of this Git repository. Do not rename the file, it should retain its original name `covtype.data.gz`\n"
   ]
  },
  {
   "cell_type": "markdown",
   "id": "b932e291-26c3-4e30-ba49-fa2b227e307c",
   "metadata": {},
   "source": [
    "\n",
    "### <i class=\"fas fa-puzzle-piece\"></i> Step 2: Explore the Data\n",
    "The `covtype.data.gz` is a comma-separated (CSV) data file. Before you can begin with this project, you must familarize yourself with the data.  Please read the `convtype.info` to learn the purpose of each column of data.  Use any text editor to view the file.\n",
    "\n",
    "Here are some hints to help explain some of the data columns:\n",
    "\n",
    "- Slope:  The angle in degrees of the slope on which the forest cover is growing.  \n",
    "- Aspect:  The direction the slope is facing in degrees azimuth:  North = 0, East = 90, South = 180, West = 270.\n",
    "- The columns representing shade contain values from 0 to 255 with 0 meaning no sun and 255 meaning full sun.\n",
    "- There are 40 columns representing differnet soil types.  See the `convtype.info` file for a listing of these types.  The observations in these 40 columns indicate if cover was: absent = 0, present = 1\n",
    "- There are 4 columns representing 4 different wilderness areas. The observations in these 4 columns indicate if cover was:  absent = 0, present = 1\n",
    "\n",
    "If the meaning of the data is not clear, reach out on the Slack workspace to ask for help and clarification."
   ]
  },
  {
   "cell_type": "markdown",
   "id": "8a0ac5d1-92e5-44a3-a3a4-ed15a31a5cc5",
   "metadata": {},
   "source": [
    "### <i class=\"fas fa-puzzle-piece\"></i> Step 3: Write a Script\n",
    "In the `project` folder of this repository, write a Python script. Name the script `project1.py`. The program will perform the following:\n",
    "\n",
    "1. Read the `covtype.data`\n",
    "2. Calculate the following statistics for the first 10 columns of the data file:\n",
    "   1. Maximum value\n",
    "   2. Minimum value\n",
    "   3. Average (Mean)\n",
    "3. Calculate the same set of statistics but for each of the seven wilderness areas. The wilderness areas are identified in columns 11-14 of the data file.\n",
    "4. Write a new file that contains a report of the statistics calculated."
   ]
  },
  {
   "cell_type": "markdown",
   "id": "aa758050-fd62-4042-8cbe-c96e3535f440",
   "metadata": {},
   "source": [
    "### Rules\n",
    "Your program **must** make use of the following:\n",
    "\n",
    "1. arguments passed via the command-line\n",
    "2. use of lists or dictionaries\n",
    "3. use of functions\n",
    "4. use of loops\n",
    "5. proper commenting\n",
    "\n",
    "Your program **must not**\n",
    "1. Use global variables (except the exceptions listed below)"
   ]
  },
  {
   "cell_type": "markdown",
   "id": "f536c797-105a-45d2-bb91-ffd766acd3f7",
   "metadata": {},
   "source": [
    "### Exceptions\n",
    "You will not be allowed to use global variables. However, there is always an exception to the rule. You can use the two following dictionaries as constants to help simplify your program.  But these dictionaries should never change.\n",
    "\n",
    "```python\n",
    "\n",
    "AREAS = {\n",
    "    0: 'All',\n",
    "    1: 'Rawah Wilderness Area',\n",
    "    2: 'Neota Wilderness Area',\n",
    "    3: 'Comanche Peak Wilderness Area',\n",
    "    4: 'Cache la Poudre Wilderness Area'\n",
    "}\n",
    "\n",
    "COLUMNS = {\n",
    "    0: 'Elevation',\n",
    "    1: 'Aspect',\n",
    "    2: 'Slope',\n",
    "    3: 'Horizontal_Distance_To_Hydrology',\n",
    "    4: 'Vertical_Distance_To_Hydrology',\n",
    "    5: 'Horizontal_Distance_To_Roadways',\n",
    "    6: 'Hillshade_9am',\n",
    "    7: 'Hillshade_Noon',\n",
    "    8: 'Hillshade_3pm',\n",
    "    9: 'Horizontal_Distance_To_Fire_Points'\n",
    "}\n",
    "```"
   ]
  },
  {
   "cell_type": "markdown",
   "id": "c26525e7-7bff-4aed-a2c6-aea2610aa5b2",
   "metadata": {},
   "source": [
    "## Collaboration\n",
    "You may work together in self-formed groups if you like. Group work is not required, but it may help save you time. As group you can:\n",
    "\n",
    "**Do**\n",
    "\n",
    "- Work together on an overall design for the program.\n",
    "- Help one another debug your scripts.\n",
    "- Code together simultaneously.\n",
    "- You may work together in person or by Zoom.\n",
    "\n",
    "**Do not**\n",
    "\n",
    "- Do not share code with each other such that group members cut-and-paste code. Each person should write the entire script themselves. You can look at each other's code but the author must type it all themselves. \n",
    "- Do not post project code on Slack. If you help each other with programming, only show code on your computer screen.\n"
   ]
  },
  {
   "cell_type": "markdown",
   "id": "31685603-b660-465c-b55f-7034168c9ebd",
   "metadata": {},
   "source": [
    "## Student Peer-Review\n",
    "Every student must review at least one other students script before turning it in.  You cannot get an **A** grade if you do not have someone else provide a peer-review.  The purpose for this is just a check to make sure your script works and to help you spot mistakes you may have missed.  "
   ]
  },
  {
   "cell_type": "markdown",
   "id": "1a8ce2f0-f684-41e1-ae99-cb664b2cfa6a",
   "metadata": {},
   "source": [
    "## Best Practices\n",
    "Try the following when working on the project.\n",
    "- Do not wait until the last week of the unit to start this project. \n",
    "  - You can start thinking about ideas after Assignment 6.\n",
    "  - You can start reading the file after Assignment 7\n",
    "  - Build the program as you go!\n",
    "- Do not be shy!  Ask questions, take advantage of other students, the instructor and Slack!\n",
    "- Check the evaulation checklist before turning in your script.\n",
    "- Be sure to leave your student peer-review a few days."
   ]
  },
  {
   "cell_type": "markdown",
   "id": "a9eabbce-792e-48ab-a8f9-7f16ac6d16e2",
   "metadata": {},
   "source": [
    "## Evaulation Checklist  (100 points possible)\n",
    "\n",
    "Credit is earned for your script if it meets the following criteria. \n",
    "\n",
    "1. The script runs properly (**45 points**):\n",
    "   1. Executes to completion without presenting an error (20 points). \n",
    "   2. Writes a correct output file (25 points).\n",
    "2. The script uses the following (**30 points**):\n",
    "   1. Receives the data file as a single command-line arguments (5 points). \n",
    "   2. Uses at least one for or while loop (5 points). \n",
    "   3. Uses an if statements (5 points). \n",
    "   4. Uses a list or dictionary (5 points).\n",
    "   5. The program does not use global variables (5 points).\n",
    "   6. Uses a `main()` function and at least one other function (5 points).\n",
    "3. The script follows Sphinx docstring style documentation (**15 points**):\n",
    "   1. The program has a header and the header indicates if the author worked in a group (5 points). \n",
    "   2. Each function has documentation for each parameter and its type is described (5 points). \n",
    "   3. Each declared variable has a comment (5 points).\n",
    "4. The program was reviewed by another student (**10 points**):"
   ]
  },
  {
   "cell_type": "markdown",
   "id": "e29c30ce-d6c1-466d-91ba-de57fb0c12a1",
   "metadata": {},
   "source": [
    "## Expected Outcomes\n",
    "\n",
    "You should know how to do the following in Python\n",
    "\n",
    "1. use variables including lists and dictionaries.\n",
    "2. get command-line arguments from the user.\n",
    "3. perform mathematics in code.\n",
    "4. use control statments using logic\n",
    "5. use functions.\n",
    "6. read and write files.\n",
    "7. make code readable through comments.\n"
   ]
  },
  {
   "cell_type": "markdown",
   "id": "d5b99265-8b8d-4470-92f9-6c79f0290e63",
   "metadata": {},
   "source": [
    "## What to Turn in?\n",
    "Because your program is in this repository you can **commit** and **push** your changes to GitHub.  Once completed, send a **Slack message** to the instructor indicating you have completed the project. The instructor will verify all work is completed. "
   ]
  }
 ],
 "metadata": {
  "kernelspec": {
   "display_name": "Python 3 (ipykernel)",
   "language": "python",
   "name": "python3"
  },
  "language_info": {
   "codemirror_mode": {
    "name": "ipython",
    "version": 3
   },
   "file_extension": ".py",
   "mimetype": "text/x-python",
   "name": "python",
   "nbconvert_exporter": "python",
   "pygments_lexer": "ipython3",
   "version": "3.9.13"
  }
 },
 "nbformat": 4,
 "nbformat_minor": 5
}
