{
 "cells": [
  {
   "cell_type": "markdown",
   "id": "1f8407f7-bd71-480d-89e6-6a39035f2bd6",
   "metadata": {},
   "source": [
    "# Day 4 Exercises: Python Basics"
   ]
  },
  {
   "cell_type": "markdown",
   "id": "427ab5d6-f0e6-4461-972d-187f5319af17",
   "metadata": {},
   "source": [
    "## Exercise #1: The String Object\n",
    "Strings are objects. We learned in [Assignment 6: Python Basics](A106-Pyhton-Basics.ipynb) that objects have functions. For example, we used the `format()` function to format a string prior to printing.  But, there are a variety of other functions. Take a look at the [Python documentation for string object functions](https://docs.python.org/3/library/stdtypes.html#string-methods). Take a moment to look through the list of functions.\n",
    "\n",
    "Pick 3 different string methods from the documentation and implement them using any string that you create.\n"
   ]
  },
  {
   "cell_type": "markdown",
   "id": "c070f511-0dde-45a4-8ed5-b43f5bc0375b",
   "metadata": {},
   "source": [
    "Enter code using the first string method:"
   ]
  },
  {
   "cell_type": "code",
   "execution_count": null,
   "id": "02861fbc-df28-4a5b-b342-897810b8cce7",
   "metadata": {},
   "outputs": [],
   "source": []
  },
  {
   "cell_type": "markdown",
   "id": "260be6e2-f582-4b76-b9c7-57fff18295ce",
   "metadata": {},
   "source": [
    "Enter code using the second string method:"
   ]
  },
  {
   "cell_type": "code",
   "execution_count": null,
   "id": "4ba9b641-b757-4c59-ac3c-8d8e06af43af",
   "metadata": {},
   "outputs": [],
   "source": []
  },
  {
   "cell_type": "markdown",
   "id": "2219d764-1a72-4ccb-8346-bef3c51d1332",
   "metadata": {},
   "source": [
    "Enter code using the third string method:"
   ]
  },
  {
   "cell_type": "code",
   "execution_count": null,
   "id": "2ceecbd8-1038-4e9e-a172-e22cc0d4dada",
   "metadata": {},
   "outputs": [],
   "source": []
  },
  {
   "cell_type": "markdown",
   "id": "5bc0813b-0afc-4a85-b99f-7d59cb1e5dac",
   "metadata": {},
   "source": [
    "## Exercise #2: Printing with Escape Characters\n",
    "Print a string that uses the following text  \n",
    "```\n",
    "I am 6'2\" \n",
    "```"
   ]
  },
  {
   "cell_type": "code",
   "execution_count": null,
   "id": "01b9f26c-0306-42e4-bb25-0612712ab845",
   "metadata": {},
   "outputs": [],
   "source": []
  },
  {
   "cell_type": "markdown",
   "id": "1520749b-d714-49ee-badf-a1241ce52b90",
   "metadata": {},
   "source": [
    "Create a single string that when printed will spread across three lines. Test it in the cell below."
   ]
  },
  {
   "cell_type": "code",
   "execution_count": null,
   "id": "dd075e9c-f961-45b6-8a56-5f5766b648a4",
   "metadata": {},
   "outputs": [],
   "source": []
  },
  {
   "cell_type": "markdown",
   "id": "4b2a43b8-fdac-46b8-a8d3-f7a46f794b5c",
   "metadata": {},
   "source": [
    "Create a string with tab-delimited numeric values and print it:"
   ]
  },
  {
   "cell_type": "code",
   "execution_count": null,
   "id": "d1bad278-2257-4139-a07f-09404695c339",
   "metadata": {},
   "outputs": [],
   "source": []
  },
  {
   "cell_type": "markdown",
   "id": "81320154-f2db-472c-92cf-e2b4393d0415",
   "metadata": {},
   "source": [
    "Tricky question: How could you wanted to print the print statement exactly as you used used in the previous cell? In other words, we don't want to run the print statement, we want to print what your code. Enter a solution below"
   ]
  },
  {
   "cell_type": "code",
   "execution_count": null,
   "id": "1da8634c-c890-4279-b594-71701e3d44b0",
   "metadata": {},
   "outputs": [],
   "source": []
  },
  {
   "cell_type": "markdown",
   "id": "bd47ca53-d952-406b-a376-ec483ffa0f5a",
   "metadata": {},
   "source": [
    "### Exercise #3: Program Arguments"
   ]
  },
  {
   "cell_type": "markdown",
   "id": "a9b33b1d-9dbb-4a7d-bfb5-5f999b9f4b1d",
   "metadata": {},
   "source": [
    "Create new Python file `day4.py`. Write a program in this new file that meets the following criteria:\n",
    "1. The proram must accept 3 command-line arguments:  age, height and weight.\n",
    "2. The arguments must be unpacked into variables.\n",
    "2. The program will print these values back to the user in a formatted string."
   ]
  }
 ],
 "metadata": {
  "kernelspec": {
   "display_name": "Python 3 (ipykernel)",
   "language": "python",
   "name": "python3"
  },
  "language_info": {
   "codemirror_mode": {
    "name": "ipython",
    "version": 3
   },
   "file_extension": ".py",
   "mimetype": "text/x-python",
   "name": "python",
   "nbconvert_exporter": "python",
   "pygments_lexer": "ipython3",
   "version": "3.9.13"
  }
 },
 "nbformat": 4,
 "nbformat_minor": 5
}
