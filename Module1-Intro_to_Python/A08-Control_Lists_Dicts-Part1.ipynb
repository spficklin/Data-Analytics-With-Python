{
 "cells": [
  {
   "cell_type": "markdown",
   "id": "5a22aa5e-7993-4f88-8740-f9e7930fc597",
   "metadata": {},
   "source": [
    "# Assignment 8:  Control, Lists & Dictionaries - Part 1"
   ]
  },
  {
   "cell_type": "markdown",
   "id": "80ed48ec-d6ea-45de-8c24-a472ebae1ccc",
   "metadata": {},
   "source": [
    "## Learning Objectives <a id=\"section-objectives\"></a>\n",
    "This lesson meets the following learning objectives:\n",
    "\n",
    "1. Program linear scripts in python.\n",
    "2. Program scripts that include functions, logic, and control statements\n",
    "\n",
    "\n",
    "You will meet these objectives by learning to write `if`  statements, `elif` statemetns, `for` loops, `while` loops `do while` loops, lists and dictionaries."
   ]
  },
  {
   "cell_type": "markdown",
   "id": "dd084862-62f6-44ac-993e-54c34779ed49",
   "metadata": {},
   "source": [
    "## Instructions <a id=\"section-instructions\"></a>\n",
    "Read through all of the text in this page. This assignment provides step-by-step training divided into numbered sections. The sections often contain embeded exectable code for demonstration.  Section headers with icons have special meanings: \n",
    "\n",
    "- <i class=\"fas fa-puzzle-piece\"></i> The puzzle icon indicates that the section provides a practice exercise that must be completed.  Follow the instructions for the exercise and do what it asks.  Exercises must be turned in for credit.\n",
    "- <i class=\"fa fa-cogs\"></i> The cogs icon indicates that the section provides a task to perform.  Follow the instructions to complete the task.  Tasks are not turned in for credit but must be completed to continue progress.\n",
    "\n",
    "Review the list of items in the **Expected Outcomes** section to check that you feel comfortable with the material you just learned. If you do not, then take some time to re-review that material again. If after re-review you are not comfortable, do not feel confident or do not understand the material, please ask questions on Slack to help.\n",
    "\n",
    "Follow the instructions in the **What to turn in** section to turn in the exercises of the assginment for course credit."
   ]
  },
  {
   "cell_type": "markdown",
   "id": "ee261639-09f6-46c6-9f62-ae2c922c2b85",
   "metadata": {},
   "source": [
    "## 1. Control Statements\n",
    "At the end of [Assignment 7 - File IO, Functions and Logic](A07-IO-Functions-Logic.ipynb) we learned about Logic statements.  These are lines of code expressing statements that are evaluated for truthfulness.   We learned the operators for comparing two values or variables and we learned the `and` and `or` truth operators.  We can use those logic statements to provide greater control and decision making in our programs.  Here will learn about several types of control statements that use logic to choose actions to perofrm. These include: \n",
    "- `if` statement\n",
    "- `if else` statements\n",
    "- `for` loops\n",
    "- `while` loops\n",
    "- `do while` loops"
   ]
  },
  {
   "cell_type": "markdown",
   "id": "68a44f28-ff79-45c0-ab96-0634b2eb8d1c",
   "metadata": {},
   "source": [
    "### 1.1. If Statements\n",
    "The `if` statement is used in programming to decide if a block of code should be executed.  The code will only be executed if a given **condition** evaluates to `True`.  Consider the following:\n",
    "\n",
    "```python\n",
    "if 100 > 10:\n",
    "    print('Hello World!')\n",
    "    \n",
    "print('Nice to meet you')\n",
    "```\n",
    "\n",
    "In the code above word `if` is a **reserved** word in python indicating an `if` statement is present.  The `if` word should be followed by a condition which is specified using one of the following ways:\n",
    "\n",
    "1. A single boolean value\n",
    "2. A comparison between two values or variables (uses a `==`, `>`, `<`, `!=`, etc.)\n",
    "3. A logic statement (includes an `and` or `or` operator)\n",
    "4. A combination of nested comparisons and logic statement.\n",
    "\n",
    "In the code above the condition, `100 > 10`,  is a comparison that evaulates to `True`.  Conditions will always evaulate to a single boolean value.  When writing an `if` statement, it must alwasy begin with the word  `if`, have a condition statement and end with a colon. On subsequent lines is the block of code to execute.  The block is identified by indentation. When indentation stops, the block of code under the `if` statement stops.  In the code above the block of code is a single line: `print(\"Hello World!\")`\n",
    "\n",
    "Lets look at an example of each one. Execute the following cells. First is an if statement using a single boolean value:"
   ]
  },
  {
   "cell_type": "code",
   "execution_count": null,
   "id": "93eb6b79-a833-498f-baa5-9d8c933b592d",
   "metadata": {},
   "outputs": [],
   "source": [
    "test_value = True\n",
    "if test_value:\n",
    "    print('Hello World!')\n",
    "    \n",
    "print('Nice to meet you')"
   ]
  },
  {
   "cell_type": "markdown",
   "id": "72747e5e-1791-4539-9ffc-8a5464b27e04",
   "metadata": {},
   "source": [
    "Next is a comparison:"
   ]
  },
  {
   "cell_type": "code",
   "execution_count": null,
   "id": "1420746d-51de-4833-90e4-0d757cd70488",
   "metadata": {},
   "outputs": [],
   "source": [
    "test_value1 = 100\n",
    "test_value2 = 10\n",
    "if test_value1 != test_value2:\n",
    "    print('Hello World!')\n",
    "    \n",
    "print('Nice to meet you')"
   ]
  },
  {
   "cell_type": "markdown",
   "id": "76e2bb1a-0580-41d7-b173-398c44996aef",
   "metadata": {},
   "source": [
    "The next two cells provide logic statements:"
   ]
  },
  {
   "cell_type": "code",
   "execution_count": null,
   "id": "cadc6855-5c88-4df0-b140-e1c9131dbced",
   "metadata": {},
   "outputs": [],
   "source": [
    "test_value1 = True\n",
    "test_value2 = False\n",
    "if test_value1 or test_value2:\n",
    "    print('Hello World!')\n",
    "    \n",
    "print('Nice to meet you')"
   ]
  },
  {
   "cell_type": "code",
   "execution_count": null,
   "id": "3f0f77c7-7f12-4681-b37e-4dfec68ea107",
   "metadata": {},
   "outputs": [],
   "source": [
    "test_value1 = True\n",
    "test_value2 = False\n",
    "if test_value1 and test_value2:\n",
    "    print('Hello World!')\n",
    "    \n",
    "print('Nice to meet you')"
   ]
  },
  {
   "cell_type": "markdown",
   "id": "358e62d1-ca03-4123-88f1-a7df3ad146a6",
   "metadata": {},
   "source": [
    "Next is a mixed combination of comparisons and logic:"
   ]
  },
  {
   "cell_type": "code",
   "execution_count": null,
   "id": "afa67b2e-a498-4c12-99f9-5536a3d7c99a",
   "metadata": {},
   "outputs": [],
   "source": [
    "test_value1 = True\n",
    "test_value2 = False\n",
    "if (10 < 100) and (2/3 > 1):\n",
    "    print('Hello World!')\n",
    "    \n",
    "print('Nice to meet you')"
   ]
  },
  {
   "cell_type": "markdown",
   "id": "d1774a12-5bb4-4694-8152-766bacbf953e",
   "metadata": {},
   "source": [
    "**Note**: When logic can comparisons are mixed, the operations in parentheses are performed first."
   ]
  },
  {
   "cell_type": "markdown",
   "id": "15e0373d-62a4-4a78-87d9-f2034613c623",
   "metadata": {},
   "source": [
    "### <i class=\"fas fa-puzzle-piece\"></i>1.1.1 Practice \n",
    "Write your own if statements below. Be as creative as you like but try each of the four cases just shown above: "
   ]
  },
  {
   "cell_type": "code",
   "execution_count": null,
   "id": "c3ba4f6a-617a-488e-a574-c94fc16946dc",
   "metadata": {},
   "outputs": [],
   "source": []
  },
  {
   "cell_type": "code",
   "execution_count": null,
   "id": "8e725aba-5a41-4442-b540-4b11c1d9cffa",
   "metadata": {},
   "outputs": [],
   "source": []
  },
  {
   "cell_type": "code",
   "execution_count": null,
   "id": "4aa78645-d36a-4f3d-86c5-e2ffe91616b9",
   "metadata": {},
   "outputs": [],
   "source": []
  },
  {
   "cell_type": "code",
   "execution_count": null,
   "id": "792b7f13-3628-4675-85e6-c50b3323d4be",
   "metadata": {},
   "outputs": [],
   "source": []
  },
  {
   "cell_type": "markdown",
   "id": "f5414095-6501-42de-b13f-00ec629e14b4",
   "metadata": {},
   "source": [
    "## 1.2. If/Else Statements"
   ]
  },
  {
   "cell_type": "markdown",
   "id": "9728f1d6-82a2-4f42-b103-ffe340793eeb",
   "metadata": {},
   "source": [
    "The `if` statement allow us to make decisions by executing a different block of code if a condition is `True`.  But what if the condition is `False`?  Maybe we want to run a different block if the condition is false?  We can do this with an `if/else` statement.  With an `if/else` statement we provie two different blocks of code: one for the `True` condition and one for the `False` condition. Consider the code in the following two cells.  Aside from the value of the variable named `friendly` the two statements are the same, but the output will change based on the condition."
   ]
  },
  {
   "cell_type": "code",
   "execution_count": null,
   "id": "17cdf44f-48d9-411f-8da1-2e266769a511",
   "metadata": {},
   "outputs": [],
   "source": [
    "friendly = True\n",
    "if friendly:\n",
    "    print(\"Hi there!\")\n",
    "    print(\"Do you want to play a game of chess?\")\n",
    "else:\n",
    "    print(\"Go away\")"
   ]
  },
  {
   "cell_type": "code",
   "execution_count": null,
   "id": "c2c8210b-0adc-4898-865f-89a288682a38",
   "metadata": {},
   "outputs": [],
   "source": [
    "friendly = False\n",
    "if friendly:\n",
    "    print(\"Hi there!\")\n",
    "    print(\"Do you want to play a game of chess?\")\n",
    "else:\n",
    "    print(\"Go away\")"
   ]
  },
  {
   "cell_type": "markdown",
   "id": "659bf5cf-b52e-4144-9cf2-f9bd23d439c6",
   "metadata": {},
   "source": [
    "In the `if/else` statement note the following:\n",
    "- The block of code for a `True` condition is placed below the `if` line and the block of code for a `False` condition is placed below the `else` line.\n",
    "- Both the `if` line and the `else` line end with a colon.\n",
    "- Both the `True` and `False` condition code blocks are indented."
   ]
  },
  {
   "cell_type": "markdown",
   "id": "176b8913-2208-482f-8f1e-8b33ded3e7d7",
   "metadata": {},
   "source": [
    "### <i class=\"fas fa-puzzle-piece\"></i>1.2.1 Practice "
   ]
  },
  {
   "cell_type": "markdown",
   "id": "8fcb097b-e1fc-4949-936a-8be2d3cbb785",
   "metadata": {},
   "source": [
    "Just like in Practice 1.1.1, write your own `if/else` statements below. Be as creative as you like but try each of the four conditional cases listed in Section 1.1."
   ]
  },
  {
   "cell_type": "code",
   "execution_count": null,
   "id": "044d4d67-bb66-4b8a-832f-636ac9de8f3d",
   "metadata": {},
   "outputs": [],
   "source": []
  },
  {
   "cell_type": "code",
   "execution_count": null,
   "id": "c0013e59-6ed2-4464-89ad-acf8112ad706",
   "metadata": {},
   "outputs": [],
   "source": []
  },
  {
   "cell_type": "code",
   "execution_count": null,
   "id": "4ae5d54d-a933-4701-a2c6-2896a530c421",
   "metadata": {},
   "outputs": [],
   "source": []
  },
  {
   "cell_type": "code",
   "execution_count": null,
   "id": "b2dda8d9-5f59-46c6-aaef-5c29247130be",
   "metadata": {},
   "outputs": [],
   "source": []
  },
  {
   "cell_type": "markdown",
   "id": "bd3cd245-c124-49f1-92a4-f1f51fb39c15",
   "metadata": {},
   "source": [
    "## 1.3. If/Elif Statements"
   ]
  },
  {
   "cell_type": "markdown",
   "id": "662b384b-e152-44e2-9df1-43d903a21d74",
   "metadata": {},
   "source": [
    "Suppose now that we have multiple conditions that could be `True` but we want to perform a different action for each?  Consider and run the following code:"
   ]
  },
  {
   "cell_type": "code",
   "execution_count": null,
   "id": "2fb8aa18-75b2-44fc-b0df-2d953b138d4f",
   "metadata": {},
   "outputs": [],
   "source": [
    "has2heads = False\n",
    "isJuggler = True\n",
    "if (has2heads) or (has2heads and isJuggler):\n",
    "    print(\"You can join the circus!\")\n",
    "elif (not has2heads) and isJuggler:\n",
    "    print(\"You might be able to join the circus!\")\n",
    "elif (not has2heads) and (not isJuggler):\n",
    "    print(\"You cannot join the circus. Try going to college instead.\")\n"
   ]
  },
  {
   "cell_type": "markdown",
   "id": "8f882db8-ea4f-4fa6-a4e2-9956beef1973",
   "metadata": {},
   "source": [
    "In the code cell above, try changing the boolean values of the two variables at the top of the code above and rerun. Do this multiple times to try different combinations. Make sure you understand why each line is printed.\n",
    "\n",
    "The code above is getting more complex. Here are some new items:\n",
    "- The code uses the `not` operater.  This reverses the boolean value of the variable (i.e, `True` becomes `False` and `False` becomes `True`.\n",
    "- We can use an `elif` as many times as we need to capture different `True` conditions.\n",
    "\n",
    "Notice that the choice of variable naming, the keywords `if` and `elif` and the operators `and`, `or` and `not` make this code quite readable despite the lack of comments.  Comments are important, but it is also important to choose variable names tha make your code readable even without comments.\n",
    "\n",
    "Also, you may have noticed a new way that variables have been written.  In these variables the names all use lowercase letters except when a second word is used in the variable name. The second (or perhaps even 3rd word) is capitalized. This type of variable naming is popular and is called **camel case**. \n",
    "\n",
    "Let's look at another `if/eleif` example.  Here we will use an `if/eleif` statement to choose which image of a dog breed to download and display in the Jupyter notebook.  You will see some new Python code for downloading and displaying images.  Do not try to understand the new code just yet. Just pay attention to the `if/elif` structure and observe what the code does. We will break down the code later. First, try running the following cell multiple times and change the `breed` variable each time. Try the following values:\n",
    "\n",
    "- Labrador\n",
    "- Pekingese\n",
    "- Beagle\n",
    "- Mastiff"
   ]
  },
  {
   "cell_type": "code",
   "execution_count": null,
   "id": "0d8d9ba4-871f-419a-af67-40388b6cd051",
   "metadata": {},
   "outputs": [],
   "source": [
    "import urllib.request\n",
    "from PIL import Image\n",
    "\n",
    "breed = 'Beagle'\n",
    "\n",
    "url = None\n",
    "if breed == 'Labrador':\n",
    "    url = 'https://www.akc.org/wp-content/uploads/2017/11/Labrador-Retrievers-three-colors.jpg'\n",
    "elif breed == 'Pekingese':\n",
    "    url = 'https://www.akc.org/wp-content/uploads/2017/11/Pekingese-standing-in-the-grass.jpg'\n",
    "elif breed == 'Beagle':\n",
    "    url = \"https://www.akc.org/wp-content/uploads/2017/11/Beagles-standing-in-a-frosty-field-on-a-cold-morning.jpg\"\n",
    "elif breed == \"Mastiff\":\n",
    "    url = 'https://www.akc.org/wp-content/uploads/2017/11/Mastiff-standing-outdoors.jpg'\n",
    "\n",
    "if not (url is None):\n",
    "    download_filename = 'breed_' + breed + '.jpg'\n",
    "    urllib.request.urlretrieve(url, download_filename)    \n",
    "    img = Image.open(download_filename)\n",
    "    display(img)\n",
    "    img.close()    \n",
    "else:\n",
    "    print(\"No picture for the breed, \\\"{}\\\".\".format(breed))\n"
   ]
  },
  {
   "cell_type": "markdown",
   "id": "3f877469-3268-4190-bc92-0b8db9a3e634",
   "metadata": {},
   "source": [
    "### 1.3.1 New Stuff: Imports, `None` and `is`\n",
    "In the code above you may have noticed a few new items.  First, we use two different ways to import objects into the program:\n",
    "\n",
    "```python\n",
    "import urllib.request\n",
    "from PIL import Image\n",
    "```\n",
    "\n",
    "What is the difference?  The first imports an entire **module** from a Python **library**. The second imports a specific **object** or **function** from a single **module**. Lets learn some Python vocabulary:\n",
    "\n",
    "- **module**: a Python file that contains objects and functions.  A module will have a name.  An example of a module we have already used is the `sys` module. We used that to import the `argv` object.  \n",
    "- **library**: a library is collection of Python modules. A library will have a name and each module that belongs to the library will have a name.\n",
    "\n",
    "In the code example above, `urllib` is a library that provides multiple modules for accessing content on the web.  We specifically asked to import the entire module `urllib.request`. Then in the code, we use the function `urlretrieve` from the `urllib.request` module:\n",
    "\n",
    "```python\n",
    "urllib.request.urlretrieve(url, download_filename)   \n",
    "```\n",
    "\n",
    "One other new item you may have noticed is the use of the word `None`.  This is a reserved word meaning the variable is not storing any object. This is a handy way to **initialize** a variable with nothing and only set it later if needed.  We use this in the `if` statement to ensure we have a URL for a picture before it is loaded. If we do not check to make sure the URL has a value then we make generate an error. We want to avoid that.\n",
    "\n",
    "```python\n",
    "if not (url is None):\n",
    "```\n",
    "In this `if` statement you will again see something new. The `is` operator.  When checking if a variable has a `None` value you can use the `is` operator. But why not just use the `==` operator to check for equality? The `is` operator doesn't check for equality of two values like `==` does.  Instead it checks if the variables are the same variable (i.e., they are the same location in memory). This works well when comparing to `None` but otherwise you should always use the `==` operator. We use `is` here because it makes the code more readable. \n"
   ]
  },
  {
   "cell_type": "markdown",
   "id": "b901785a-de99-4cb8-a3fe-5f1ff2d62ad5",
   "metadata": {},
   "source": [
    "### <i class=\"fa fa-cogs\"></i> 1.3.1 Q&A\n",
    "Respond to the following questions by providing an answer in the box below each one.  \n",
    "\n",
    "What is the `urllib` library and what is the `PIL` module? Do a web search to find out.\n",
    "\n",
    "```python\n",
    "import urllib.request\n",
    "from PIL import Image\n",
    "```"
   ]
  },
  {
   "cell_type": "raw",
   "id": "5c975915-4d6a-40ba-a462-1debf4f89439",
   "metadata": {},
   "source": []
  },
  {
   "cell_type": "markdown",
   "id": "01c585ad-24d8-4498-b646-29289dbf80e1",
   "metadata": {},
   "source": [
    "Explain what these lines do.  \n",
    "\n",
    "Some hints:\n",
    "\n",
    "- https://docs.python.org/3/library/urllib.request.html#urllib.request.urlretrieve\n",
    "- https://pillow.readthedocs.io/en/stable/reference/Image.html#PIL.Image.open\n",
    "\n",
    "```python\n",
    "download_filename = 'breed_' + breed + '.jpg'\n",
    "urllib.request.urlretrieve(url, download_filename)    \n",
    "img = Image.open(download_filename)\n",
    "display(img)\n",
    "img.close()    \n",
    "```"
   ]
  },
  {
   "cell_type": "raw",
   "id": "b896f780-157f-4a6f-a065-932313f29b4c",
   "metadata": {},
   "source": []
  },
  {
   "cell_type": "markdown",
   "id": "e4fc5a60-d15c-43d5-95c0-442251a4b1e6",
   "metadata": {},
   "source": [
    "Did you notice you have dog images in the directory now?"
   ]
  },
  {
   "cell_type": "markdown",
   "id": "fc8792a5-b20f-4bc8-854e-31907d787e4d",
   "metadata": {},
   "source": [
    "## Expected Outcomes <a id=\"section-outcomes\"></a>\n",
    "At this point, you should feel comfortable with the following:\n",
    "\n",
    "\n",
    "- Writing an `if` statement.\n",
    "- Writing an `elif` statement.\n",
    "\n"
   ]
  },
  {
   "cell_type": "markdown",
   "id": "ac96281a-4f2b-400c-907b-c7a408375d9f",
   "metadata": {},
   "source": [
    "## What to Turn in? <a id=\"section-turn_in\"></a>\n",
    "\n",
    "Perform the following with Git:\n",
    "\n",
    "1. Commit your changes to this notebook. \n",
    "3. Push your code to your remote repository.\n",
    "\n",
    "After you complete Part 2 of Assignmet 8, go to your online repository on GitHub and check that the changes you just pushed are present. If so, then send a message to the instructor indicating the assignment is turned in."
   ]
  }
 ],
 "metadata": {
  "kernelspec": {
   "display_name": "Python 3",
   "language": "python",
   "name": "python3"
  },
  "language_info": {
   "codemirror_mode": {
    "name": "ipython",
    "version": 3
   },
   "file_extension": ".py",
   "mimetype": "text/x-python",
   "name": "python",
   "nbconvert_exporter": "python",
   "pygments_lexer": "ipython3",
   "version": "3.8.8"
  }
 },
 "nbformat": 4,
 "nbformat_minor": 5
}
