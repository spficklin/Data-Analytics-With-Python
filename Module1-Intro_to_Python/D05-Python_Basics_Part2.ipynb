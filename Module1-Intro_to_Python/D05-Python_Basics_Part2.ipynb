{
 "cells": [
  {
   "cell_type": "markdown",
   "id": "fad151a1-607f-457b-a7cb-0d57cc4490d3",
   "metadata": {},
   "source": [
    "# Day 5 Exercises: Python Basics Part 2"
   ]
  },
  {
   "cell_type": "markdown",
   "id": "e148455c-ed3b-41f5-b6c3-ec8ed9a6583f",
   "metadata": {},
   "source": [
    "## Exercise #1:  Write a `cat` program\n",
    "Write a program that performs the `cat` command-line function.  Make sure it:\n",
    "1. Name it `cat.py`. \n",
    "2. It should receive only one command-line arguments: the file to print\n",
    "3. The program should print to the terminal the file contents."
   ]
  },
  {
   "cell_type": "markdown",
   "id": "3208c52e-90f8-429e-8dbe-c4a970003f9d",
   "metadata": {},
   "source": [
    "## Exercise #2:  Write a `cp` program\n",
    "Write a program that performs the same basic function as the `cp` command.  Make sure it:\n",
    "1. Name it `cp.py`. \n",
    "2. It should receive two command-line arguments: the source file and the destination file.\n",
    "3. The program should copy any plain text file (not encoded)"
   ]
  },
  {
   "cell_type": "markdown",
   "id": "ee3717db-f1b3-4861-9c7c-aa9fe447a848",
   "metadata": {},
   "source": [
    "## Exercise #3: What's wrong!\n",
    "\n",
    "Cut-and-paste the following code into a new python script and name it `day5_bad.py`.  \n",
    "\n",
    "```python\n",
    "from sys import argv\n",
    "from os.path import exists\n",
    "\n",
    "script, num1, num2, num2, num3, out_filename = argv\n",
    "\n",
    "file_exists = exsits(out_filename)\n",
    "print(\"Does the output file exist? {}\".format(file_exists))\n",
    "print(\"Writing output to {}\".format(out_filename))\n",
    "\n",
    "out_file = open(out_filename)\n",
    "outdata = out_file\n",
    "print(\"Waiting... Type the RETURN key to continue\")\n",
    "  input()\n",
    "      \n",
    "answer = (num1 + num2 + num2 + num3 + num4) / (len(argv) - 1)\n",
    "\n",
    "out_file.write(\"{:.2f}\\n\".format(answer))\n",
    "print(\"\\a\")\n",
    "out_file.close()\n",
    "\n",
    "```"
   ]
  },
  {
   "cell_type": "markdown",
   "id": "96fce37c-a827-4af3-ab7d-ba48d332f7a2",
   "metadata": {},
   "source": [
    "### Task #1\n",
    "Add comments to the code to explain what is happening. ***Hint***: some things in this program may be new.  You may have to do a bit of searching online to learn what some things do."
   ]
  },
  {
   "cell_type": "markdown",
   "id": "a1a48e64-78a7-4b52-aadf-6a9ef4cc1560",
   "metadata": {},
   "source": [
    "### Task #2\n",
    "Run the program with the following arguments:\n",
    "    \n",
    "```bash\n",
    "    python .\\day05_good.py 1 2 3 4 5 test.txt\n",
    "```\n",
    "It should fail.  Try to debug the script and fix it to make it work properly. When this script works correctly, it should write to the file named `test.txt` the value `3.00` (the average for the 5 numbers). \n",
    "\n",
    "**Note**: the result should have two values to the right of the decimal.\n",
    "**Hint**: Check out the `str.format()` Number formatting table here:  https://www.pythoncheatsheet.org/cheatsheet/string-formatting"
   ]
  }
 ],
 "metadata": {
  "kernelspec": {
   "display_name": "Python 3 (ipykernel)",
   "language": "python",
   "name": "python3"
  },
  "language_info": {
   "codemirror_mode": {
    "name": "ipython",
    "version": 3
   },
   "file_extension": ".py",
   "mimetype": "text/x-python",
   "name": "python",
   "nbconvert_exporter": "python",
   "pygments_lexer": "ipython3",
   "version": "3.9.13"
  }
 },
 "nbformat": 4,
 "nbformat_minor": 5
}
