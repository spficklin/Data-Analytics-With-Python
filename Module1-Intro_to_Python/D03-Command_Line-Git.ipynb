{
 "cells": [
  {
   "cell_type": "markdown",
   "id": "957c2b23-8f0c-43b5-b196-e809db22ac72",
   "metadata": {},
   "source": [
    "# Day 3 Exercises: The Command-line & Git"
   ]
  },
  {
   "cell_type": "markdown",
   "id": "cface133-4155-48b8-aa89-6f6b22f85caa",
   "metadata": {},
   "source": [
    "## Background"
   ]
  },
  {
   "cell_type": "markdown",
   "id": "69af23b6-e7ad-4b0c-afa9-fc999fc0a186",
   "metadata": {},
   "source": [
    "A hypothesis has been stated that within the genus *Iris* that the sepal and petal dimensions of the iris flowers can be used to distinguish between the different species. A dataset was collected where the length and width of three different iris flowers, *Iris virginica*, *Iris setosa*, and *Iris versicolor* were collected. Samples were collected from 50 different individuals for each species.\n",
    "\n",
    "<div>\n",
    "    <span style=\"float: left; padding-right: 10px\"><img src=\"./media/D03-Iris_versicolor.jpg\" style=\"width:200px\" /><br><a href=\"https://en.wikipedia.org/wiki/Iris_versicolor#/media/File:Blue_Flag,_Ottawa.jpg\"><i>Iris versicolor</i></a></span>\n",
    "    <span style=\"float: left;  padding-right: 10px\"><img src=\"./media/D03-Iris_virginica.jpg\" style=\"width:200px\" /><br><i><a href=\"https://en.wikipedia.org/wiki/Iris_virginica#/media/File:Iris_virginica_2.jpg\"><i>Iris virginica<i></a></span>\n",
    "    <span><img src=\"./media/D03-Iris_setosa.jpg\" style=\"width:200px\" /><br><a href=\"https://en.wikipedia.org/wiki/Iris_setosa#/media/File:Irissetosa1.jpg\"><i><i>Iris setosa</i></a></span>\n",
    "  <br><i>Image Source for all three flowers: Wikipedia</i?\n",
    "</div>\n",
    "       \n",
    "\n",
    "\n"
   ]
  },
  {
   "cell_type": "markdown",
   "id": "9f469002-efe8-4b89-9abc-a6e48996d545",
   "metadata": {},
   "source": [
    "The data is in a comma-separated format. The first few rows of data look like the following:"
   ]
  },
  {
   "cell_type": "raw",
   "id": "faec8ba9-f6ef-4742-b388-6e0d8c98b954",
   "metadata": {},
   "source": [
    "5.1,3.5,1.4,0.2,Iris-setosa\n",
    "4.9,3.0,1.4,0.2,Iris-setosa\n",
    "4.7,3.2,1.3,0.2,Iris-setosa\n",
    "4.6,3.1,1.5,0.2,Iris-setosa\n",
    "5.0,3.6,1.4,0.2,Iris-setosa\n",
    "5.4,3.9,1.7,0.4,Iris-setosa\n",
    "4.6,3.4,1.4,0.3,Iris-setosa\n",
    "5.0,3.4,1.5,0.2,Iris-setosa\n",
    "4.4,2.9,1.4,0.2,Iris-setosa\n",
    "4.9,3.1,1.5,0.1,Iris-setosa\n",
    "5.4,3.7,1.5,0.2,Iris-setosa\n",
    "4.8,3.4,1.6,0.2,Iris-setosa"
   ]
  },
  {
   "cell_type": "markdown",
   "id": "0484c8f8-25cf-4a61-821c-85c66b21515e",
   "metadata": {},
   "source": [
    "Each line (**row**), of the data represents a single measurment (**observation**). Commas separate the values (**column**). Each column of data has the following meaning:\n",
    "\n",
    "\n",
    "| Column # | Type | Description |\n",
    "| -------- | ---- | ----------- |\n",
    "| 1 | continuous | sepal length |\n",
    "| 2 | continuous | sepal width |\n",
    "| 3 | continuous | petal length |\n",
    "| 4 | continuous | petal width |\n",
    "| 5 | continuous | species (or \"class\") |\n",
    "\n",
    "The following image demonstrates how the dimensions of the sepal and petal are calculated.\n",
    "\n",
    "<span style=\"float: left; padding-right: 10px\"><img src=\"./media/D03-Iris_measures.png\" style=\"width:200px\" /><br><a href=\"https://machinemantra.in/supervised-learning-example-iris-dataset/\"><i>Image Source: Machine Mantra</i></a></span>"
   ]
  },
  {
   "cell_type": "markdown",
   "id": "c123134e-e6a6-40f5-991c-244718185f5d",
   "metadata": {},
   "source": [
    "### Data Source\n",
    "This data is a classic dataset often used for teaching data analytics. You will find it used frequently by many lessons and tutorials.  The data is derived from a paper published by Ronald Fisher in 1936 [more info](https://en.wikipedia.org/wiki/Iris_flower_data_set).  You can download a copy of the data [here](https://archive.ics.uci.edu/ml/datasets/iris)."
   ]
  },
  {
   "cell_type": "markdown",
   "id": "558d60a4-2e40-4170-abd0-048deaa759f5",
   "metadata": {},
   "source": [
    "## Your Task\n",
    "You have been tasked to develop a mathematical model to explore if there is evidence to support the above stated hypothesis.  You have decided to write a Python program to do this. You want to share the source code you develop with your collegues.  This will allow them to run the models on their own, to provide suggestions for improvement, or to provide fixes to the code if they encounter bugs.  \n",
    "\n",
    "**Note**: This scenario is just for practice to help reinforce learning.  "
   ]
  },
  {
   "cell_type": "markdown",
   "id": "dc9cb2b1-2715-42d4-884b-7c0c8d7c2025",
   "metadata": {},
   "source": [
    "## Exercise #1\n",
    "Perform the following:\n",
    "1. Create a new project directory in your home directory for this project. \n",
    "2. Initialize this folder as a new git repository.\n",
    "3. Within the project directory, create a new file named `README.md`. For now it should be empty. It is good practice to always have a README.md file in any new software project or analysis repository to help explain to others what the project is for.\n",
    "4. Within the project directory, create a new Python file named `iris_analysis.py`. For now it should also be empty, but this will be the file we will use to write the Python code.\n",
    "5. Within the project directory, create a subfolder named `data` where you will put the iris dataset.  Download the following files from the data source and place them in the new `data` folder.\n",
    "   1. `iris.data`\n",
    "   2. `iris.names`\n",
    "\n",
    "Enter all command-line commands you used in the terminal to complete the tasks above. ***Hint***: You can use the `history` command on the command-line to look at all of your recent command-line instructions."
   ]
  },
  {
   "cell_type": "raw",
   "id": "132ca410-4d7b-41a6-b7d7-e78dc44cb20b",
   "metadata": {},
   "source": []
  },
  {
   "cell_type": "markdown",
   "id": "251562ef-4787-44a1-99c6-e6d88442c9fd",
   "metadata": {},
   "source": [
    "Answer the following questions.\n",
    "\n",
    "**Q1.1** After you initialize the repository for Git, you will see a new `.git` directory. What is this for?"
   ]
  },
  {
   "cell_type": "raw",
   "id": "912ea9aa-295d-4cb2-ada2-a6ef11500a80",
   "metadata": {},
   "source": []
  },
  {
   "cell_type": "markdown",
   "id": "16623a02-2cc3-4795-b392-b24272405522",
   "metadata": {},
   "source": [
    "**Q1.2** What would happen if you deleted the `.git` directory?"
   ]
  },
  {
   "cell_type": "raw",
   "id": "c1b4cde7-2d49-43ab-97d9-e32268d6f9d9",
   "metadata": {},
   "source": []
  },
  {
   "cell_type": "markdown",
   "id": "1d9266be-a646-4fe2-be37-b03d2a7c3a01",
   "metadata": {},
   "source": [
    "**Q1.3** Type `git status` within the project repository. What does that tell you? Why is this command so important?"
   ]
  },
  {
   "cell_type": "raw",
   "id": "52e9716e-f499-4995-8242-bfee12156434",
   "metadata": {},
   "source": []
  },
  {
   "cell_type": "markdown",
   "id": "992c813e-3361-4c7f-bb0e-275626757fb9",
   "metadata": {},
   "source": [
    "**Q1.4** Go to your home directory.  Type the following `git status`.  You will get a message. What is the meaning of this message and why did you get it?"
   ]
  },
  {
   "cell_type": "raw",
   "id": "964248d5-5236-4273-9063-517493949ccf",
   "metadata": {},
   "source": []
  },
  {
   "cell_type": "markdown",
   "id": "fae41d8b-7f06-4002-812f-942c11a33369",
   "metadata": {},
   "source": [
    "**Q1.5** How can you make sure you are always in the correct location to use Git commands"
   ]
  },
  {
   "cell_type": "raw",
   "id": "e9eb5e61-51ed-429a-b16f-18e09d711892",
   "metadata": {},
   "source": []
  },
  {
   "cell_type": "markdown",
   "id": "bf07057a-f771-4268-8dad-4a82f53984a8",
   "metadata": {},
   "source": [
    "## Exercise #2\n",
    "Create a new project on GitHub. This will serve as the remote repository for the project. Next, link this new GitHub repository to your local git repository.\n",
    "\n",
    "***Note***: this is just a test project.  You can delete it after class if you do not want it to clutter your GitHub repository listing.\n",
    "\n",
    "Enter into the cell below the command you used to link the local repository and the remote GitHub repository"
   ]
  },
  {
   "cell_type": "raw",
   "id": "fdddb135-113e-4a87-8807-740fdd7b903f",
   "metadata": {},
   "source": []
  },
  {
   "cell_type": "markdown",
   "id": "a28684be-d6f4-486a-b33f-04779b7a33b5",
   "metadata": {},
   "source": [
    "Answer the following questions"
   ]
  },
  {
   "cell_type": "markdown",
   "id": "4528de51-117d-43e7-82ca-4eed326bf08b",
   "metadata": {},
   "source": [
    "**Q2.1** Why do we want both a local Git repository and a remote copy on GitHub?"
   ]
  },
  {
   "cell_type": "raw",
   "id": "21cc722a-3208-452e-8132-76e6dcceff48",
   "metadata": {},
   "source": []
  },
  {
   "cell_type": "markdown",
   "id": "cb2699d5-34b3-40c2-ba3a-ae42fc60ceea",
   "metadata": {},
   "source": [
    "**Q2.2**  Go into the `.git` directory and look around. You will see a `config` file. Look at the contents of that file. What do you think the purpose of thisf ile is?"
   ]
  },
  {
   "cell_type": "raw",
   "id": "e5069520-ff33-4265-bed2-aa9cc6359828",
   "metadata": {},
   "source": []
  },
  {
   "cell_type": "markdown",
   "id": "c7ea85c1-e4fa-4438-9493-ebcb18a6eff2",
   "metadata": {},
   "source": [
    "**Q2.3** Aside from one being local and the other remote, what is the difference between the Git repository on your local machine and the one that GitHub maintains?"
   ]
  },
  {
   "cell_type": "raw",
   "id": "08478c79-e5b4-40a4-a127-db2c22f6eff1",
   "metadata": {},
   "source": []
  },
  {
   "cell_type": "markdown",
   "id": "630648ac-361b-4e9c-9bd2-cc547a7bb0fe",
   "metadata": {},
   "source": [
    "## Exercise #3"
   ]
  },
  {
   "cell_type": "markdown",
   "id": "32fa6b78-5ac5-4d02-9dde-7f0089bba75f",
   "metadata": {},
   "source": [
    "You now have a new local Git repository and a remote Git repository (on GitHub) for tracking changes to your project, but you only initialized it.  It is not yet tracking files.  You have several files.  Make git track all of the files you currently have and make sure you can see those files locally and remotely. Enter the command-line commands you used to make this happen in the cell below\n"
   ]
  },
  {
   "cell_type": "raw",
   "id": "951a5c8f-69cc-4252-a034-be0ee565a8d0",
   "metadata": {},
   "source": []
  },
  {
   "cell_type": "markdown",
   "id": "fa62495f-8800-4acf-b13b-4d26f6685235",
   "metadata": {},
   "source": [
    "## Exercise #4"
   ]
  },
  {
   "cell_type": "markdown",
   "id": "2f2a591c-5d0d-480f-ad82-e8abaaef4fb9",
   "metadata": {},
   "source": [
    "Normally, a `README.md` file will contain information about the project.  You will notice that GitHub will automatically take the text from the `README.md` file and display its text on the front page of your repository.  For an example, take a look at the [Tripal software package on GitHub](https://github.com/tripal/tripal).  Look at the home page for the repository that GitHub shows, then click on the `README.md` file and compare. \n",
    "\n",
    "Notice that the `README.md` file has a `.md` extension.  This means the file will contain Markdown.  Its Markdown!  We can use the same markdown you used for Jupyter Notebooks in this file and GitHub will render it nicely for us!   Go back to the Tripal repository, click the `README.md` file, then click the <kdb>raw</kdb> button and take a look at it.\n",
    "\n",
    "In the `README.md` use your command-line knowledge to add a new first-level heading to the file.  It should give a title to your project.  Enter the command-line commands you used in the box below.  \n",
    "\n",
    "**Note:** it is not ideal to add text to a file via the command-line. Its best to use a text editor, but we do here only to practice."
   ]
  },
  {
   "cell_type": "raw",
   "id": "12087a71-5825-417a-9468-c132baf79791",
   "metadata": {},
   "source": []
  },
  {
   "cell_type": "markdown",
   "id": "5ae881b7-1b13-41f4-9431-d19d2931dc7e",
   "metadata": {},
   "source": [
    "## Exercise #5"
   ]
  },
  {
   "cell_type": "markdown",
   "id": "88d26bd3-358c-4920-a4ca-0c897559b82c",
   "metadata": {},
   "source": [
    "We have not yet learned any Python programming, so we do not yet know what we can put in the `iris_analysis.py` file, but you did learn some very basic math in [Assignment 1: Tour of JupyterLab](A01-JupyterLab.ipynb).  Edit the `iris_analysis.py` file using any text editor and put in some simple math, similar to what you did in that first assignment.\n",
    "\n",
    "Now, commit changes to the `iris_analysis.py` file, but do not commit the `README.md` file that you created in Exercise #4. Enter the command-line commands you used in the box below. "
   ]
  },
  {
   "cell_type": "raw",
   "id": "4d7eeda4-ff39-4058-a4c4-e09242413407",
   "metadata": {},
   "source": []
  },
  {
   "cell_type": "markdown",
   "id": "f7cb6e9e-5433-4617-838f-f2fcd268de63",
   "metadata": {},
   "source": [
    "Now answer the following questions"
   ]
  },
  {
   "cell_type": "markdown",
   "id": "74a58721-f2d6-41e8-9c8c-2da3ec0cf34f",
   "metadata": {},
   "source": [
    "**Q5.1** Type `git status`. What does it tell you about the state of your repository?"
   ]
  },
  {
   "cell_type": "raw",
   "id": "6b78beeb-e83a-4978-acbf-d4454d17c4b7",
   "metadata": {},
   "source": []
  },
  {
   "cell_type": "markdown",
   "id": "8bfe8e93-d066-4e32-8685-689e60a93694",
   "metadata": {},
   "source": [
    "**Q5.2** Type `git diff`. What does it tell you about the state of your repository?"
   ]
  },
  {
   "cell_type": "raw",
   "id": "bb819990-1e62-474d-b3d5-fcc4c8c1ae00",
   "metadata": {},
   "source": []
  },
  {
   "cell_type": "markdown",
   "id": "07fb9d8e-48d9-497e-bb84-c752990789c5",
   "metadata": {},
   "source": [
    "**Q5.3** How would you find the diff log of just the `README.md` or the `iris_analysis.py` file but not both?m"
   ]
  },
  {
   "cell_type": "raw",
   "id": "43ee20d4-8a59-40cd-b7fd-5db1133dd184",
   "metadata": {},
   "source": []
  },
  {
   "cell_type": "markdown",
   "id": "0c88e607-6b7f-4036-9ddd-da9462fe8f37",
   "metadata": {},
   "source": [
    "**Q5.4** If you go to GitHub and look at the remote repository for this project the changes to the `iris_analysis.py` file are not there. Why not? "
   ]
  },
  {
   "cell_type": "raw",
   "id": "f35002a1-f3e0-4721-b49f-e2c2023cd983",
   "metadata": {},
   "source": []
  },
  {
   "cell_type": "markdown",
   "id": "a339e716-a0de-42e5-bf8d-e4e981d6a60d",
   "metadata": {},
   "source": [
    "**Q5.5** How can you make changes to the `iris_analysis.py` file show up on the remote GitHub repository? Enter below how you can make this happen, then do it."
   ]
  },
  {
   "cell_type": "raw",
   "id": "751e4323-1bed-4702-8e74-dea7546ba9f6",
   "metadata": {},
   "source": []
  },
  {
   "cell_type": "markdown",
   "id": "67cfecf2-6e59-402b-a249-a568fae5d497",
   "metadata": {},
   "source": [
    "## Exercise #6\n",
    "Create a new directory in your home directory, name it `delete_me` or something that you will remember to delete later.  Clone the remote repository in this new directory. Enter the commands you used to do this:\n"
   ]
  },
  {
   "cell_type": "raw",
   "id": "400e4582-f53e-4f0a-abc3-179c3c5fb3b2",
   "metadata": {},
   "source": []
  },
  {
   "cell_type": "markdown",
   "id": "3ce5ac53-1617-4b78-8ad4-7b521d216148",
   "metadata": {},
   "source": [
    "Answer the following questions"
   ]
  },
  {
   "cell_type": "markdown",
   "id": "8947f8de-d61d-4861-b2ad-1ec7ff5761a7",
   "metadata": {},
   "source": [
    "**Q6.1** What did this clone do? Would you ever do this is real life?"
   ]
  },
  {
   "cell_type": "raw",
   "id": "312d995a-3d9c-483a-a8d2-fcf8bb8b7d86",
   "metadata": {},
   "source": []
  },
  {
   "cell_type": "markdown",
   "id": "5563a553-a48d-455e-ab51-5c054d732705",
   "metadata": {},
   "source": [
    "**Q6.2** Why does the `README.md` in the cloned copy not contain the changes you made to it?"
   ]
  },
  {
   "cell_type": "raw",
   "id": "7eb3f305-884b-4f26-9b57-10c7dc03533a",
   "metadata": {},
   "source": []
  },
  {
   "cell_type": "markdown",
   "id": "3d6e19a0-0f1e-4f7a-8101-b061810db37b",
   "metadata": {},
   "source": [
    "**Q6.3** What is the difference between doing a clone like we did, and if we created a copy of the repository using your computer's file browser?"
   ]
  },
  {
   "cell_type": "raw",
   "id": "da5a4f23-67cb-492d-9642-a8cb45f61c70",
   "metadata": {},
   "source": []
  },
  {
   "cell_type": "markdown",
   "id": "c7b9a85d-8fd8-4c59-ad82-8d9152a79c57",
   "metadata": {},
   "source": [
    "**Q6.4** How do you get the `README.md` updated to the most recent version in cloned copy?  Make it happen, and enter all the commands you used to make that happen in the cell below."
   ]
  },
  {
   "cell_type": "raw",
   "id": "5a5580da-58bc-45e4-9419-a9fdb81ecdbe",
   "metadata": {},
   "source": []
  },
  {
   "cell_type": "markdown",
   "id": "d113e212-1c02-441a-9dd2-338266564d0f",
   "metadata": {},
   "source": [
    "**Q6.5** Why did we clone the repository to make the copy. Why didn't we fork it instead?"
   ]
  },
  {
   "cell_type": "raw",
   "id": "1acf7ece-3aab-4738-9586-f39d743db70a",
   "metadata": {},
   "source": []
  },
  {
   "cell_type": "markdown",
   "id": "e168fc14-e1fe-4cb9-a3b0-15bf09afc622",
   "metadata": {},
   "source": [
    "**Q6.6** If we delete the cloned repository will that create any problems for us? If so how?"
   ]
  },
  {
   "cell_type": "raw",
   "id": "9b23c73d-5a95-4ab4-b182-a5625d8009a3",
   "metadata": {},
   "source": []
  },
  {
   "cell_type": "markdown",
   "id": "1405fa83-db43-445b-b495-ef8810bdaac4",
   "metadata": {},
   "source": [
    "## Exercise #7\n",
    "Lets explore what happens if we create a merge conflict.  Perform the following:\n",
    "1. Using your favorite text editor, edit the `README.md` file\n",
    "2. Cut-and-paste the text from the first-paragraph of this notebook and place it in the file under the header you added earlier.\n",
    "3. Save the file. \n",
    "4. Go to GitHub for you repository. Click the `README.md` text and click the pencil <i class=\"fa fa-pencil\"></i> icon to edit the file.  \n",
    "5. Add any text you want to the file\n",
    "6. Click the <kdb>Commit changes</kdb> button\n",
    "7. Pull the changes from the remote server\n",
    "\n",
    "Enter any command-line commands you ran in the box below:"
   ]
  },
  {
   "cell_type": "raw",
   "id": "a0010883-1412-4717-8212-051a25825684",
   "metadata": {},
   "source": []
  },
  {
   "cell_type": "markdown",
   "id": "08b8fc79-52f3-411e-85a2-3a3787673276",
   "metadata": {},
   "source": [
    "Answer the following questions"
   ]
  },
  {
   "cell_type": "markdown",
   "id": "e918013e-76a6-4c3b-bbe5-617198206e86",
   "metadata": {},
   "source": [
    "**Q7.1** What happended?"
   ]
  },
  {
   "cell_type": "raw",
   "id": "ab2fe699-03cf-42e6-b3ef-2d75163cf19c",
   "metadata": {},
   "source": []
  },
  {
   "cell_type": "markdown",
   "id": "23aef717-cf52-4a68-b124-d1f122c5146a",
   "metadata": {},
   "source": [
    "**Q7.2** Why did we get this conflict?"
   ]
  },
  {
   "cell_type": "raw",
   "id": "cccf28cc-fc0b-4afb-9f1a-fed4c4920555",
   "metadata": {},
   "source": []
  },
  {
   "cell_type": "markdown",
   "id": "53c53d10-9a5a-4faf-8faa-bc6076943f1b",
   "metadata": {},
   "source": [
    "**Q7.3** How can you avoid getting these types of conflicts when you do assignments and the unit project?"
   ]
  },
  {
   "cell_type": "raw",
   "id": "2257948d-1811-43e9-aa7d-02f6a73f8150",
   "metadata": {},
   "source": []
  },
  {
   "cell_type": "markdown",
   "id": "11d9e1a0-d87a-4358-b3a2-72ec71bba685",
   "metadata": {},
   "source": [
    "## Exercise 8\n",
    "We will work together to fix the merge conflict we created in the previous exercise."
   ]
  }
 ],
 "metadata": {
  "kernelspec": {
   "display_name": "Python 3 (ipykernel)",
   "language": "python",
   "name": "python3"
  },
  "language_info": {
   "codemirror_mode": {
    "name": "ipython",
    "version": 3
   },
   "file_extension": ".py",
   "mimetype": "text/x-python",
   "name": "python",
   "nbconvert_exporter": "python",
   "pygments_lexer": "ipython3",
   "version": "3.9.13"
  }
 },
 "nbformat": 4,
 "nbformat_minor": 5
}
