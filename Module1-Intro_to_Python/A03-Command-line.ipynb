{
 "cells": [
  {
   "cell_type": "markdown",
   "id": "ef0090ec-fa3a-48ca-b402-a2ad185fbfdf",
   "metadata": {},
   "source": [
    "# Assignment 3: The Command-line"
   ]
  },
  {
   "cell_type": "markdown",
   "id": "c7e97fd1-8795-4900-bebb-702e45fef8b9",
   "metadata": {},
   "source": [
    "## Learning Objectives\n",
    "This lesson meets the following learning objectives:\n",
    "\n",
    "- Learn to navigate tools that support computer programming for data analytics with Python\n",
    "\n",
    "You will meet these objectives by learning the basics of the command-line, including the terminal and shells. "
   ]
  },
  {
   "cell_type": "markdown",
   "id": "95580762-37b5-46dc-9e30-b78fcb19efcf",
   "metadata": {},
   "source": [
    "## Instructions\n",
    "Read through all of the text in this page.  Section headers with icons have special meanings:  \n",
    "\n",
    "- <i class=\"fas fa-puzzle-piece\"></i> The puzzle icon indicates that the section provides a practice exercise that must be completed.  Follow the instructions for the exercise and do what it asks.  Exercises must be turned in for credit.\n",
    "- <i class=\"fa fa-cogs\"></i> The cogs icon indicates that the section provides a task to perform.  Follow the instructions to complete the task.  Tasks are not turned in for credit but must be completed to continue progress.\n",
    "\n",
    "Review the list of items in the **Expected Outcomes** section to check that you feel comfortable with the material you just learned. If you do not, then take some time to re-review that material again. If after re-review you are not comfortable, do not feel confident or do not understand the material, please ask questions on Slack to help.\n",
    "\n",
    "Follow the instructions in the **What to turn in** section to turn in the exercises of the assginment for course credit."
   ]
  },
  {
   "cell_type": "markdown",
   "id": "a8cbdced-404f-42e7-af93-ea1cce30149a",
   "metadata": {},
   "source": [
    "## Background\n",
    "Often, we interact with desktop computers, such as a Windows or Mac computer, using a graphical desktop interface. We browse files using a point-and-click interface and interact with programs by clicking menus, links and buttons. However, prior to the modern graphical interface, people  interacted with computers using a text-based command-line.  You may have heard of MS-DOS or the UNIX shell. These both provide command-line, text-based interpreters that allow the user to interact with the underlying operating system. You can navigate through the file system using text-based commands and run programs and tools by typing their names and parameters.  \n",
    "\n",
    "Despite the convenience of graphical interfaces for computers, the command-line is still prevelant, especially in computer programming, scripting, data analytics and data science. There is a lot to learn about the command-line and we will learn just enough to learn programming"
   ]
  },
  {
   "cell_type": "markdown",
   "id": "fbfc03ec-2b2c-4119-9beb-dca8c05c2a7e",
   "metadata": {},
   "source": [
    "## <i class=\"fa fa-cogs\"></i> Download this Notebook\n",
    "This notebook contains formatting and interactive cells that will not work when viewing on GitHub. Before proceeding, perform the following:\n",
    "\n",
    "1. Download this notebook by right-clicking on the <kbd>Raw</kbd> button and select \"Save link as\". Save it in your home directory on your local computer. \n",
    "2. Open the Anaconda Navigator\n",
    "3. Launch JupyterLab\n",
    "4. Find this notebook on your machine via the JupyterLab file browser and open it.\n",
    "5. Continue in the local copy of this notebook there."
   ]
  },
  {
   "cell_type": "markdown",
   "id": "c0b5af3b-601c-44cb-8422-bdbae365addc",
   "metadata": {},
   "source": [
    "## The Terminal"
   ]
  },
  {
   "cell_type": "markdown",
   "id": "6e486c76-4031-4f69-b8e8-b665e230c734",
   "metadata": {},
   "source": [
    "The command-line is accessible via the \"terminal\".  The terminal is a text-based interface to the computer operating system.  \n",
    "\n",
    "### Command Prompt in Windows\n",
    "In Windows, you can get access to the terminal by opening the \"Windows Powershell\".  The following is a screenshot of the Windows powershell prompt\n",
    "\n",
    "<img src=\"./media/A03-Windows_powershell.png\"></img>\n"
   ]
  },
  {
   "cell_type": "markdown",
   "id": "1753856c-085c-460b-8124-c0f452f9715e",
   "metadata": {},
   "source": [
    "### Terminal in OS X\n",
    "In OS X, on Apple computers, you can find it in the `/Applications/Utilities` folder. Alternatively, open the \"Finder\" app, click `Go` in the menu and select `Applications`.  Scroll until you find the `Utilities` folder and there you will find the terminal app. A screenshot of the OS X terminal is shown below.\n",
    "\n"
   ]
  },
  {
   "cell_type": "markdown",
   "id": "1eba9c96-9432-46a1-808d-d2ffa281a637",
   "metadata": {},
   "source": [
    "### Terminal in Ubuntu\n",
    "Ubuntu is one of the most popular distributions of Linux. If you have ever explored Linux you have most likely heard of it. In fact, you can get a very slimmed down [Ubuntu interface for Windows](https://ubuntu.com/tutorials/install-ubuntu-on-wsl2-on-windows-10#1-overview)!. A screenshot of the Untunu terminal for windows is below:\n",
    "\n",
    "<img src=\"./media/A03-ubuntu-terminal.png\"></img>\n"
   ]
  },
  {
   "cell_type": "markdown",
   "id": "d243f2bd-aabb-427b-a84a-971f6ee44c6a",
   "metadata": {},
   "source": [
    "### Anaconda Prompt\n",
    "When you installed Anaconda, it came with its own terminal that is highly integrated with Anaconda and Python. This is the Anaconda Prompt. Unfortunatly, the Anaconda Prompt is not easily found in the Anaconda Navigator application. Instead, you can search for it in your programs.  A screenshot is not shown because by no you can see these terminals all look very similar.\n",
    "\n"
   ]
  },
  {
   "cell_type": "markdown",
   "id": "c8f96275-b5c5-4b75-8cd1-6bb0acdc12ee",
   "metadata": {},
   "source": [
    "### Jupyter Notebook Terminal\n",
    "To make life easy for us, Jupyter also proivides easy access to the terminal! It is accessible via your web browser.  The easiest way to get access to the command-line inside of a Jupyter Lab is via the menu by clicking `File` > `New` > `Terminal`. You should see a new tab open with a an active prompt:\n",
    "\n",
    "<img src=\"./media/A03-terminal.png\"></img>\n",
    "\n",
    "Juypyter will use the shell specific to your operating system. \n",
    "\n"
   ]
  },
  {
   "cell_type": "markdown",
   "id": "e37253b3-cecb-40c6-870f-85c851d526df",
   "metadata": {},
   "source": [
    "### Git BASH\n",
    "In the next lesson you will install git.  If you are working on a Windows computer it will install a new terminal named Git BASH.  It is specifically connected to the Git software. You will use this terminal when you want to interact with git.  If you are using Mac OS X or UNIX/Linux you will not interact with this terminal.\n",
    "\n"
   ]
  },
  {
   "cell_type": "markdown",
   "id": "e49e2b87-abb3-4cb0-b021-b07f7812a4ab",
   "metadata": {},
   "source": [
    "### What will we use?\n",
    "You are welcome to use any terminal you like in this course.  However, the easiest choice is to use the terminal provided by Jupyter.  The lessons that follow will instruct you to use this terminal.  The second best choice would be the Anaconda Prompt. Anaconda provides Python for us and because this terminal is so highly integrated with Anaconda it makes it easy for us to work with Python.  \n"
   ]
  },
  {
   "cell_type": "markdown",
   "id": "624b65f6-441b-4e8b-af8f-6e144b660431",
   "metadata": {},
   "source": [
    "## The Shell\n",
    "Once you have access to the terminal, you can begin typing **commands**.  But lets learn how this terminal works.  The terminal is a program that gives you text-based access to the operating system of your computer. The terminal, though, relies on another program called the **shell** to provide the interface.  The shell provides several things:\n",
    "\n",
    "1. Built-in commands to perform actions on the computer\n",
    "2. An **environment** in which your programs, scripts and tools will run\n",
    "3. A programming language of its own for more advanced management\n",
    "\n",
    "In early versions of Windows the shell was called MS-DOS. Now, the command-prompt and powershell are used. UNIX systems often come with multiple different shells and the user can choose which to use. One of the most popular is the [BASH shell](https://en.wikipedia.org/wiki/Bash_(Unix_shell)). The Apple OS X operating system is also UNIX-based and uses as its default the [Z shell (Zsh)](https://zsh.sourceforge.io/).  All of these shells tend to provide the same fundamental commands, which we will learn here. But, they become different the more advanced you get.\n",
    "\n",
    "The Jupyter terminal, which we will use for this course uses the default shell of the operating system you are using. So, on a Mac, you'll get Zsh, on Ubuntu you'll get BASH and on windows you'll get the Powershell.\n"
   ]
  },
  {
   "cell_type": "markdown",
   "id": "4f7e0f5f-70f0-4c09-810e-246150693cee",
   "metadata": {},
   "source": [
    "### The Command Prompt\n",
    "The first thing you will notice when you open the terminal is the command prompt.  Take a moment to open the Jupyter terminal (see instructions above).  You will see something like the following:\n",
    "\n",
    "```bash\n",
    "bob@Thor:~\\courses\\Data-Analytics-With-Python$ \n",
    "```\n",
    "\n",
    "In Windows you will see something like this:\n",
    "``` bash\n",
    "PS C:\\Users\\steph\\courses\\Data-Analytics-With-Python>\n",
    "```\n",
    "\n",
    "On OS X you would see something like:\n",
    "```zsh\n",
    "bob@Thor ~\\courses\\Data-Analytics-With-Python %\n",
    "```\n",
    "\n",
    "The first line shown is the command prompt.  On a UNIX system, it begins with something that looks like an email address. In the example above this is `bob@Thor`.  That is not an email address but identifies you and the computer you are on. The word `bob` is my username on the computer and the computer's name is `Thor`.  \n",
    "\n",
    "The next bit of text is the directory on the file system in which you are currently located. We will learn more about that later, but for now just remember that is the location in the file system where the shell is currently looking.\n",
    "\n",
    "Finally, the trailing dollar sign `$` means the end of the prompt and it is time for me, as the user, to start typing commands.   On the Windows prompt the `>` indicates \n",
    "that you can start typing commands and on OS X it is the `%` symbol.\n",
    "\n",
    "As quick example, type the following immediatly after the `$` prompt:\n",
    "\n",
    "```bash\n",
    "bob@Thor:~\\courses\\Data-Analytics-With-Python$ whoami\n",
    "```\n",
    "The `whoami` command simply askes the operating system who it thinks you are.  You should see a response similar to the following on a UNIX system but with your username instead: \n",
    "\n",
    "```bash\n",
    "bob@Thor:~\\courses\\Data-Analytics-With-Python$ whoami\n",
    "bob\n",
    "```\n",
    "On Windows you'll get something similiar to this:\n",
    "\n",
    "```bash\n",
    "PS C:\\Users\\bob> whoami\n",
    "Thor\\bob\n",
    "```\n",
    "\n",
    "<div class=\"alert alert-warning\">\n",
    "    <b>Note</b>: Depending on the type of computer you are using, you will may see variations in the exact responses returned. These lessons will not provide all possible variations of output, but the results should be as expected even if different.\n",
    "</div>\n",
    "\n",
    "The command prompts shown above should be typical of what you may see, but keep in mind that every shell is different and the institution that manages the computer you use may alter the way these command-prompts look.  \n",
    "\n",
    "From this point forward, anytime these lessons ask you to run a command they will simly state the command without the command-prompt. This way you can easily cut-and-paste if you want.\n",
    "\n",
    "#### <i class=\"fas fa-puzzle-piece\"></i> Practice\n",
    "Enter in the cell below what your terminal command-prompt shows."
   ]
  },
  {
   "cell_type": "raw",
   "id": "46861dfe-6ba9-4685-9693-6eef010ed8be",
   "metadata": {},
   "source": []
  },
  {
   "cell_type": "markdown",
   "id": "c8522a7f-8451-44e8-b427-f81f2d491221",
   "metadata": {
    "tags": []
   },
   "source": [
    "## The File System\n",
    "We just learned that the command-prompt tells us where we currently are in the file system. The file system is simply the files and folder on your computer.  On a Windows computer you use the file browser to explore files and you use the Finder tool on a Mac.  With the GUI it's easy to visualize this system via pictures of folder that you click on that have files and other folders inside of them.  However, when using the command-line you have to visualize in your own mind the files and folders. "
   ]
  },
  {
   "cell_type": "markdown",
   "id": "cbf48df0-51ba-4694-9ff6-9a526ecf221a",
   "metadata": {},
   "source": [
    "### The Root folder\n",
    "Every filesystem has a \"root\" folder, or the base folder.  On a UNIX system (including Linux and OSX) the root folder is represented by a `/` character.  In Windows, the root folder is per hard drive and usually begins with `C:\\` (or the C drive).  "
   ]
  },
  {
   "cell_type": "markdown",
   "id": "abb9fb10-51b0-4946-9d6d-4e88b7f3e311",
   "metadata": {},
   "source": [
    "### Your Home Directory\n",
    "On all computers you, the user, will have your own \"home\" directory.  This is where you have complete control to organize your files as you desire.  On UNIX/Linux computers your home directory is often found in the `/home` directoriy followed by a new directory with your username. If your username were \"bob\" then your official home directory would be `/home/bob`.  On a Mac the home directories are found in `/Users`, so your home would be `/Users/bob`. On Windows systems the home directory is in `C:\\Users`, so your home directory would be `C:\\Users\\bob`.\n",
    "\n",
    "<div class=\"alert alert-warning\">\n",
    "    <b>Note</b>: On the windows command-line notice that directories are separated by backward slashes, `\\`, and on UNIX and OS X they are forward slashes: `/`. \n",
    "</div>"
   ]
  },
  {
   "cell_type": "markdown",
   "id": "d16b66d0-01f8-4299-9a8e-09745610f240",
   "metadata": {},
   "source": [
    "### Working Directory\n",
    "The working directory is simply the location on the file system where your shell is currently at.  Remember, the command-prompt examples tell you where you currently are to help you remember. But there are commands that can help you if you forget where you currently are in the file system."
   ]
  },
  {
   "cell_type": "markdown",
   "id": "ce918dc4-4435-4ea2-aacd-63c1335602a7",
   "metadata": {},
   "source": [
    "### Paths\n",
    "The text we just used to state the location of the root and home directory, such as `C:\\Users\\bob` or `/home/bob` is referred to as the **path**.  You can specify the path to any file on the system if you know the sequence of folders in which it was found. Suppose I have a file named `info.txt` in my my home directory.  The full path to that file would be `/home/bob/info.txt`, on a UNIX file system, and `C:\\Users\\bob\\info.txt` on a Windows computer. \n",
    "\n",
    "### Path Shortcuts\n",
    "Notice that in some of the command prompt examples above you do not see the full path. For example, the command-prompt above shows this:\n",
    "\n",
    "```bash\n",
    "bob@Thor:~\\courses\\Data-Analytics-With-Python$ \n",
    "```\n",
    "Notice the tilda character, `~`?  What does that mean?  The command-line can get a bit tedious especially if you have to type the entire path anytime you want to navigate the file system.  Instead there are some short-cuts you can use to represent paths. These short cuts are described in the following table:\n",
    "\n",
    "| Shortcut | Meaning |\n",
    "| -------- | ------- |\n",
    "| **~** | The tilda, `~`, character is a shortcut meaning your home directory.  If your home directory is `/home/bob` then a path of `~/courses` can be rewritten as `/home/bob/courses`. |\n",
    "| **.** | The single period, `.`, is a shortcut meaning your current working directory.  You can create a file or directory path using this as your starting point rather than root, `/`, as the starting point.  If you are currently in your home directory and there is a \"courses\" subdirectory, you can refer to it with `./courses`. This can be rewritten as `/home/bob/courses`. |\n",
    "| **..** | The double period, `..`, is a shortcut meaning one directory above the current working directory.  If you are in your home directory and you would like to visit the home directory of another user with the username `sally` you can refer to it with `../sally`. This can be rewritten as `/home/sally`.\n",
    "\n",
    "The `.` and `..` shortcuts form paths knows as **relative paths**.  These are called relative paths because they are relative to the current directory.  Paths that begin at the root `/` are known as **absolute paths**."
   ]
  },
  {
   "cell_type": "markdown",
   "id": "8f74650f-1f25-4047-a031-4666a796bc54",
   "metadata": {},
   "source": [
    "## Important Commands\n",
    "Now we will learn some of the most important command-line commands, including those used to navigate the file system. The table below lists the commands we will learn and states their purpose:\n",
    "\n",
    "| Command   | Purpose |\n",
    "| --------- | --------|\n",
    "| **pwd**   | Print the name of the current working directory |\n",
    "| **ls**    | List the files and folders |\n",
    "| **cd**    | Change the current working directory |\n",
    "| **mkdir** | Creates a new empty directory |\n",
    "| **rmdir** | Remove an empty directory |\n",
    "| **touch** or **ni** | Creates a new empty file |\n",
    "| **rm**    | Removes files and folders | \n",
    "| **mv**    | Move or rename a file |\n",
    "| **echo**  | Prints a message to the terminal |\n",
    "| **cp**    | Copy a file |\n",
    "| **cat**   | Print the contents of a file to the terminal screen |\n",
    "| **tree**  | Prints a text-based visualization of a directory structure |\n",
    "\n",
    "\n",
    "\n",
    "Below we will provide a brief introduction to each of these commands and some practice examples to demonstrate their usage.  "
   ]
  },
  {
   "cell_type": "markdown",
   "id": "59a8c3cd-8c26-4c20-9919-97696c394b90",
   "metadata": {},
   "source": [
    "### The `pwd` command\n",
    "The `pwd` command is used to print the currnet working directory.  The command-prompt is helpful if it tells you your current working directory, but sometimes, depending on the shell, it does not.  This useful command will give you the full path to your current location in the file system.\n",
    "\n",
    "#### <i class=\"fas fa-puzzle-piece\"></i> Practice\n",
    "In the terminal, run this command. \n",
    "```bash\n",
    "pwd\n",
    "```\n",
    "Enter in the cell below the results from running that command:"
   ]
  },
  {
   "cell_type": "raw",
   "id": "0ad3c012-01f6-4882-8b81-a6dac2bb8783",
   "metadata": {},
   "source": []
  },
  {
   "cell_type": "markdown",
   "id": "46167240-0136-45e6-9246-d25c8ca06f27",
   "metadata": {},
   "source": [
    "### The `ls` command\n",
    "The `ls` command prints a current listing of all files and folders in the directory. \n",
    "\n",
    "#### <i class=\"fas fa-puzzle-piece\"></i> Practice\n",
    "In the terminal, try running this command:\n",
    "```bash\n",
    "ls\n",
    "```\n",
    "You should see the files in your current working directory.  Enter in the cell below the results from running that command:"
   ]
  },
  {
   "cell_type": "raw",
   "id": "62b369ab-2d4a-4b09-b26c-586047ad9aa6",
   "metadata": {},
   "source": []
  },
  {
   "cell_type": "markdown",
   "id": "e6b23bde-8b90-4a78-90bc-7eb6d4920cf9",
   "metadata": {},
   "source": [
    "\n",
    "#### More Information in OS X, Unix/Linux\n",
    "In Windows you will see information about each file, including the date it was created, the size and the Name. In Unix/Linux and OS X the `ls` command will only give you the names of files. You can, however, get more information by providing the `-l` flag to the `ls` command.   The `-l` flag tells the `ls` command to give the \"long\" listing. Windows, however is a bit different.  The `ls -l` command does not work.  instead of `-L` you you would provide `-Force`.  \n",
    "\n",
    "For example, if you run the `ls -l` in OS X or Unix/Linxu you will see something similar:\n",
    "\n",
    "In UNIX:\n",
    "```bash\n",
    "-rw-r--r-- 1 bob bob 11357 Feb 17  2020 LICENSE\n",
    "drwxrwxr-x 6 bob bob  4096 Dec 29 22:31 Module1-Intro_to_Python\n",
    "drwxrwxr-x 6 bob bob  4096 Dec 28 01:14 Module2-Data_Analytics\n",
    "-rw-r--r-- 1 bob bob   624 Mar 10  2020 README.md\n",
    "-rw-rw-r-- 1 bob bob    40 May 15  2022 requirements.txt\n",
    "```\n",
    "You can easily see the owner of the file (e.g. \"bob\"), the date the file was last touched and the name of the file or directory.  The first column (e.g. `-rw-r--r--`) gives file permission information.  Often, UNIX computers are shared systems, meaning lots of users connect remotely to use the command-line! You can protect files by setting and managing file permissions. We will not need to learn about file permissions now. But if interested, you can learn more about them [here](https://www.tutorialspoint.com/unix/unix-file-permission.htm).\n",
    "\n",
    "\n",
    "#### <i class=\"fas fa-puzzle-piece\"></i> Practice\n",
    "If you are using OS X or Unix/Linxu, in the terminal, try running this command:\n",
    "\n",
    "```bash\n",
    "ls -l\n",
    "```\n",
    "Enter in the cell below the results from running that command:"
   ]
  },
  {
   "cell_type": "raw",
   "id": "aba71a47-a26d-4e53-94e7-dadd989aa52c",
   "metadata": {},
   "source": []
  },
  {
   "cell_type": "markdown",
   "id": "dd9829ea-96e8-4a55-a61f-2cba0bed7541",
   "metadata": {},
   "source": [
    "#### Hidden Files and Folders\n",
    "Most operating systems use hidden files. These are files or directories that do not appear to you when you use view files in the default file browser.  On UNIX/Linux and OS X these files and directories have a period, `.` as a file prefix. On windows they have a special setting.  To see hidden files on the command-line you should use the following arguments to the `ls` command.\n",
    "\n",
    "#### <i class=\"fas fa-puzzle-piece\"></i> Practice\n",
    "Run the following in your terminal:\n",
    "\n",
    "If on Windows Powershell run this:\n",
    "```bash\n",
    "ls -Force\n",
    "```\n",
    "\n",
    "If on OS X or UNIX/Linux run this:\n",
    "```bash\n",
    "ls -a\n",
    "```\n",
    "\n",
    "Enter in the cell below the results from running that command:"
   ]
  },
  {
   "cell_type": "raw",
   "id": "406dbaa2-0bae-446c-8b1a-fded64912260",
   "metadata": {},
   "source": []
  },
  {
   "cell_type": "markdown",
   "id": "c486113d-cf58-4fac-a8c2-f1402a6fa32d",
   "metadata": {},
   "source": [
    "#### Hidden Files in Your Home Directory\n",
    "\n",
    "Most operating systems keep some hidden files/directories in your home directory.  For example, in Windows the `AppData` folder is hidden in your home directory. You can view hidden folders by adding another flag to the `ls` command.  For windows, add the `-Force` flag to view the directory contents. In OS X or Unix/Linux add the `-a` flag.  In Windows the only way to spot a hidden file is if it shows up after adding the `-Force` flag to the `ls` command. In OS X and UNIX/Linux the hidden files will alwasy have a `.` prefix.  \n",
    "\n",
    "#### <i class=\"fas fa-puzzle-piece\"></i> Practice\n",
    "\n",
    "If on Windows powershell run the following:\n",
    "\n",
    "```bash\n",
    "ls -Force ~\n",
    "```\n",
    "\n",
    "If on OS X or Unix/Linux run the following:\n",
    "\n",
    "```bash\n",
    "ls -a ~\n",
    "```\n",
    "Enter in the cell below the results from running that command:"
   ]
  },
  {
   "cell_type": "raw",
   "id": "85b5c234-c9d7-42e0-847e-70be55f31ac0",
   "metadata": {},
   "source": []
  },
  {
   "cell_type": "markdown",
   "id": "4f54f72e-dd84-4fa9-b09b-49e85d251b1c",
   "metadata": {},
   "source": [
    "In the cell below, enter the names of the hidden files can you find in your home directory."
   ]
  },
  {
   "cell_type": "raw",
   "id": "850d52a0-35e0-406b-8fc5-ab79bd79ef33",
   "metadata": {},
   "source": []
  },
  {
   "cell_type": "markdown",
   "id": "6bc591a6-0b40-497b-81b6-83b879165d88",
   "metadata": {},
   "source": [
    "#### Recursive Listing\n",
    "The `ls` commands above only show you the files in the current working directory, but if you wanted to see all files and subfolders you can request a **recursive** listing.  In Windows you add the `-Recurse` flag to the `ls` command. In OS X or UNIX/Linux you add the `-R` flag.\n",
    "\n",
    "#### <i class=\"fas fa-puzzle-piece\"></i> Practice\n",
    "Run the following in your home directory:\n",
    "\n",
    "If on Windows Powershell run:\n",
    "\n",
    "```bash\n",
    "ls -Recurse ~/\n",
    "```\n",
    "\n",
    "If on OS X or UNIX/Linux run:\n",
    "```bash\n",
    "ls -R\n",
    "```\n",
    "\n",
    "Note: if that command takes too long (because you have lots of files) you can terminate the command with a <kbd>CTRL</kbd> + <kbd>x</kbd> command. \n",
    "\n",
    "The output of the command above is probably very large and may have private file names you don't want to list here, instead, type in the cell below a description of what output is provided by this recursive listing."
   ]
  },
  {
   "cell_type": "markdown",
   "id": "24151b08-7972-47e4-a176-0c51a5a4dfa0",
   "metadata": {},
   "source": [
    "### The `mkdir` command\n",
    "the `mkdir` command is used to create or \"make\" a new directory (or folder).  You can create a new folder by adding the name of the new folder after the word `mkdir`. For example:\n",
    "\n",
    "```bash\n",
    "mkdir temp\n",
    "```\n",
    "\n",
    "If the directory is successfully created you will see the following in Windows:\n",
    "\n",
    "```bash\n",
    "PS C:\\Users\\bob\\courses> mkdir ~/temp\n",
    "\n",
    "\n",
    "    Directory: C:\\Users\\bob\n",
    "\n",
    "\n",
    "Mode                 LastWriteTime         Length Name\n",
    "----                 -------------         ------ ----\n",
    "d-----        12/30/2022   3:00 PM                temp\n",
    "\n",
    "```\n",
    "\n",
    "On UNIX/Linux or OS X the command-line returns nothing. You must check that the directory exists with the `ls` command if you want to verify it.\n",
    "\n",
    "What if the directory already exists?  If so, you may receive the following type of error message on Windows:\n",
    "\n",
    "```\n",
    "mkdir : An item with the specified name C:\\Users\\bob\\temp already exists.\n",
    "At line:1 char:1\n",
    "+ mkdir -p temp\n",
    "+ ~~~~~~~~~~~~~~~~\n",
    "    + CategoryInfo          : ResourceExists: (C:\\Users\\bob\\courses:String) [New \n",
    "   -Item], IOException\n",
    "    + FullyQualifiedErrorId : DirectoryExist,Microsoft.PowerShell.Commands.NewItem \n",
    "   Command\n",
    "```\n",
    "\n",
    "And the following on UNIX/Linux and OS X:\n",
    "```\n",
    "mkdir: cannot create directory ‘temp’: File exists\n",
    "```\n",
    "\n",
    "#### <i class=\"fas fa-puzzle-piece\"></i> Practice\n",
    "\n",
    "Lets create a new `lesson2_exercises` folder in your home directory. We will use this for the following practice examples. You can create this new folder by entering the following text after the command-prompt:\n",
    "\n",
    "```bash\n",
    "mkdir ~/lesson2_exercises\n",
    "```\n",
    "Now run the `ls` command to ensure the folder was created:\n",
    "\n",
    "```bash\n",
    "ls ~\n",
    "```\n",
    "\n",
    "Enter \"Yes\" in the cell below if you see the `lesson2_exercises` folder in your home directory. Do not continue until you see it there."
   ]
  },
  {
   "cell_type": "raw",
   "id": "34d87273-1369-4947-bc3a-dbeeca4e6834",
   "metadata": {},
   "source": []
  },
  {
   "cell_type": "markdown",
   "id": "a62d07c9-0af5-481e-8dba-16997fcbe3c7",
   "metadata": {
    "tags": []
   },
   "source": [
    "### The `cd` command\n",
    "The `cd` command is used to change to a different working directory.  As we know, when the terminal first opens your working directory is usually your home directory.  In the `mkdir` example above we created a new folder named `courses`.  We can use the `cd` command change our working directory to this new directory.  For example, if your username were `bob` you could change to the new `courses` directory we just made in the previous practice section using the following.\n",
    "\n",
    "On Windows:\n",
    "\n",
    "```bash\n",
    "cd C:\\Users\\bob\\lesson2_exercises\n",
    "```\n",
    "\n",
    "On UNIX/Linux:\n",
    "\n",
    "```bash\n",
    "cd /home/bob/lesson2_exercises\n",
    "```\n",
    "\n",
    "On OS X:\n",
    "```bash\n",
    "cd /Users/bob/lesson2_exercises\n",
    "```\n",
    "\n",
    "Note that all three operating systems use a different command.  This is because they all use diffrent paths for where home directories are stored. However, remember we learned some path shortcuts! Instead of typing the entire absolute path, we can use a relative path.\n",
    "\n",
    "\n",
    "This one only works if the `lesson2_exercises` directory is inside our current working directory:\n",
    "\n",
    "```bash\n",
    "cd ./lesson2_exercises\n",
    "```\n",
    "\n",
    "This one works from anywhere and assumes the `lesson2_exercises` folder is inside of our home directory:\n",
    "```bash\n",
    "cd ~/lesson2_exercises\n",
    "```\n",
    "\n",
    "<div class=\"alert alert-warning\">\n",
    "    <b>Note</b>: Remember, on the windows command-line the directories are separated by backward slashes, `\\` but here we used forward slashes. The Windows Powershell allows you to use either but officially Windows uses the backslash.\n",
    "</div>\n",
    "\n",
    "We can also do some crazy relative paths like the following:\n",
    "```bash\n",
    "cd ../../home/bob/lesson2_exercises\n",
    "```\n",
    "In the example above, the first `..` takes us up one level to the `home` directory and the second `..` takes us up another level to the root `/` directory. Then the `home/bob` of the path takes us back to our home directory.  You do not often see relative paths like this but it shows how those shortcuts can be used.\n",
    "\n",
    "In your terminal experimenting with the `cd` command using both absolute and relative paths as well as the home directory shortcut, `~`.  Use the `ls` and `cd` commands to explore the file system on the command-line.\n",
    "\n",
    "#### <i class=\"fas fa-puzzle-piece\"></i> Practice\n",
    "Use whatever command you would like to change your working directory to the newly created `lesson2_exercises` directory.  Enter the command you used in the cell below."
   ]
  },
  {
   "cell_type": "raw",
   "id": "c6220013-c671-43e8-a5c0-5bd8b0dc5f97",
   "metadata": {},
   "source": []
  },
  {
   "cell_type": "markdown",
   "id": "57c3d476-2937-4127-ae52-f8754bb59f6d",
   "metadata": {},
   "source": [
    "### The `rmdir` command\n",
    "The `rmdir` command is used to delete or \"remove\" a directory.  As a safeguard, it requires that directory be empty before it can be removed. This way you do not accidentally delete a directory with contents.  To remove a directory you provide the path to the directory after typing the `rmdir` command.  \n",
    "\n",
    "#### <i class=\"fas fa-puzzle-piece\"></i> Practice\n",
    "In your terminal, let's create a new temporary folder named `temp` inside of the `lesson2_exercises` directory:\n",
    "\n",
    "```bash\n",
    "mkdir ~/lesson2_exercises/temp\n",
    "```\n",
    "Verify the directory is there with the `ls` command. Because we created the `temp` folder in our home directory we can use the `~`. \n",
    "\n",
    "```bash\n",
    "ls ~/lesson2_exercises\n",
    "```\n",
    "Next, remove the directory\n",
    "\n",
    "```bash\n",
    "rmdir ~/lesson2_exercises/temp\n",
    "```\n",
    "Now, use `ls` again to verify that the folder is removed\n",
    "\n",
    "```bash\n",
    "ls ~/lesson2_exercises\n",
    "```\n",
    "In the cell below, enter the results of the first `ls ~/lesson2_exercises` command to show that the directory was created"
   ]
  },
  {
   "cell_type": "raw",
   "id": "c3992dc3-5691-4363-bdc7-93690c2b8fc7",
   "metadata": {},
   "source": []
  },
  {
   "cell_type": "markdown",
   "id": "6943cde7-4a2a-4d8f-a76f-17b39732e691",
   "metadata": {},
   "source": [
    "In the cell below enter the results of the second `ls ~` command to show that the directory was removed"
   ]
  },
  {
   "cell_type": "raw",
   "id": "66689642-101b-46cc-96b6-8ad18f64a24e",
   "metadata": {},
   "source": []
  },
  {
   "cell_type": "markdown",
   "id": "dcf6b02c-9119-455e-95ae-ed58c7b187c2",
   "metadata": {},
   "source": [
    "### The `touch` and `ni` commands\n",
    "The `touch` command is used to create a new empty file. Most likely it is not a command you will use often but it is shown here to help make it easier to learn some of the other tools.  In Windows the `touch` command does not work. This command works on Unix/Linux and OS X but is not found in the Windows Powershell. Instead you can create a new file using the `ni` command (for new item).  \n",
    "\n",
    "\n",
    "#### <i class=\"fas fa-puzzle-piece\"></i> Practice\n",
    "Create a new file named `temp_file.txt` in your home directory.\n",
    "\n",
    "If on OS X or Unix/Linux run the following:\n",
    "\n",
    "```bash\n",
    "touch ~/lesson2_exercises/temp_file.txt\n",
    "```\n",
    "\n",
    "If on the Windows Powershell run the following:\n",
    "\n",
    "```bash\n",
    "ni ~/lesson2_exercises/temp_file.txt\n",
    "```\n",
    "\n",
    "Note: If you do not provide a path (either absolute or relative) then it will create he file in the current working directory. \n",
    "\n",
    "Run the `ls` command to verify that the file was created. Enter the `ls` command you used and the output from it in the cell below:"
   ]
  },
  {
   "cell_type": "raw",
   "id": "013aa293-ce6b-4417-a3e9-e3a5c0b1b8f6",
   "metadata": {},
   "source": []
  },
  {
   "cell_type": "markdown",
   "id": "e87798c9-bdff-4dc6-9cbb-c4d45a9c2a52",
   "metadata": {},
   "source": [
    "### The `rm` command\n",
    "The `rm` command is used to remove a file.  As with the previous command you can simply give it an absolute path, a relative path or the name of the file in the current working directory.  \n",
    "\n",
    "#### <i class=\"fas fa-puzzle-piece\"></i> Practice\n",
    "\n",
    "We created a file named `temp_file.txt` following the practice instructions in the previous section. We can remove the file using the following:\n",
    "\n",
    "```bash\n",
    "rm ~/lesson2_exercises/temp_file.txt\n",
    "```\n",
    "Run the `ls` command to verify that the file was removed. Enter the `ls` command you used and the output from it in the cell below"
   ]
  },
  {
   "cell_type": "raw",
   "id": "4674d60c-ce00-426f-ab46-231090cb43df",
   "metadata": {},
   "source": []
  },
  {
   "cell_type": "markdown",
   "id": "8d6b2934-decc-4524-bc79-c650317fdf80",
   "metadata": {},
   "source": [
    "### Removing non-empty directories\n",
    "Remember that the `rmdir` command can be used to remove an empty directory, but if you have a directory that you know you want to remove but you do not want to manually delete every file in the directory first, you can use the `rm` command instead, but you need to instruct it to delete the files within the directory in a recursive manner--to delete all files in all subfolders. In UNIX/Linux and OS X you can recursively remove a folder and its contents by providing the `-rf` flag. In windows we only provide the `-r` flag.\n",
    "\n",
    "<div class=\"alert alert-warning\">\n",
    "    <b>Caution</b>: Be very careful when trying to remove a directory recursively. A simple typo or an extra space where not intended could result in accidentally removing the wrong directory.  Always pause to check the command when using `rm -r`.\n",
    "</div>\n",
    "\n",
    "#### <i class=\"fas fa-puzzle-piece\"></i> Practice\n",
    "To demonstrate, lets first create a new folder:\n",
    "\n",
    "```bash\n",
    "mkdir ~/lesson2_exercises/temp2\n",
    "```\n",
    "\n",
    "And let's create a new file inside of that folder.\n",
    "\n",
    "If on UNIX/Linux and OS X run this:\n",
    "\n",
    "```bash\n",
    "touch ~/lesson2_exercises/temp2/test.txt\n",
    "```\n",
    "\n",
    "If on Windows Powershell run this:\n",
    "\n",
    "```bash\n",
    "ni ~/lesson2_exercises/temp2/test.txt\n",
    "```\n",
    "\n",
    "Next, we can recursively remove the folder and all contents. In UNIX/Linux and OS X you can recursively remove a folder and its contents by providing the `-rf` flag.\n",
    "\n",
    "```bash\n",
    "rm -rf ~/lesson2_exercises/temp2\n",
    "```\n",
    "\n",
    "In windows we only provide the `-r` flag:\n",
    "\n",
    "```bash\n",
    "rm -r ~/lesson2_exercises/temp2\n",
    "```\n",
    "\n",
    "Enter all of the commands in the cell below that you ran during this practice exercise:"
   ]
  },
  {
   "cell_type": "raw",
   "id": "c1cbe021-b7a8-405f-a916-00f1a57fa3a4",
   "metadata": {},
   "source": []
  },
  {
   "cell_type": "markdown",
   "id": "c9fd448b-8d90-42dd-a3ea-95cf57ddacbd",
   "metadata": {},
   "source": [
    "Run an `ls` command before and after removal of the directory to demonstrate creation and removal of the directory. Enter the output from `ls` command after creation below:"
   ]
  },
  {
   "cell_type": "raw",
   "id": "c8ff6f1d-174e-4db5-b1ab-f4afb02f1693",
   "metadata": {},
   "source": []
  },
  {
   "cell_type": "markdown",
   "id": "64685cdc-0695-4264-a66f-a46831f68a37",
   "metadata": {},
   "source": [
    "Enter the output from the `ls` command after removal:"
   ]
  },
  {
   "cell_type": "raw",
   "id": "224818fb-0c19-4617-9d59-64515997b512",
   "metadata": {},
   "source": []
  },
  {
   "cell_type": "markdown",
   "id": "8cccc214-8acd-40ee-b71a-1275c7cd24e0",
   "metadata": {},
   "source": [
    "### The `mv` command\n",
    "The `mv` command is used to move or rename a file.  It takes two arguments: the path to the original file and the path to where the file should be moved. You can use `mv` to both move and rename a file at the same time.\n",
    "\n",
    "#### <i class=\"fas fa-puzzle-piece\"></i> Practice Moving\n",
    "To demonstrate moving a file lets create two new directories:\n",
    "```bash\n",
    "mkdir ~/lesson2_exercises/temp3\n",
    "mkdir ~/lesson2_exercises/temp4\n",
    "```\n",
    "Now lets create a new file in the `~/temp3` folder.  \n",
    "\n",
    "On UNIX/Linux or OS X run this:\n",
    "```bash\n",
    "touch ~/lesson2_exercises/temp3/test.txt\n",
    "```\n",
    "\n",
    "On Windows Powershell run this:\n",
    "```bash\n",
    "ni ~/lesson2_exercises/temp3/test.txt\n",
    "```\n",
    "\n",
    "Now we can move the file from the `~/temp3` directory to teh `~/temp4` directory using the `mv` command:\n",
    "\n",
    "```bash\n",
    "mv ~/lesson2_exercises/temp3/test.txt ~/lesson2_exercises/temp4\n",
    "```\n",
    "\n",
    "Run the `ls` command in  the `~/temp3`.  Copy the output in the cell below."
   ]
  },
  {
   "cell_type": "raw",
   "id": "d1b3e1ea-40fe-4c5a-9a3f-b8cbebda1fe4",
   "metadata": {},
   "source": []
  },
  {
   "cell_type": "markdown",
   "id": "c8c16916-f006-4150-86cb-cc2a44c8f34b",
   "metadata": {},
   "source": [
    "Run the `ls` command in the `~/temp4`.  Copy the output in the cell below."
   ]
  },
  {
   "cell_type": "raw",
   "id": "ea89766c-2e64-459f-bfe1-5357dfc4a472",
   "metadata": {},
   "source": []
  },
  {
   "cell_type": "markdown",
   "id": "28e82d6b-3ecc-4b0f-8c06-f47e1f69f94b",
   "metadata": {},
   "source": [
    "#### <i class=\"fas fa-puzzle-piece\"></i> Practice Renaming\n",
    "To demonstrate renaming a file, let's create new new file. On UNIX/Linux or OS :\n",
    "\n",
    "```bash\n",
    "touch ~/lesson2_exercises/temp3/test2.txt\n",
    "```\n",
    "\n",
    "On Windows:\n",
    "```bash\n",
    "ni ~/lesson2_exercises/temp3/test2.txt\n",
    "```\n",
    "\n",
    "Suppose we want to rename the file as `test3.txt` instead of `test2.txt`. The following command will accomplish this:\n",
    "\n",
    "```bash\n",
    "mv ~/lesson2_exercises/temp3/test2.txt ~/lesson2_exercises/temp3/test3.txt\n",
    "```\n",
    "\n",
    "To demonstrate using the `mv` command without a relative path we can use the `mv` command directly in the temp3 folder. Lets name the file back to its original name by first changing to the `~/temp3` folder and then using the `mv` command:\n",
    "\n",
    "```bash\n",
    "cd ~/lesson2_exercises/temp3\n",
    "mv test3.txt test2.txt\n",
    "```\n",
    "\n",
    "Run an `ls` command in the `~/lesson2_exercises/temp3` to verify what it contains. Enter hte output from the command in the cell below\n"
   ]
  },
  {
   "cell_type": "raw",
   "id": "7a5858a2-8d0b-4c4d-b937-665ef6b7e9ed",
   "metadata": {},
   "source": []
  },
  {
   "cell_type": "markdown",
   "id": "458253fc-7759-406b-a258-9ffc6d2f50fd",
   "metadata": {},
   "source": [
    "### The `echo` command\n",
    "The `echo` command can be used to print text to the terminal.  \n",
    "\n",
    "#### <i class=\"fas fa-puzzle-piece\"></i> Practice\n",
    "For example try running the following:\n",
    "\n",
    "```bash\n",
    "echo \"Hi\"\n",
    "```\n",
    "\n",
    "You will see it will print the word \"Hi\" and then give you a new command-prompt.  This may not seem useful by itself but it is helpful if you want to create a new file with specific text.  To create new file with the text \"Hello\" you can use the `echo` command and the **redirect** character, `>`, to save the message to a file.  For example the following command will create a new file named `hello.txt` in your home directory with the word \"Hi\" inside of it.\n",
    "\n",
    "```bash\n",
    "echo \"Hi\" > ~/lesson2_exercises/hello.txt\n",
    "```\n",
    "\n",
    "If you want to add more text to a file you can use the **double redirect** characters: `>>`.\n",
    "\n",
    "```bash\n",
    "echo \"there\" >> ~/lesson2_exercises/hello.txt\n",
    "```\n",
    "If you open the file named `hello.txt` with your favorite text editor, you will see that it contains the two words \"Hi\" and \"there\".  The double redirect causes new messages to be appended to the file whereas the single redirect will create a new file or over write it if it already exists. Enter into the cell below the contents of the `hello.txt` file.\n"
   ]
  },
  {
   "cell_type": "raw",
   "id": "7810d44f-83fb-47a7-9750-aaa938d42cbe",
   "metadata": {},
   "source": []
  },
  {
   "cell_type": "markdown",
   "id": "5bb8bdf3-2190-4e3f-b773-f1371bc215ef",
   "metadata": {},
   "source": [
    "### The `cp` command\n",
    "If you want to copy a file you can do so with the `cp` command.  Just as with the `mv` command it takes two arguments: the name of the file to copy and the new file to copy.  \n",
    "\n",
    "\n",
    "#### <i class=\"fas fa-puzzle-piece\"></i> Practice\n",
    "You created a new file named `hello.txt` by following along with the practice instructions in the previous section. You can create a copy of that file in the following way:\n",
    "\n",
    "```bash\n",
    "cp ~/lesson2_exercises/hello.txt ~/lesson2_exercises/hello_copy.txt\n",
    "```\n",
    "You should now have a file named `hello_copy.txt` with the same contents as the `hello.txt` file. Use the `ls` command to confirm that the copy now exits. Enter the exact `ls` command you used and the output from it into the cell below."
   ]
  },
  {
   "cell_type": "raw",
   "id": "1decba1d-930f-48fe-86e7-ffed45fb5c9e",
   "metadata": {},
   "source": []
  },
  {
   "cell_type": "markdown",
   "id": "cfb8ad26-518e-41e7-85d4-58a4e9b99376",
   "metadata": {},
   "source": [
    "### The `cat` command\n",
    "The `cat` command can be used to print the contents of a text file to the terminal.  It can be handy if the file you want to view is a plain text file (for example, a Python script).  It does not work well for files that are not text, such as binary files.  \n",
    "\n",
    "#### <i class=\"fas fa-puzzle-piece\"></i> Practice\n",
    "Above you created the `hello_copy.txt` file. You can check its contents by typing the following:\n",
    "\n",
    "```bash\n",
    "cat ~/lesson2_exercises/hello_copy.txt\n",
    "```\n",
    "Enter in the cell below the contents of the `hello_copy.txt` file"
   ]
  },
  {
   "cell_type": "raw",
   "id": "b9a6f50d-9a28-4d28-a289-8efce3ba760e",
   "metadata": {},
   "source": []
  },
  {
   "cell_type": "markdown",
   "id": "abe86e5b-7536-4def-821e-e3e4d22691eb",
   "metadata": {},
   "source": [
    "### The `tree` command\n",
    "The `tree` command will print to the terminal a nicely indented list of files, folder and sub folders in the current directory.  Unlike the recursive `ls` command, this listing is helpful for visualization the relationship between the folders and their children.  \n",
    "\n",
    "#### <i class=\"fas fa-puzzle-piece\"></i> Practice\n",
    "Try running the `tree` command in our `lesson2_exercises` folder\n",
    "\n",
    "If on the Windows Powershell use this:\n",
    "\n",
    "```bash\n",
    "cd ~/lesson2_exercises\n",
    "tree /F\n",
    "```\n",
    "\n",
    "If on OS X or UNIX/Linux use this:\n",
    "```bash\n",
    "cd ~/lesson2_exercises\n",
    "tree \n",
    "```\n",
    "The output should similar to this:\n",
    "```\n",
    "Folder PATH listing\n",
    "Volume serial number is 52D0-13E0\n",
    "C:.\n",
    "│   hello.txt\n",
    "│   hello_copy.txt\n",
    "│\n",
    "├───temp3\n",
    "│       test2.txt\n",
    "│\n",
    "└───temp4\n",
    "        test.txt\n",
    "```\n",
    "\n",
    "Enter into the cell below the output of the tree command. Does your output look similar to what is shown above?"
   ]
  },
  {
   "cell_type": "raw",
   "id": "a144034a-71d8-42cf-b490-858c1b61331c",
   "metadata": {},
   "source": []
  },
  {
   "cell_type": "markdown",
   "id": "96ae31de-7698-4a2f-bc23-950b0c161ea7",
   "metadata": {},
   "source": [
    "## Comments\n",
    "Remember that the shell often is itself a programming language?  As you will learn, almost all programming languages provide a way for a programmer to leave messages for others or themselves within their code. These messages are meant to help explain what is happening in the code.  They make the code more readable.  These messages are called **comments**.\n",
    "\n",
    "We will learn more about comments when we learn about Python.  But you may notice throughout this tutorial that some of the command-line instructions will have comments to help you understand them.  Comments on the command-line will have a `#` symbol preceeding them. The Shell will ignore any lines that begin with the `#` character. For example the following command-line instructions have comments embedded:\n",
    "\n",
    "```bash\n",
    "# Go to the home directory.\n",
    "cd ~/lesson2_exercises/\n",
    "\n",
    "# Create a temporary directory.\n",
    "mkdir temp\n",
    "```\n",
    "If you cut-and-paste the code above onto the command-line you will notice that the lines with a preceeding `#` are ignored but the other lines are executed.\n"
   ]
  },
  {
   "cell_type": "markdown",
   "id": "44099eb6-1435-4e9a-92fb-5b6b279dd12c",
   "metadata": {},
   "source": [
    "## More Command-line \n",
    "The shell has a lot more built-in commands and tools than what was just described above.  But for the first two units of this course, these are all the command we will need to know.  In the third unit of this course we'll learn more command-line tools for easy command-line data wrangling. "
   ]
  },
  {
   "cell_type": "markdown",
   "id": "522c7690-56a8-4379-8ea7-4029c42ed5d9",
   "metadata": {},
   "source": [
    "## Keyboard Shortcuts\n",
    "Typing all of these commands can get a bit tedious, especially for long paths. Fortunately the shell often provides some shortcuts that you can use to make typing faster:\n",
    "\n",
    "* <kbd>&#8593;</kbd> Type the up-arrow key when at the command-prompt to cycle up through your most recently entered commands. This is helpful if a command did not work because you made a mistake. You can easily type the up-arrow key, which will cause your last command to reappear exactly as you entered it. You can then correct the mistake and re-run the command. There is no need to re-type the entire thing. \n",
    "* <kbd>&#8595;</kbd> As with the up arrow key, the down arrow lets you browse back down through your command history.  \n",
    "* <kbd>TAB</kbd> When typing a path to a file it can be tedious especially if the file name or path is long. You can often shortcut your typing by typing the tab key after typing the first few letters of the file. For example, if you type `~/cour` + <kbd>TAB</kbd>, the shell will automatically fill in the rest for you.  It cannot fill in the rest if there are multiple files that begin with the same set of letters, so type a few more characters until you can uniquely identify the file.\n",
    "* <kbd>CTRL</kbd> + <kbd>x</kbd> Terminates the current command.  If you are running a command that seems to be stuck this will usually get you out of it and return you to the command-prompt.\n",
    "\n",
    "There are a lot more keyboard shortcuts but these should save you time typing.\n",
    "\n",
    "#### <i class=\"fas fa-puzzle-piece\"></i> Practice\n",
    "Try using each of the keyboard shortcuts above.  Answer in the cell below these questions:\n",
    "- Were you successful at making each shortcut work? If not, which ones?\n",
    "- Are you absolutely amazed?"
   ]
  },
  {
   "cell_type": "raw",
   "id": "0f1eaa7e-724a-4c11-b8ae-3fab3acdf03a",
   "metadata": {},
   "source": []
  },
  {
   "cell_type": "markdown",
   "id": "964e3ad3-d38c-45aa-a3f0-915f0df512b3",
   "metadata": {},
   "source": [
    "## Debugging the Command-Line\n",
    "If you encounter errors when working with the command-line it can be baffeling at times what might be wrong, or why the command you typed did not behave as expected.  Often the shell will provide you with some error message and when you are new to the command-line it can be a bit mysterious what those error messages mean.  It is only through practice and more practice that you begin to recognize common mistakes but initially you may spend too much time trying to figure out what went wrong!  That can be extremely frustrating, especially since you have so many demands on your time.  Therefore, follow these steps to help reduce the amount of time you spend trying to fix things that go wrong.\n",
    "\n",
    "1.  **READ**: When you first presented with an error message pause and read the entire message. Resist the urge to skip over it because it looks foreign.\n",
    "2.  **STOP**: Understand the error message!\n",
    "    - Always remember that error messages tell you exactly what is wrong even if you do not understand what its telling you.  \n",
    "    - Take some time to make sure you understand it.\n",
    "    - Never assume you know what the solution to a problem is unless you understand the error message, because, if you do not understand the error message but think you know what is wrong and apply a fix odds are you may make a mistake and now you have two problems... the original problem and the incorrect fix.  That can quickly become difficult to resolve. \n",
    "    - If you do not understand the message try the following:\n",
    "      - Try to find official documentation for the error message to help you understand it? \n",
    "      - Explore online forums to see if someone else has had the problem. But be careful, these forums can sometimes mislead you.  \n",
    "      - Ask for help from someone you trust!  A co-worker, a fellow student, or the course instructor.  \n",
    "    - If you do understand the error message:\n",
    "      - Test it.  Just like with the scientific method, try performing a test to see if you can repeat the error and confirm that what you think is wrong really is wrong.  \n",
    "3. **NEVER**: skip an error or apply a \"band-aid\" fix to get around it.  If you do not stop to try to understand what went wrong you are setting yourself up for problems later and you will waste time. It's better to spend the time up front to learn than to learn through the school of hard-knocks when something again goes wrong.\n",
    "4. **FIX**: now that you know what's wrong and why its wrong you can fix it. \n",
    "\n",
    "<div class=\"alert alert-warning\">\n",
    "    <b>Important</b>: The more you follow the steps above the better you will get with the command-line and also with Python programming, and the less time, overall you will spend trying to fix problems.\n",
    "</div>\n"
   ]
  },
  {
   "cell_type": "markdown",
   "id": "4db15979-b04e-455f-91ca-886402037c6f",
   "metadata": {},
   "source": [
    "## Please Answer the following Questions"
   ]
  },
  {
   "cell_type": "markdown",
   "id": "591b6c79-7d37-43cf-bbfc-dcdc3bc68123",
   "metadata": {},
   "source": [
    "How much time did you spend on this lesson?"
   ]
  },
  {
   "cell_type": "raw",
   "id": "93f21f1d-9ec3-4d67-a428-0bf01911d926",
   "metadata": {},
   "source": []
  },
  {
   "cell_type": "markdown",
   "id": "8cca510b-4404-4170-ae71-0d4162359648",
   "metadata": {},
   "source": [
    "Is there anything from this lession that is confusing to you?"
   ]
  },
  {
   "cell_type": "raw",
   "id": "2949e2d7-67f1-4b7f-aab4-6864f5999b45",
   "metadata": {},
   "source": []
  },
  {
   "cell_type": "markdown",
   "id": "161ad722-892c-4196-b3ba-11ee22e000df",
   "metadata": {},
   "source": [
    "Do you have suggestions to improve this lesson?"
   ]
  },
  {
   "cell_type": "raw",
   "id": "77860cab-0cb3-4bfe-9be1-c07a4acef63c",
   "metadata": {},
   "source": []
  },
  {
   "cell_type": "markdown",
   "id": "a277bbf9-59c1-4c5f-988b-2b2a2af36584",
   "metadata": {
    "tags": []
   },
   "source": [
    "## Expected Outcomes\n",
    "At this point, you should feel comfortable with the following:\n",
    "\n",
    "- You know what a terminal is.\n",
    "- You know the difference between a terminal and a shell.\n",
    "- You know what a command-prompt is.\n",
    "- You understand the purpose of each of the following commands: pwd, ls, cd, mkdir, rmdir, touch/ni, rm, mv, echo, cp, cat, tree.\n",
    "- You know how to use each of the following commands: pwd, ls, cd, mkdir, rmdir, touch/ni, rm, mv, echo, cp, cat, tree.\n",
    "- You know how to recognize comments in commmand-line \"code\".\n",
    "- You know the keyboard shortcuts that keep you from typing too much."
   ]
  },
  {
   "cell_type": "markdown",
   "id": "fd7c51da-6e92-43a5-80cb-19bab4704f5b",
   "metadata": {
    "tags": []
   },
   "source": [
    "## What to Turn in?\n",
    "Within JupyterLab, select this notebook. Then click `File` > `Download` in the menu.  This will cause the notebook you created to automatically download.  Send this notebook to the instructor via the Canvas assignment."
   ]
  }
 ],
 "metadata": {
  "kernelspec": {
   "display_name": "Python 3 (ipykernel)",
   "language": "python",
   "name": "python3"
  },
  "language_info": {
   "codemirror_mode": {
    "name": "ipython",
    "version": 3
   },
   "file_extension": ".py",
   "mimetype": "text/x-python",
   "name": "python",
   "nbconvert_exporter": "python",
   "pygments_lexer": "ipython3",
   "version": "3.9.7"
  }
 },
 "nbformat": 4,
 "nbformat_minor": 5
}
